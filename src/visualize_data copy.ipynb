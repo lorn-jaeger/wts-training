{
 "cells": [
  {
   "cell_type": "code",
   "execution_count": 7,
   "metadata": {},
   "outputs": [],
   "source": [
    "from pytorch_lightning.utilities import rank_zero_only\n",
    "import torch\n",
    "from dataloader.FireSpreadDataModule import FireSpreadDataModule\n",
    "from pytorch_lightning.cli import LightningCLI\n",
    "from models import SMPModel, BaseModel, ConvLSTMLightning, LogisticRegression  # noqa\n",
    "from models import BaseModel\n",
    "import wandb\n",
    "import os\n",
    "from dataloader.FireSpreadDataset import FireSpreadDataset\n",
    "from dataloader.utils import get_means_stds_missing_values\n",
    "from PIL import Image\n",
    "import torch.nn.functional as F"
   ]
  },
  {
   "cell_type": "code",
   "execution_count": 9,
   "metadata": {},
   "outputs": [
    {
     "name": "stdout",
     "output_type": "stream",
     "text": [
      "Inputs shape:  torch.Size([4, 1, 7, 128, 128])\n",
      "Labels.shape:  torch.Size([4, 128, 128])\n"
     ]
    }
   ],
   "source": [
    "import torch\n",
    "from torch.utils.data import DataLoader\n",
    "from dataloader.FireSpreadDataset import FireSpreadDataset\n",
    "\n",
    "\n",
    "data_dir = \"/home/sl221120/scratch/WildfireSpreadTS_HDF5\"\n",
    "included_fire_years = [2017, 2018, 2019]\n",
    "n_leading_observations = 1\n",
    "crop_side_length = 128\n",
    "load_from_hdf5 = True\n",
    "is_train = True\n",
    "remove_duplicate_features = True\n",
    "stats_years = (2018, 2019)\n",
    "n_leading_observations_test_adjustment = 5\n",
    "features_to_keep = [0, 1, 2, 3, 4, 38, 39]\n",
    "return_doy = False\n",
    "\n",
    "dataset = FireSpreadDataset(\n",
    "    data_dir=data_dir,\n",
    "    included_fire_years=included_fire_years,\n",
    "    n_leading_observations=n_leading_observations,\n",
    "    crop_side_length=crop_side_length,\n",
    "    load_from_hdf5=load_from_hdf5,\n",
    "    is_train=is_train,\n",
    "    remove_duplicate_features=remove_duplicate_features,\n",
    "    stats_years=stats_years,\n",
    "    n_leading_observations_test_adjustment=n_leading_observations_test_adjustment,\n",
    "    features_to_keep=features_to_keep,\n",
    "    return_doy=return_doy\n",
    ")\n",
    "\n",
    "# Create DataLoader\n",
    "data_loader = DataLoader(dataset, batch_size=4, shuffle=True)\n",
    "\n",
    "# Fetch a batch\n",
    "for batch in data_loader:\n",
    "    # Break after getting the first batch\n",
    "    break\n",
    "\n",
    "# If you want to inspect specific parts of the batch:\n",
    "inputs, labels = batch\n",
    "print(\"Inputs shape: \", inputs.shape)\n",
    "print(\"Labels.shape: \", labels.shape)\n"
   ]
  },
  {
   "cell_type": "code",
   "execution_count": 8,
   "metadata": {},
   "outputs": [],
   "source": [
    "xt = (xt / 365.0001).to(torch.int64)\n",
    "xt = F.one_hot(xt, num_classes=366).to(torch.float32)"
   ]
  },
  {
   "cell_type": "code",
   "execution_count": 10,
   "metadata": {},
   "outputs": [
    {
     "data": {
      "text/plain": [
       "torch.Size([37, 5, 366])"
      ]
     },
     "execution_count": 10,
     "metadata": {},
     "output_type": "execute_result"
    }
   ],
   "source": [
    "xt.shape"
   ]
  },
  {
   "cell_type": "code",
   "execution_count": 2,
   "metadata": {},
   "outputs": [
    {
     "name": "stdout",
     "output_type": "stream",
     "text": [
      "['fire_21890013.hdf5', 'fire_21889990.hdf5', 'fire_21459239.hdf5', 'fire_21890010.hdf5', 'fire_21690102.hdf5', 'fire_21998230.hdf5', 'fire_21890078.hdf5', 'fire_21999321.hdf5', 'fire_21688916.hdf5', 'fire_21804589.hdf5', 'fire_21748801.hdf5', 'fire_21890100.hdf5', 'fire_21890058.hdf5', 'fire_21890143.hdf5', 'fire_21890111.hdf5', 'fire_21890087.hdf5', 'fire_21889763.hdf5', 'fire_21999260.hdf5', 'fire_21690064.hdf5', 'fire_21890106.hdf5', 'fire_22258318.hdf5', 'fire_22141571.hdf5', 'fire_21890101.hdf5', 'fire_21805022.hdf5', 'fire_21998081.hdf5', 'fire_21751305.hdf5', 'fire_22258087.hdf5', 'fire_21890091.hdf5', 'fire_21889994.hdf5', 'fire_21615465.hdf5', 'fire_21804895.hdf5', 'fire_22141461.hdf5', 'fire_22141528.hdf5', 'fire_21999354.hdf5', 'fire_21997864.hdf5', 'fire_21890643.hdf5', 'fire_22141465.hdf5', 'fire_21889953.hdf5', 'fire_21889682.hdf5', 'fire_21748798.hdf5', 'fire_21999299.hdf5', 'fire_21459242.hdf5', 'fire_21889798.hdf5', 'fire_22141195.hdf5', 'fire_21889995.hdf5', 'fire_21459234.hdf5', 'fire_22141327.hdf5', 'fire_21688910.hdf5', 'fire_21890019.hdf5', 'fire_21690071.hdf5', 'fire_21458798.hdf5', 'fire_21889697.hdf5', 'fire_21890033.hdf5', 'fire_21999251.hdf5', 'fire_22141577.hdf5', 'fire_21890024.hdf5', 'fire_22257911.hdf5', 'fire_21458836.hdf5', 'fire_21804975.hdf5', 'fire_21998227.hdf5', 'fire_21748813.hdf5', 'fire_21890103.hdf5', 'fire_21890109.hdf5', 'fire_21804961.hdf5', 'fire_21998103.hdf5', 'fire_21890072.hdf5', 'fire_21889744.hdf5', 'fire_21889750.hdf5', 'fire_21999381.hdf5', 'fire_21804883.hdf5', 'fire_22141509.hdf5', 'fire_21458848.hdf5', 'fire_21748766.hdf5', 'fire_22141567.hdf5', 'fire_21890063.hdf5', 'fire_21890007.hdf5', 'fire_21998097.hdf5', 'fire_21998263.hdf5', 'fire_21804899.hdf5', 'fire_22141572.hdf5', 'fire_21997844.hdf5', 'fire_21890098.hdf5', 'fire_21890065.hdf5', 'fire_21890515.hdf5', 'fire_21804884.hdf5', 'fire_21890160.hdf5', 'fire_21890134.hdf5', 'fire_21890054.hdf5', 'fire_21889947.hdf5', 'fire_22141343.hdf5', 'fire_21804893.hdf5', 'fire_21458801.hdf5', 'fire_21804572.hdf5', 'fire_21890056.hdf5', 'fire_21748783.hdf5', 'fire_22257882.hdf5', 'fire_21998265.hdf5', 'fire_21997854.hdf5', 'fire_21999351.hdf5', 'fire_21804985.hdf5', 'fire_22141585.hdf5', 'fire_22141356.hdf5', 'fire_22141576.hdf5', 'fire_21804582.hdf5', 'fire_21889826.hdf5', 'fire_21998100.hdf5', 'fire_21889779.hdf5', 'fire_21804588.hdf5', 'fire_21889992.hdf5', 'fire_21804942.hdf5', 'fire_22343689.hdf5', 'fire_22343688.hdf5', 'fire_21538827.hdf5', 'fire_21998313.hdf5', 'fire_22258421.hdf5', 'fire_21890069.hdf5', 'fire_21690073.hdf5', 'fire_21804577.hdf5', 'fire_22141596.hdf5', 'fire_21890009.hdf5', 'fire_21459249.hdf5', 'fire_21999270.hdf5', 'fire_21804590.hdf5', 'fire_21998264.hdf5', 'fire_22343666.hdf5', 'fire_21751303.hdf5', 'fire_21890170.hdf5', 'fire_21999273.hdf5', 'fire_21998299.hdf5', 'fire_21998152.hdf5', 'fire_21997851.hdf5', 'fire_21804980.hdf5', 'fire_21889683.hdf5', 'fire_22141243.hdf5', 'fire_21889808.hdf5', 'fire_21998143.hdf5', 'fire_22257961.hdf5', 'fire_21890115.hdf5', 'fire_21998023.hdf5', 'fire_21889734.hdf5', 'fire_21751315.hdf5', 'fire_22141554.hdf5', 'fire_21997770.hdf5', 'fire_21998287.hdf5', 'fire_21890137.hdf5', 'fire_21998291.hdf5', 'fire_21890208.hdf5', 'fire_21889719.hdf5', 'fire_21890524.hdf5', 'fire_22141566.hdf5', 'fire_21459253.hdf5', 'fire_21889717.hdf5', 'fire_21998119.hdf5', 'fire_21458806.hdf5', 'fire_21997828.hdf5', 'fire_21889957.hdf5', 'fire_21889997.hdf5', 'fire_21804877.hdf5', 'fire_21617464.hdf5', 'fire_21889986.hdf5', 'fire_21889672.hdf5', 'fire_22343661.hdf5', 'fire_21997775.hdf5', 'fire_22141445.hdf5', 'fire_21615469.hdf5', 'fire_22141426.hdf5', 'fire_21889679.hdf5', 'fire_21998095.hdf5', 'fire_21693353.hdf5', 'fire_21998187.hdf5', 'fire_21889754.hdf5', 'fire_22141683.hdf5', 'fire_21998255.hdf5', 'fire_21890003.hdf5', 'fire_21998157.hdf5', 'fire_21889943.hdf5']\n"
     ]
    }
   ],
   "source": [
    "data_dir = '/home/sl221120/scratch/WildfireSpreadTS_HDF5/2018'\n",
    "print(os.listdir(data_dir))"
   ]
  },
  {
   "cell_type": "code",
   "execution_count": 6,
   "metadata": {},
   "outputs": [
    {
     "ename": "RuntimeError",
     "evalue": "The expanded size of the tensor (-1) isn't allowed in a leading, non-existing dimension 0",
     "output_type": "error",
     "traceback": [
      "\u001b[0;31m---------------------------------------------------------------------------\u001b[0m",
      "\u001b[0;31mRuntimeError\u001b[0m                              Traceback (most recent call last)",
      "\u001b[1;32m/home/sl221120/WildfireSpreadTS/src/visualize_data copy.ipynb Cell 3\u001b[0m line \u001b[0;36m1\n\u001b[1;32m     <a href='vscode-notebook-cell://ssh-remote%2Bjmgpu2.cs.umt.edu/home/sl221120/WildfireSpreadTS/src/visualize_data%20copy.ipynb#W2sdnNjb2RlLXJlbW90ZQ%3D%3D?line=16'>17</a>\u001b[0m doys \u001b[39m=\u001b[39m torch\u001b[39m.\u001b[39mTensor(doys)\n\u001b[1;32m     <a href='vscode-notebook-cell://ssh-remote%2Bjmgpu2.cs.umt.edu/home/sl221120/WildfireSpreadTS/src/visualize_data%20copy.ipynb#W2sdnNjb2RlLXJlbW90ZQ%3D%3D?line=17'>18</a>\u001b[0m doys \u001b[39m=\u001b[39m doys\u001b[39m.\u001b[39munsqueeze(\u001b[39m-\u001b[39m\u001b[39m1\u001b[39m)\u001b[39m.\u001b[39munsqueeze(\u001b[39m-\u001b[39m\u001b[39m1\u001b[39m)\n\u001b[0;32m---> <a href='vscode-notebook-cell://ssh-remote%2Bjmgpu2.cs.umt.edu/home/sl221120/WildfireSpreadTS/src/visualize_data%20copy.ipynb#W2sdnNjb2RlLXJlbW90ZQ%3D%3D?line=18'>19</a>\u001b[0m doys \u001b[39m=\u001b[39m doys\u001b[39m.\u001b[39;49mexpand(\u001b[39m-\u001b[39;49m\u001b[39m1\u001b[39;49m, \u001b[39m-\u001b[39;49m\u001b[39m1\u001b[39;49m, \u001b[39m224\u001b[39;49m, \u001b[39m224\u001b[39;49m)\n\u001b[1;32m     <a href='vscode-notebook-cell://ssh-remote%2Bjmgpu2.cs.umt.edu/home/sl221120/WildfireSpreadTS/src/visualize_data%20copy.ipynb#W2sdnNjb2RlLXJlbW90ZQ%3D%3D?line=19'>20</a>\u001b[0m \u001b[39mprint\u001b[39m(doys)\n",
      "\u001b[0;31mRuntimeError\u001b[0m: The expanded size of the tensor (-1) isn't allowed in a leading, non-existing dimension 0"
     ]
    }
   ],
   "source": [
    "import h5py\n",
    "from datetime import datetime\n",
    "filename = \"/home/sl221120/scratch/WildfireSpreadTS_HDF5/2018/fire_21890013.hdf5\"\n",
    "\n",
    "in_fire_index = 0\n",
    "end_index = 6\n",
    "with h5py.File(filename, \"r\") as f:\n",
    "    # Print all root level object names (aka keys) \n",
    "    # these can be group or dataset names \n",
    "    imgs = f[\"data\"][in_fire_index:end_index]\n",
    "    doys = f[\"data\"].attrs[\"img_dates\"][in_fire_index:(\n",
    "        end_index-1)]\n",
    "    date_format = \"%Y-%m-%d\"\n",
    "        # In old preprocessing, the dates still had a TIF file extension, which is also removed here.\n",
    "    doys = [datetime.strptime(img_date.replace(\".tif\", \"\"), date_format).timetuple().tm_yday for img_date in doys]\n",
    "    #doys = self.img_dates_to_doys(doys)\n",
    "    doys = torch.Tensor(doys)\n",
    "    doys = doys.unsqueeze(-1).unsqueeze(-1)\n",
    "    doys = doys.expand(-1, -1, 224, 224)\n",
    "    print(doys)\n",
    "\n",
    "\n",
    "\n"
   ]
  },
  {
   "cell_type": "code",
   "execution_count": 14,
   "metadata": {},
   "outputs": [
    {
     "ename": "TypeError",
     "evalue": "FireSpreadDataModule.setup() missing 1 required positional argument: 'stage'",
     "output_type": "error",
     "traceback": [
      "\u001b[0;31m---------------------------------------------------------------------------\u001b[0m",
      "\u001b[0;31mTypeError\u001b[0m                                 Traceback (most recent call last)",
      "\u001b[1;32m/home/sl221120/WildfireSpreadTS/src/visualize_data copy.ipynb Cell 4\u001b[0m line \u001b[0;36m2\n\u001b[1;32m     <a href='vscode-notebook-cell://ssh-remote%2Bjmgpu2.cs.umt.edu/home/sl221120/WildfireSpreadTS/src/visualize_data%20copy.ipynb#W1sdnNjb2RlLXJlbW90ZQ%3D%3D?line=14'>15</a>\u001b[0m data_module \u001b[39m=\u001b[39m FireSpreadDataModule(\n\u001b[1;32m     <a href='vscode-notebook-cell://ssh-remote%2Bjmgpu2.cs.umt.edu/home/sl221120/WildfireSpreadTS/src/visualize_data%20copy.ipynb#W1sdnNjb2RlLXJlbW90ZQ%3D%3D?line=15'>16</a>\u001b[0m     data_dir\u001b[39m=\u001b[39mdata_dir,\n\u001b[1;32m     <a href='vscode-notebook-cell://ssh-remote%2Bjmgpu2.cs.umt.edu/home/sl221120/WildfireSpreadTS/src/visualize_data%20copy.ipynb#W1sdnNjb2RlLXJlbW90ZQ%3D%3D?line=16'>17</a>\u001b[0m     batch_size\u001b[39m=\u001b[39mbatch_size,\n\u001b[0;32m   (...)\u001b[0m\n\u001b[1;32m     <a href='vscode-notebook-cell://ssh-remote%2Bjmgpu2.cs.umt.edu/home/sl221120/WildfireSpreadTS/src/visualize_data%20copy.ipynb#W1sdnNjb2RlLXJlbW90ZQ%3D%3D?line=22'>23</a>\u001b[0m     remove_duplicate_features\u001b[39m=\u001b[39mremove_duplicate_features\n\u001b[1;32m     <a href='vscode-notebook-cell://ssh-remote%2Bjmgpu2.cs.umt.edu/home/sl221120/WildfireSpreadTS/src/visualize_data%20copy.ipynb#W1sdnNjb2RlLXJlbW90ZQ%3D%3D?line=23'>24</a>\u001b[0m )\n\u001b[1;32m     <a href='vscode-notebook-cell://ssh-remote%2Bjmgpu2.cs.umt.edu/home/sl221120/WildfireSpreadTS/src/visualize_data%20copy.ipynb#W1sdnNjb2RlLXJlbW90ZQ%3D%3D?line=25'>26</a>\u001b[0m \u001b[39m# Setup the data module to prepare the datasets\u001b[39;00m\n\u001b[0;32m---> <a href='vscode-notebook-cell://ssh-remote%2Bjmgpu2.cs.umt.edu/home/sl221120/WildfireSpreadTS/src/visualize_data%20copy.ipynb#W1sdnNjb2RlLXJlbW90ZQ%3D%3D?line=26'>27</a>\u001b[0m data_module\u001b[39m.\u001b[39;49msetup()\n\u001b[1;32m     <a href='vscode-notebook-cell://ssh-remote%2Bjmgpu2.cs.umt.edu/home/sl221120/WildfireSpreadTS/src/visualize_data%20copy.ipynb#W1sdnNjb2RlLXJlbW90ZQ%3D%3D?line=28'>29</a>\u001b[0m \u001b[39m# Get a batch from the training data loader\u001b[39;00m\n\u001b[1;32m     <a href='vscode-notebook-cell://ssh-remote%2Bjmgpu2.cs.umt.edu/home/sl221120/WildfireSpreadTS/src/visualize_data%20copy.ipynb#W1sdnNjb2RlLXJlbW90ZQ%3D%3D?line=29'>30</a>\u001b[0m train_dataloader \u001b[39m=\u001b[39m data_module\u001b[39m.\u001b[39mtrain_dataloader()\n",
      "\u001b[0;31mTypeError\u001b[0m: FireSpreadDataModule.setup() missing 1 required positional argument: 'stage'"
     ]
    }
   ],
   "source": [
    "import torch\n",
    "from dataloader.FireSpreadDataModule import FireSpreadDataModule\n",
    "\n",
    "# Define the necessary parameters\n",
    "data_dir = '/home/sl221120/scratch/WildfireSpreadTS_HDF5'\n",
    "batch_size = 1\n",
    "n_leading_observations = 5  # For 5 days of observation\n",
    "n_leading_observations_test_adjustment = 5  # Adjust based on your requirement\n",
    "crop_side_length = 256  # Example value, adjust as needed\n",
    "load_from_hdf5 = True  # Adjust based on your data format\n",
    "num_workers = 4  # Number of workers for data loading\n",
    "remove_duplicate_features = True  # Adjust based on your data preprocessing\n",
    "\n",
    "# Initialize the data module with the defined parameters\n",
    "data_module = FireSpreadDataModule(\n",
    "    data_dir=data_dir,\n",
    "    batch_size=batch_size,\n",
    "    n_leading_observations=n_leading_observations,\n",
    "    n_leading_observations_test_adjustment=n_leading_observations_test_adjustment,\n",
    "    crop_side_length=crop_side_length,\n",
    "    load_from_hdf5=load_from_hdf5,\n",
    "    num_workers=num_workers,\n",
    "    remove_duplicate_features=remove_duplicate_features\n",
    ")\n",
    "\n",
    "# Setup the data module to prepare the datasets\n",
    "data_module.setup()\n",
    "\n",
    "# Get a batch from the training data loader\n",
    "train_dataloader = data_module.train_dataloader()\n",
    "data_iter = iter(train_dataloader)\n",
    "sample_data, _ = next(data_iter)\n",
    "\n",
    "# Print the shape of the sample data\n",
    "print(f\"Sample data shape: {sample_data.shape}\")\n"
   ]
  },
  {
   "cell_type": "code",
   "execution_count": 15,
   "metadata": {},
   "outputs": [
    {
     "name": "stdout",
     "output_type": "stream",
     "text": [
      "Using the following dataset split:\n",
      "Train years: [2018, 2019], Val years: [2020], Test years: [2021]\n",
      "Sample data shape: torch.Size([1, 35, 128, 128])\n",
      "Number of features from get_n_features: 35\n",
      "Number of channels from sample data shape: 35\n",
      "Comparison - Sample data channels: 35, Computed features: 35\n"
     ]
    }
   ],
   "source": [
    "import torch\n",
    "from dataloader.FireSpreadDataModule import FireSpreadDataModule\n",
    "from dataloader.FireSpreadDataset import FireSpreadDataset\n",
    "\n",
    "# Define the necessary parameters for FireSpreadDataModule\n",
    "data_dir = '/home/sl221120/scratch/WildfireSpreadTS_HDF5'\n",
    "batch_size = 1\n",
    "n_leading_observations = 5  # For 5 days of observation\n",
    "n_leading_observations_test_adjustment = 5  # Adjust based on your requirement\n",
    "crop_side_length = 128  # Example value, adjust as needed\n",
    "load_from_hdf5 = True  # Adjust based on your data format\n",
    "num_workers = 4  # Number of workers for data loading\n",
    "features_to_keep=[0, 1, 2, 3, 4, 38, 39]\n",
    "remove_duplicate_features = True  # Adjust based on your data preprocessing\n",
    "\n",
    "# Initialize the data module with the defined parameters\n",
    "data_module = FireSpreadDataModule(\n",
    "    data_dir=data_dir,\n",
    "    batch_size=batch_size,\n",
    "    n_leading_observations=n_leading_observations,\n",
    "    n_leading_observations_test_adjustment=n_leading_observations_test_adjustment,\n",
    "    crop_side_length=crop_side_length,\n",
    "    load_from_hdf5=load_from_hdf5,\n",
    "    num_workers=num_workers,\n",
    "    features_to_keep=features_to_keep,\n",
    "    remove_duplicate_features=remove_duplicate_features\n",
    ")\n",
    "\n",
    "# Setup the data module to prepare the datasets\n",
    "data_module.setup(stage='')\n",
    "\n",
    "# Get a batch from the training data loader\n",
    "train_dataloader = data_module.train_dataloader()\n",
    "data_iter = iter(train_dataloader)\n",
    "sample_data, _ = next(data_iter)\n",
    "\n",
    "# Print the shape of the sample data\n",
    "print(f\"Sample data shape: {sample_data.shape}\")\n",
    "\n",
    "# Parameters for get_n_features\n",
    "n_observations = 5  # For 5 days of observation\n",
    "features_to_keep = [0, 1, 2, 3, 4, 38, 39]  # Use None to keep all features or specify a list of feature indices to keep\n",
    "deduplicate_static_features = True  # Adjust based on your data preprocessing\n",
    "\n",
    "# Call the get_n_features method\n",
    "n_features = FireSpreadDataset.get_n_features(n_observations, features_to_keep, deduplicate_static_features)\n",
    "\n",
    "# Print the number of features from get_n_features\n",
    "print(f\"Number of features from get_n_features: {n_features}\")\n",
    "\n",
    "# Compare the number of channels from sample data shape and get_n_features\n",
    "sample_n_channels = sample_data.shape[1]\n",
    "print(f\"Number of channels from sample data shape: {sample_n_channels}\")\n",
    "\n",
    "# Compare both values\n",
    "print(f\"Comparison - Sample data channels: {sample_n_channels}, Computed features: {n_features}\")\n"
   ]
  },
  {
   "cell_type": "code",
   "execution_count": 17,
   "metadata": {},
   "outputs": [
    {
     "ename": "RasterioIOError",
     "evalue": "/home/sl636/TS_data/2018/fire_21458798/2018-01-01.tif: No such file or directory",
     "output_type": "error",
     "traceback": [
      "\u001b[0;31m---------------------------------------------------------------------------\u001b[0m",
      "\u001b[0;31mCPLE_OpenFailedError\u001b[0m                      Traceback (most recent call last)",
      "File \u001b[0;32mrasterio/_base.pyx:308\u001b[0m, in \u001b[0;36mrasterio._base.DatasetBase.__init__\u001b[0;34m()\u001b[0m\n",
      "File \u001b[0;32mrasterio/_base.pyx:219\u001b[0m, in \u001b[0;36mrasterio._base.open_dataset\u001b[0;34m()\u001b[0m\n",
      "File \u001b[0;32mrasterio/_err.pyx:221\u001b[0m, in \u001b[0;36mrasterio._err.exc_wrap_pointer\u001b[0;34m()\u001b[0m\n",
      "\u001b[0;31mCPLE_OpenFailedError\u001b[0m: /home/sl636/TS_data/2018/fire_21458798/2018-01-01.tif: No such file or directory",
      "\nDuring handling of the above exception, another exception occurred:\n",
      "\u001b[0;31mRasterioIOError\u001b[0m                           Traceback (most recent call last)",
      "\u001b[1;32m/home/sl221120/WildfireSpreadTS/src/visualize_data copy.ipynb Cell 6\u001b[0m line \u001b[0;36m9\n\u001b[1;32m      <a href='vscode-notebook-cell://ssh-remote%2Bjmgpu2.cs.umt.edu/home/sl221120/WildfireSpreadTS/src/visualize_data%20copy.ipynb#W3sdnNjb2RlLXJlbW90ZQ%3D%3D?line=3'>4</a>\u001b[0m \u001b[39mimport\u001b[39;00m \u001b[39mos\u001b[39;00m\n\u001b[1;32m      <a href='vscode-notebook-cell://ssh-remote%2Bjmgpu2.cs.umt.edu/home/sl221120/WildfireSpreadTS/src/visualize_data%20copy.ipynb#W3sdnNjb2RlLXJlbW90ZQ%3D%3D?line=7'>8</a>\u001b[0m img_path \u001b[39m=\u001b[39m \u001b[39m\"\u001b[39m\u001b[39m/home/sl636/TS_data/2018/fire_21458798/2018-01-01.tif\u001b[39m\u001b[39m\"\u001b[39m\n\u001b[0;32m----> <a href='vscode-notebook-cell://ssh-remote%2Bjmgpu2.cs.umt.edu/home/sl221120/WildfireSpreadTS/src/visualize_data%20copy.ipynb#W3sdnNjb2RlLXJlbW90ZQ%3D%3D?line=8'>9</a>\u001b[0m \u001b[39mwith\u001b[39;00m rasterio\u001b[39m.\u001b[39;49mopen(img_path, \u001b[39m'\u001b[39;49m\u001b[39mr\u001b[39;49m\u001b[39m'\u001b[39;49m) \u001b[39mas\u001b[39;00m f:\n\u001b[1;32m     <a href='vscode-notebook-cell://ssh-remote%2Bjmgpu2.cs.umt.edu/home/sl221120/WildfireSpreadTS/src/visualize_data%20copy.ipynb#W3sdnNjb2RlLXJlbW90ZQ%3D%3D?line=9'>10</a>\u001b[0m     img \u001b[39m=\u001b[39m f\u001b[39m.\u001b[39mread()\n\u001b[1;32m     <a href='vscode-notebook-cell://ssh-remote%2Bjmgpu2.cs.umt.edu/home/sl221120/WildfireSpreadTS/src/visualize_data%20copy.ipynb#W3sdnNjb2RlLXJlbW90ZQ%3D%3D?line=11'>12</a>\u001b[0m labels \u001b[39m=\u001b[39m        {\u001b[39m0\u001b[39m: \u001b[39m'\u001b[39m\u001b[39mM11\u001b[39m\u001b[39m'\u001b[39m,\n\u001b[1;32m     <a href='vscode-notebook-cell://ssh-remote%2Bjmgpu2.cs.umt.edu/home/sl221120/WildfireSpreadTS/src/visualize_data%20copy.ipynb#W3sdnNjb2RlLXJlbW90ZQ%3D%3D?line=12'>13</a>\u001b[0m                 \u001b[39m1\u001b[39m: \u001b[39m'\u001b[39m\u001b[39mI2\u001b[39m\u001b[39m'\u001b[39m,\n\u001b[1;32m     <a href='vscode-notebook-cell://ssh-remote%2Bjmgpu2.cs.umt.edu/home/sl221120/WildfireSpreadTS/src/visualize_data%20copy.ipynb#W3sdnNjb2RlLXJlbW90ZQ%3D%3D?line=13'>14</a>\u001b[0m                 \u001b[39m2\u001b[39m: \u001b[39m'\u001b[39m\u001b[39mI1\u001b[39m\u001b[39m'\u001b[39m,\n\u001b[0;32m   (...)\u001b[0m\n\u001b[1;32m     <a href='vscode-notebook-cell://ssh-remote%2Bjmgpu2.cs.umt.edu/home/sl221120/WildfireSpreadTS/src/visualize_data%20copy.ipynb#W3sdnNjb2RlLXJlbW90ZQ%3D%3D?line=32'>33</a>\u001b[0m                 \u001b[39m21\u001b[39m: \u001b[39m'\u001b[39m\u001b[39mf_humidity\u001b[39m\u001b[39m'\u001b[39m,\n\u001b[1;32m     <a href='vscode-notebook-cell://ssh-remote%2Bjmgpu2.cs.umt.edu/home/sl221120/WildfireSpreadTS/src/visualize_data%20copy.ipynb#W3sdnNjb2RlLXJlbW90ZQ%3D%3D?line=33'>34</a>\u001b[0m                 \u001b[39m22\u001b[39m: \u001b[39m'\u001b[39m\u001b[39mactive fire\u001b[39m\u001b[39m'\u001b[39m}\n",
      "File \u001b[0;32m~/anaconda3/envs/fire_ts/lib/python3.10/site-packages/rasterio/env.py:451\u001b[0m, in \u001b[0;36mensure_env_with_credentials.<locals>.wrapper\u001b[0;34m(*args, **kwds)\u001b[0m\n\u001b[1;32m    448\u001b[0m     session \u001b[39m=\u001b[39m DummySession()\n\u001b[1;32m    450\u001b[0m \u001b[39mwith\u001b[39;00m env_ctor(session\u001b[39m=\u001b[39msession):\n\u001b[0;32m--> 451\u001b[0m     \u001b[39mreturn\u001b[39;00m f(\u001b[39m*\u001b[39;49margs, \u001b[39m*\u001b[39;49m\u001b[39m*\u001b[39;49mkwds)\n",
      "File \u001b[0;32m~/anaconda3/envs/fire_ts/lib/python3.10/site-packages/rasterio/__init__.py:304\u001b[0m, in \u001b[0;36mopen\u001b[0;34m(fp, mode, driver, width, height, count, crs, transform, dtype, nodata, sharing, **kwargs)\u001b[0m\n\u001b[1;32m    301\u001b[0m path \u001b[39m=\u001b[39m _parse_path(raw_dataset_path)\n\u001b[1;32m    303\u001b[0m \u001b[39mif\u001b[39;00m mode \u001b[39m==\u001b[39m \u001b[39m\"\u001b[39m\u001b[39mr\u001b[39m\u001b[39m\"\u001b[39m:\n\u001b[0;32m--> 304\u001b[0m     dataset \u001b[39m=\u001b[39m DatasetReader(path, driver\u001b[39m=\u001b[39;49mdriver, sharing\u001b[39m=\u001b[39;49msharing, \u001b[39m*\u001b[39;49m\u001b[39m*\u001b[39;49mkwargs)\n\u001b[1;32m    305\u001b[0m \u001b[39melif\u001b[39;00m mode \u001b[39m==\u001b[39m \u001b[39m\"\u001b[39m\u001b[39mr+\u001b[39m\u001b[39m\"\u001b[39m:\n\u001b[1;32m    306\u001b[0m     dataset \u001b[39m=\u001b[39m get_writer_for_path(path, driver\u001b[39m=\u001b[39mdriver)(\n\u001b[1;32m    307\u001b[0m         path, mode, driver\u001b[39m=\u001b[39mdriver, sharing\u001b[39m=\u001b[39msharing, \u001b[39m*\u001b[39m\u001b[39m*\u001b[39mkwargs\n\u001b[1;32m    308\u001b[0m     )\n",
      "File \u001b[0;32mrasterio/_base.pyx:310\u001b[0m, in \u001b[0;36mrasterio._base.DatasetBase.__init__\u001b[0;34m()\u001b[0m\n",
      "\u001b[0;31mRasterioIOError\u001b[0m: /home/sl636/TS_data/2018/fire_21458798/2018-01-01.tif: No such file or directory"
     ]
    }
   ],
   "source": [
    "import rasterio\n",
    "import matplotlib.pyplot as plt   \n",
    "import numpy as np\n",
    "import os\n",
    "\n",
    "\n",
    "\n",
    "img_path = \"/home/sl636/TS_data/2018/fire_21458798/2018-01-01.tif\"\n",
    "with rasterio.open(img_path, 'r') as f:\n",
    "    img = f.read()\n",
    "\n",
    "labels =        {0: 'M11',\n",
    "                1: 'I2',\n",
    "                2: 'I1',\n",
    "                3: 'NDVI',\n",
    "                4: 'EVI2',\n",
    "                5: 'precip',\n",
    "                6: 'windspeed',\n",
    "                7: 'winddir',\n",
    "                8: 'mintemp',\n",
    "                9: 'maxtemp',\n",
    "                10: 'ERC',\n",
    "                11: 'humidity',\n",
    "                12: 'slope',\n",
    "                13: 'aspect',\n",
    "                14: 'elevation',\n",
    "                15: 'pdsi',\n",
    "                16: 'Landcover',\n",
    "                17: 'f_precip',\n",
    "                18: 'f_windspeed',\n",
    "                19: 'f_winddir',\n",
    "                20: 'f_temp',\n",
    "                21: 'f_humidity',\n",
    "                22: 'active fire'}\n",
    "fig, ax = plt.subplots(4,6, figsize=(12, 12))\n",
    "for i, current_ax in enumerate(ax.flat):\n",
    "    current_ax.axis('off')\n",
    "    if i<=22:\n",
    "        current_ax.imshow(np.nan_to_num(img[i,...],0.0))\n",
    "        current_ax.set_title(labels[i])\n",
    "plt.tight_layout()\n",
    "        \n"
   ]
  },
  {
   "cell_type": "code",
   "execution_count": 18,
   "metadata": {},
   "outputs": [
    {
     "ename": "NameError",
     "evalue": "name 'img' is not defined",
     "output_type": "error",
     "traceback": [
      "\u001b[0;31m---------------------------------------------------------------------------\u001b[0m",
      "\u001b[0;31mNameError\u001b[0m                                 Traceback (most recent call last)",
      "\u001b[1;32m/home/sl221120/WildfireSpreadTS/src/visualize_data copy.ipynb Cell 7\u001b[0m line \u001b[0;36m1\n\u001b[0;32m----> <a href='vscode-notebook-cell://ssh-remote%2Bjmgpu2.cs.umt.edu/home/sl221120/WildfireSpreadTS/src/visualize_data%20copy.ipynb#W4sdnNjb2RlLXJlbW90ZQ%3D%3D?line=0'>1</a>\u001b[0m img[\u001b[39m22\u001b[39m,\u001b[39m.\u001b[39m\u001b[39m.\u001b[39m\u001b[39m.\u001b[39m]\u001b[39m.\u001b[39mshape\n",
      "\u001b[0;31mNameError\u001b[0m: name 'img' is not defined"
     ]
    }
   ],
   "source": [
    "img[22,...].shape"
   ]
  },
  {
   "cell_type": "code",
   "execution_count": 19,
   "metadata": {},
   "outputs": [
    {
     "ename": "FileNotFoundError",
     "evalue": "[Errno 2] No such file or directory: '/home/sl636/WildfireSpreadTS/lightning_logs/predictions_gcmiitbv.pt'",
     "output_type": "error",
     "traceback": [
      "\u001b[0;31m---------------------------------------------------------------------------\u001b[0m",
      "\u001b[0;31mFileNotFoundError\u001b[0m                         Traceback (most recent call last)",
      "\u001b[1;32m/home/sl221120/WildfireSpreadTS/src/visualize_data copy.ipynb Cell 8\u001b[0m line \u001b[0;36m5\n\u001b[1;32m      <a href='vscode-notebook-cell://ssh-remote%2Bjmgpu2.cs.umt.edu/home/sl221120/WildfireSpreadTS/src/visualize_data%20copy.ipynb#W5sdnNjb2RlLXJlbW90ZQ%3D%3D?line=0'>1</a>\u001b[0m \u001b[39mimport\u001b[39;00m \u001b[39mtorch\u001b[39;00m\n\u001b[1;32m      <a href='vscode-notebook-cell://ssh-remote%2Bjmgpu2.cs.umt.edu/home/sl221120/WildfireSpreadTS/src/visualize_data%20copy.ipynb#W5sdnNjb2RlLXJlbW90ZQ%3D%3D?line=2'>3</a>\u001b[0m predictions_file_name\u001b[39m=\u001b[39m\u001b[39m\"\u001b[39m\u001b[39m/home/sl636/WildfireSpreadTS/lightning_logs/predictions_gcmiitbv.pt\u001b[39m\u001b[39m\"\u001b[39m\n\u001b[0;32m----> <a href='vscode-notebook-cell://ssh-remote%2Bjmgpu2.cs.umt.edu/home/sl221120/WildfireSpreadTS/src/visualize_data%20copy.ipynb#W5sdnNjb2RlLXJlbW90ZQ%3D%3D?line=4'>5</a>\u001b[0m fire_masks_combined \u001b[39m=\u001b[39m torch\u001b[39m.\u001b[39;49mload(predictions_file_name)\n",
      "File \u001b[0;32m~/anaconda3/envs/fire_ts/lib/python3.10/site-packages/torch/serialization.py:791\u001b[0m, in \u001b[0;36mload\u001b[0;34m(f, map_location, pickle_module, weights_only, **pickle_load_args)\u001b[0m\n\u001b[1;32m    788\u001b[0m \u001b[39mif\u001b[39;00m \u001b[39m'\u001b[39m\u001b[39mencoding\u001b[39m\u001b[39m'\u001b[39m \u001b[39mnot\u001b[39;00m \u001b[39min\u001b[39;00m pickle_load_args\u001b[39m.\u001b[39mkeys():\n\u001b[1;32m    789\u001b[0m     pickle_load_args[\u001b[39m'\u001b[39m\u001b[39mencoding\u001b[39m\u001b[39m'\u001b[39m] \u001b[39m=\u001b[39m \u001b[39m'\u001b[39m\u001b[39mutf-8\u001b[39m\u001b[39m'\u001b[39m\n\u001b[0;32m--> 791\u001b[0m \u001b[39mwith\u001b[39;00m _open_file_like(f, \u001b[39m'\u001b[39;49m\u001b[39mrb\u001b[39;49m\u001b[39m'\u001b[39;49m) \u001b[39mas\u001b[39;00m opened_file:\n\u001b[1;32m    792\u001b[0m     \u001b[39mif\u001b[39;00m _is_zipfile(opened_file):\n\u001b[1;32m    793\u001b[0m         \u001b[39m# The zipfile reader is going to advance the current file position.\u001b[39;00m\n\u001b[1;32m    794\u001b[0m         \u001b[39m# If we want to actually tail call to torch.jit.load, we need to\u001b[39;00m\n\u001b[1;32m    795\u001b[0m         \u001b[39m# reset back to the original position.\u001b[39;00m\n\u001b[1;32m    796\u001b[0m         orig_position \u001b[39m=\u001b[39m opened_file\u001b[39m.\u001b[39mtell()\n",
      "File \u001b[0;32m~/anaconda3/envs/fire_ts/lib/python3.10/site-packages/torch/serialization.py:271\u001b[0m, in \u001b[0;36m_open_file_like\u001b[0;34m(name_or_buffer, mode)\u001b[0m\n\u001b[1;32m    269\u001b[0m \u001b[39mdef\u001b[39;00m \u001b[39m_open_file_like\u001b[39m(name_or_buffer, mode):\n\u001b[1;32m    270\u001b[0m     \u001b[39mif\u001b[39;00m _is_path(name_or_buffer):\n\u001b[0;32m--> 271\u001b[0m         \u001b[39mreturn\u001b[39;00m _open_file(name_or_buffer, mode)\n\u001b[1;32m    272\u001b[0m     \u001b[39melse\u001b[39;00m:\n\u001b[1;32m    273\u001b[0m         \u001b[39mif\u001b[39;00m \u001b[39m'\u001b[39m\u001b[39mw\u001b[39m\u001b[39m'\u001b[39m \u001b[39min\u001b[39;00m mode:\n",
      "File \u001b[0;32m~/anaconda3/envs/fire_ts/lib/python3.10/site-packages/torch/serialization.py:252\u001b[0m, in \u001b[0;36m_open_file.__init__\u001b[0;34m(self, name, mode)\u001b[0m\n\u001b[1;32m    251\u001b[0m \u001b[39mdef\u001b[39;00m \u001b[39m__init__\u001b[39m(\u001b[39mself\u001b[39m, name, mode):\n\u001b[0;32m--> 252\u001b[0m     \u001b[39msuper\u001b[39m()\u001b[39m.\u001b[39m\u001b[39m__init__\u001b[39m(\u001b[39mopen\u001b[39;49m(name, mode))\n",
      "\u001b[0;31mFileNotFoundError\u001b[0m: [Errno 2] No such file or directory: '/home/sl636/WildfireSpreadTS/lightning_logs/predictions_gcmiitbv.pt'"
     ]
    }
   ],
   "source": [
    "import torch\n",
    "\n",
    "predictions_file_name=\"/home/sl636/WildfireSpreadTS/lightning_logs/predictions_gcmiitbv.pt\"\n",
    "\n",
    "fire_masks_combined = torch.load(predictions_file_name)\n",
    "\n"
   ]
  },
  {
   "cell_type": "code",
   "execution_count": 20,
   "metadata": {},
   "outputs": [
    {
     "ename": "NameError",
     "evalue": "name 'fire_masks_combined' is not defined",
     "output_type": "error",
     "traceback": [
      "\u001b[0;31m---------------------------------------------------------------------------\u001b[0m",
      "\u001b[0;31mNameError\u001b[0m                                 Traceback (most recent call last)",
      "\u001b[1;32m/home/sl221120/WildfireSpreadTS/src/visualize_data copy.ipynb Cell 9\u001b[0m line \u001b[0;36m2\n\u001b[1;32m      <a href='vscode-notebook-cell://ssh-remote%2Bjmgpu2.cs.umt.edu/home/sl221120/WildfireSpreadTS/src/visualize_data%20copy.ipynb#W6sdnNjb2RlLXJlbW90ZQ%3D%3D?line=0'>1</a>\u001b[0m \u001b[39m# Extract the input fire masks, predicted fire masks, and ground truth fire masks\u001b[39;00m\n\u001b[0;32m----> <a href='vscode-notebook-cell://ssh-remote%2Bjmgpu2.cs.umt.edu/home/sl221120/WildfireSpreadTS/src/visualize_data%20copy.ipynb#W6sdnNjb2RlLXJlbW90ZQ%3D%3D?line=1'>2</a>\u001b[0m x_af \u001b[39m=\u001b[39m fire_masks_combined[\u001b[39m0\u001b[39m]\n\u001b[1;32m      <a href='vscode-notebook-cell://ssh-remote%2Bjmgpu2.cs.umt.edu/home/sl221120/WildfireSpreadTS/src/visualize_data%20copy.ipynb#W6sdnNjb2RlLXJlbW90ZQ%3D%3D?line=2'>3</a>\u001b[0m y_hat \u001b[39m=\u001b[39m fire_masks_combined[\u001b[39m1\u001b[39m]\n\u001b[1;32m      <a href='vscode-notebook-cell://ssh-remote%2Bjmgpu2.cs.umt.edu/home/sl221120/WildfireSpreadTS/src/visualize_data%20copy.ipynb#W6sdnNjb2RlLXJlbW90ZQ%3D%3D?line=3'>4</a>\u001b[0m y \u001b[39m=\u001b[39m fire_masks_combined[\u001b[39m2\u001b[39m]\n",
      "\u001b[0;31mNameError\u001b[0m: name 'fire_masks_combined' is not defined"
     ]
    }
   ],
   "source": [
    "# Extract the input fire masks, predicted fire masks, and ground truth fire masks\n",
    "x_af = fire_masks_combined[0]\n",
    "y_hat = fire_masks_combined[1]\n",
    "y = fire_masks_combined[2]"
   ]
  },
  {
   "cell_type": "code",
   "execution_count": 21,
   "metadata": {},
   "outputs": [
    {
     "ename": "SyntaxError",
     "evalue": "invalid syntax (1830892900.py, line 1)",
     "output_type": "error",
     "traceback": [
      "\u001b[0;36m  Cell \u001b[0;32mIn[21], line 1\u001b[0;36m\u001b[0m\n\u001b[0;31m    x_af.\u001b[0m\n\u001b[0m            ^\u001b[0m\n\u001b[0;31mSyntaxError\u001b[0m\u001b[0;31m:\u001b[0m invalid syntax\n"
     ]
    }
   ],
   "source": [
    "x_af.   "
   ]
  },
  {
   "cell_type": "code",
   "execution_count": 22,
   "metadata": {},
   "outputs": [
    {
     "ename": "NameError",
     "evalue": "name 'y_hat' is not defined",
     "output_type": "error",
     "traceback": [
      "\u001b[0;31m---------------------------------------------------------------------------\u001b[0m",
      "\u001b[0;31mNameError\u001b[0m                                 Traceback (most recent call last)",
      "\u001b[1;32m/home/sl221120/WildfireSpreadTS/src/visualize_data copy.ipynb Cell 11\u001b[0m line \u001b[0;36m7\n\u001b[1;32m      <a href='vscode-notebook-cell://ssh-remote%2Bjmgpu2.cs.umt.edu/home/sl221120/WildfireSpreadTS/src/visualize_data%20copy.ipynb#X11sdnNjb2RlLXJlbW90ZQ%3D%3D?line=3'>4</a>\u001b[0m ap_metric \u001b[39m=\u001b[39m AveragePrecision(task\u001b[39m=\u001b[39m\u001b[39m\"\u001b[39m\u001b[39mbinary\u001b[39m\u001b[39m\"\u001b[39m)\n\u001b[1;32m      <a href='vscode-notebook-cell://ssh-remote%2Bjmgpu2.cs.umt.edu/home/sl221120/WildfireSpreadTS/src/visualize_data%20copy.ipynb#X11sdnNjb2RlLXJlbW90ZQ%3D%3D?line=5'>6</a>\u001b[0m \u001b[39m# Update the metric with each sample\u001b[39;00m\n\u001b[0;32m----> <a href='vscode-notebook-cell://ssh-remote%2Bjmgpu2.cs.umt.edu/home/sl221120/WildfireSpreadTS/src/visualize_data%20copy.ipynb#X11sdnNjb2RlLXJlbW90ZQ%3D%3D?line=6'>7</a>\u001b[0m num_samples \u001b[39m=\u001b[39m y_hat\u001b[39m.\u001b[39mshape[\u001b[39m0\u001b[39m]\n\u001b[1;32m      <a href='vscode-notebook-cell://ssh-remote%2Bjmgpu2.cs.umt.edu/home/sl221120/WildfireSpreadTS/src/visualize_data%20copy.ipynb#X11sdnNjb2RlLXJlbW90ZQ%3D%3D?line=7'>8</a>\u001b[0m \u001b[39mfor\u001b[39;00m j \u001b[39min\u001b[39;00m \u001b[39mrange\u001b[39m(num_samples):\n\u001b[1;32m      <a href='vscode-notebook-cell://ssh-remote%2Bjmgpu2.cs.umt.edu/home/sl221120/WildfireSpreadTS/src/visualize_data%20copy.ipynb#X11sdnNjb2RlLXJlbW90ZQ%3D%3D?line=8'>9</a>\u001b[0m     ap_metric\u001b[39m.\u001b[39mupdate(y_hat[j]\u001b[39m.\u001b[39mflatten(), y[j]\u001b[39m.\u001b[39mflatten()\u001b[39m.\u001b[39mint())\n",
      "\u001b[0;31mNameError\u001b[0m: name 'y_hat' is not defined"
     ]
    }
   ],
   "source": [
    "from torchmetrics import AveragePrecision\n",
    "\n",
    "# Initialize the AveragePrecision metric\n",
    "ap_metric = AveragePrecision(task=\"binary\")\n",
    "\n",
    "# Update the metric with each sample\n",
    "num_samples = y_hat.shape[0]\n",
    "for j in range(num_samples):\n",
    "    ap_metric.update(y_hat[j].flatten(), y[j].flatten().int())\n",
    "\n",
    "# Compute the overall average precision\n",
    "overall_ap_value = ap_metric.compute()\n",
    "print(f'Overall Average Precision: {overall_ap_value:.4f}')"
   ]
  },
  {
   "cell_type": "code",
   "execution_count": 23,
   "metadata": {},
   "outputs": [
    {
     "ename": "NameError",
     "evalue": "name 'fire_masks_combined' is not defined",
     "output_type": "error",
     "traceback": [
      "\u001b[0;31m---------------------------------------------------------------------------\u001b[0m",
      "\u001b[0;31mNameError\u001b[0m                                 Traceback (most recent call last)",
      "\u001b[1;32m/home/sl221120/WildfireSpreadTS/src/visualize_data copy.ipynb Cell 12\u001b[0m line \u001b[0;36m9\n\u001b[1;32m      <a href='vscode-notebook-cell://ssh-remote%2Bjmgpu2.cs.umt.edu/home/sl221120/WildfireSpreadTS/src/visualize_data%20copy.ipynb#X12sdnNjb2RlLXJlbW90ZQ%3D%3D?line=2'>3</a>\u001b[0m \u001b[39mimport\u001b[39;00m \u001b[39mmatplotlib\u001b[39;00m\u001b[39m.\u001b[39;00m\u001b[39mpyplot\u001b[39;00m \u001b[39mas\u001b[39;00m \u001b[39mplt\u001b[39;00m\n\u001b[1;32m      <a href='vscode-notebook-cell://ssh-remote%2Bjmgpu2.cs.umt.edu/home/sl221120/WildfireSpreadTS/src/visualize_data%20copy.ipynb#X12sdnNjb2RlLXJlbW90ZQ%3D%3D?line=4'>5</a>\u001b[0m \u001b[39m# Assume fire_masks_combined is a tensor containing the input, predicted, and ground truth fire masks\u001b[39;00m\n\u001b[1;32m      <a href='vscode-notebook-cell://ssh-remote%2Bjmgpu2.cs.umt.edu/home/sl221120/WildfireSpreadTS/src/visualize_data%20copy.ipynb#X12sdnNjb2RlLXJlbW90ZQ%3D%3D?line=5'>6</a>\u001b[0m \u001b[39m# fire_masks_combined.shape should be (3, num_samples, height, width)\u001b[39;00m\n\u001b[1;32m      <a href='vscode-notebook-cell://ssh-remote%2Bjmgpu2.cs.umt.edu/home/sl221120/WildfireSpreadTS/src/visualize_data%20copy.ipynb#X12sdnNjb2RlLXJlbW90ZQ%3D%3D?line=6'>7</a>\u001b[0m \n\u001b[1;32m      <a href='vscode-notebook-cell://ssh-remote%2Bjmgpu2.cs.umt.edu/home/sl221120/WildfireSpreadTS/src/visualize_data%20copy.ipynb#X12sdnNjb2RlLXJlbW90ZQ%3D%3D?line=7'>8</a>\u001b[0m \u001b[39m# Extract the input fire masks, predicted fire masks, and ground truth fire masks\u001b[39;00m\n\u001b[0;32m----> <a href='vscode-notebook-cell://ssh-remote%2Bjmgpu2.cs.umt.edu/home/sl221120/WildfireSpreadTS/src/visualize_data%20copy.ipynb#X12sdnNjb2RlLXJlbW90ZQ%3D%3D?line=8'>9</a>\u001b[0m x_af \u001b[39m=\u001b[39m fire_masks_combined[\u001b[39m0\u001b[39m]\n\u001b[1;32m     <a href='vscode-notebook-cell://ssh-remote%2Bjmgpu2.cs.umt.edu/home/sl221120/WildfireSpreadTS/src/visualize_data%20copy.ipynb#X12sdnNjb2RlLXJlbW90ZQ%3D%3D?line=9'>10</a>\u001b[0m y_hat \u001b[39m=\u001b[39m fire_masks_combined[\u001b[39m1\u001b[39m]\n\u001b[1;32m     <a href='vscode-notebook-cell://ssh-remote%2Bjmgpu2.cs.umt.edu/home/sl221120/WildfireSpreadTS/src/visualize_data%20copy.ipynb#X12sdnNjb2RlLXJlbW90ZQ%3D%3D?line=10'>11</a>\u001b[0m y \u001b[39m=\u001b[39m fire_masks_combined[\u001b[39m2\u001b[39m]\n",
      "\u001b[0;31mNameError\u001b[0m: name 'fire_masks_combined' is not defined"
     ]
    }
   ],
   "source": [
    "import torch\n",
    "from torchmetrics import AveragePrecision\n",
    "import matplotlib.pyplot as plt\n",
    "\n",
    "# Assume fire_masks_combined is a tensor containing the input, predicted, and ground truth fire masks\n",
    "# fire_masks_combined.shape should be (3, num_samples, height, width)\n",
    "\n",
    "# Extract the input fire masks, predicted fire masks, and ground truth fire masks\n",
    "x_af = fire_masks_combined[0]\n",
    "y_hat = fire_masks_combined[1]\n",
    "y = fire_masks_combined[2]\n",
    "\n",
    "# Initialize a list to store AP values\n",
    "ap_values = []\n",
    "\n",
    "# Compute the AP for each sample and store the values\n",
    "num_samples = y_hat.shape[0]\n",
    "for j in range(num_samples):\n",
    "    ap_metric = AveragePrecision(task=\"binary\")\n",
    "    ap_metric.update(y_hat[j].flatten(), y[j].flatten().int())\n",
    "    ap_value = ap_metric.compute()\n",
    "    ap_values.append(ap_value.item())\n",
    "\n",
    "# Plot a histogram of AP values\n",
    "plt.hist(ap_values, bins=20, edgecolor='black')\n",
    "plt.xlabel('Average Precision')\n",
    "plt.ylabel('Frequency')\n",
    "plt.title('Histogram of Average Precision for all 2021 Test Samples')\n",
    "plt.show()\n"
   ]
  },
  {
   "cell_type": "code",
   "execution_count": 24,
   "metadata": {},
   "outputs": [
    {
     "ename": "NameError",
     "evalue": "name 'ap_values' is not defined",
     "output_type": "error",
     "traceback": [
      "\u001b[0;31m---------------------------------------------------------------------------\u001b[0m",
      "\u001b[0;31mNameError\u001b[0m                                 Traceback (most recent call last)",
      "\u001b[1;32m/home/sl221120/WildfireSpreadTS/src/visualize_data copy.ipynb Cell 13\u001b[0m line \u001b[0;36m2\n\u001b[1;32m      <a href='vscode-notebook-cell://ssh-remote%2Bjmgpu2.cs.umt.edu/home/sl221120/WildfireSpreadTS/src/visualize_data%20copy.ipynb#X13sdnNjb2RlLXJlbW90ZQ%3D%3D?line=0'>1</a>\u001b[0m \u001b[39m# Plot a histogram of AP values\u001b[39;00m\n\u001b[0;32m----> <a href='vscode-notebook-cell://ssh-remote%2Bjmgpu2.cs.umt.edu/home/sl221120/WildfireSpreadTS/src/visualize_data%20copy.ipynb#X13sdnNjb2RlLXJlbW90ZQ%3D%3D?line=1'>2</a>\u001b[0m plt\u001b[39m.\u001b[39mhist(ap_values, bins\u001b[39m=\u001b[39m\u001b[39m20\u001b[39m, edgecolor\u001b[39m=\u001b[39m\u001b[39m'\u001b[39m\u001b[39mblack\u001b[39m\u001b[39m'\u001b[39m)\n\u001b[1;32m      <a href='vscode-notebook-cell://ssh-remote%2Bjmgpu2.cs.umt.edu/home/sl221120/WildfireSpreadTS/src/visualize_data%20copy.ipynb#X13sdnNjb2RlLXJlbW90ZQ%3D%3D?line=2'>3</a>\u001b[0m plt\u001b[39m.\u001b[39mxlabel(\u001b[39m'\u001b[39m\u001b[39mAverage Precision\u001b[39m\u001b[39m'\u001b[39m)\n\u001b[1;32m      <a href='vscode-notebook-cell://ssh-remote%2Bjmgpu2.cs.umt.edu/home/sl221120/WildfireSpreadTS/src/visualize_data%20copy.ipynb#X13sdnNjb2RlLXJlbW90ZQ%3D%3D?line=3'>4</a>\u001b[0m plt\u001b[39m.\u001b[39mylabel(\u001b[39m'\u001b[39m\u001b[39mFrequency\u001b[39m\u001b[39m'\u001b[39m)\n",
      "\u001b[0;31mNameError\u001b[0m: name 'ap_values' is not defined"
     ]
    }
   ],
   "source": [
    "# Plot a histogram of AP values\n",
    "plt.hist(ap_values, bins=20, edgecolor='black')\n",
    "plt.xlabel('Average Precision')\n",
    "plt.ylabel('Frequency')\n",
    "plt.title('Histogram of Average Precision for all 2021 Test Samples')\n",
    "plt.show()"
   ]
  },
  {
   "cell_type": "code",
   "execution_count": 25,
   "metadata": {},
   "outputs": [
    {
     "ename": "NameError",
     "evalue": "name 'x_af' is not defined",
     "output_type": "error",
     "traceback": [
      "\u001b[0;31m---------------------------------------------------------------------------\u001b[0m",
      "\u001b[0;31mNameError\u001b[0m                                 Traceback (most recent call last)",
      "\u001b[1;32m/home/sl221120/WildfireSpreadTS/src/visualize_data copy.ipynb Cell 14\u001b[0m line \u001b[0;36m3\n\u001b[1;32m      <a href='vscode-notebook-cell://ssh-remote%2Bjmgpu2.cs.umt.edu/home/sl221120/WildfireSpreadTS/src/visualize_data%20copy.ipynb#X14sdnNjb2RlLXJlbW90ZQ%3D%3D?line=0'>1</a>\u001b[0m \u001b[39mimport\u001b[39;00m \u001b[39mrandom\u001b[39;00m \n\u001b[1;32m      <a href='vscode-notebook-cell://ssh-remote%2Bjmgpu2.cs.umt.edu/home/sl221120/WildfireSpreadTS/src/visualize_data%20copy.ipynb#X14sdnNjb2RlLXJlbW90ZQ%3D%3D?line=1'>2</a>\u001b[0m lt_10pc \u001b[39m=\u001b[39m []\n\u001b[0;32m----> <a href='vscode-notebook-cell://ssh-remote%2Bjmgpu2.cs.umt.edu/home/sl221120/WildfireSpreadTS/src/visualize_data%20copy.ipynb#X14sdnNjb2RlLXJlbW90ZQ%3D%3D?line=2'>3</a>\u001b[0m \u001b[39mfor\u001b[39;00m i \u001b[39min\u001b[39;00m \u001b[39mrange\u001b[39m(x_af\u001b[39m.\u001b[39mshape[\u001b[39m0\u001b[39m]):\n\u001b[1;32m      <a href='vscode-notebook-cell://ssh-remote%2Bjmgpu2.cs.umt.edu/home/sl221120/WildfireSpreadTS/src/visualize_data%20copy.ipynb#X14sdnNjb2RlLXJlbW90ZQ%3D%3D?line=3'>4</a>\u001b[0m     \u001b[39mif\u001b[39;00m x_af[i]\u001b[39m.\u001b[39msum() \u001b[39m<\u001b[39m \u001b[39m1638\u001b[39m:\n\u001b[1;32m      <a href='vscode-notebook-cell://ssh-remote%2Bjmgpu2.cs.umt.edu/home/sl221120/WildfireSpreadTS/src/visualize_data%20copy.ipynb#X14sdnNjb2RlLXJlbW90ZQ%3D%3D?line=4'>5</a>\u001b[0m         lt_10pc\u001b[39m.\u001b[39mappend(i)\n",
      "\u001b[0;31mNameError\u001b[0m: name 'x_af' is not defined"
     ]
    }
   ],
   "source": [
    "import random \n",
    "lt_10pc = []\n",
    "for i in range(x_af.shape[0]):\n",
    "    if x_af[i].sum() < 1638:\n",
    "        lt_10pc.append(i)\n",
    "\n",
    "len(lt_10pc)\n",
    "\n",
    "plot_lt_10pc = random.sample(lt_10pc, 10)\n",
    "plot_lt_10pc\n",
    "\n"
   ]
  },
  {
   "cell_type": "code",
   "execution_count": 26,
   "metadata": {},
   "outputs": [
    {
     "ename": "NameError",
     "evalue": "name 'plot_lt_10pc' is not defined",
     "output_type": "error",
     "traceback": [
      "\u001b[0;31m---------------------------------------------------------------------------\u001b[0m",
      "\u001b[0;31mNameError\u001b[0m                                 Traceback (most recent call last)",
      "\u001b[1;32m/home/sl221120/WildfireSpreadTS/src/visualize_data copy.ipynb Cell 15\u001b[0m line \u001b[0;36m1\n\u001b[1;32m      <a href='vscode-notebook-cell://ssh-remote%2Bjmgpu2.cs.umt.edu/home/sl221120/WildfireSpreadTS/src/visualize_data%20copy.ipynb#X15sdnNjb2RlLXJlbW90ZQ%3D%3D?line=8'>9</a>\u001b[0m     \u001b[39mreturn\u001b[39;00m (tensor \u001b[39m>\u001b[39m threshold)\u001b[39m.\u001b[39mfloat()\n\u001b[1;32m     <a href='vscode-notebook-cell://ssh-remote%2Bjmgpu2.cs.umt.edu/home/sl221120/WildfireSpreadTS/src/visualize_data%20copy.ipynb#X15sdnNjb2RlLXJlbW90ZQ%3D%3D?line=10'>11</a>\u001b[0m \u001b[39m# Plotting\u001b[39;00m\n\u001b[0;32m---> <a href='vscode-notebook-cell://ssh-remote%2Bjmgpu2.cs.umt.edu/home/sl221120/WildfireSpreadTS/src/visualize_data%20copy.ipynb#X15sdnNjb2RlLXJlbW90ZQ%3D%3D?line=11'>12</a>\u001b[0m fig, axes \u001b[39m=\u001b[39m plt\u001b[39m.\u001b[39msubplots(\u001b[39mlen\u001b[39m(plot_lt_10pc), \u001b[39m3\u001b[39m, figsize\u001b[39m=\u001b[39m(\u001b[39m15\u001b[39m, \u001b[39m5\u001b[39m \u001b[39m*\u001b[39m \u001b[39mlen\u001b[39m(plot_lt_10pc)))\n\u001b[1;32m     <a href='vscode-notebook-cell://ssh-remote%2Bjmgpu2.cs.umt.edu/home/sl221120/WildfireSpreadTS/src/visualize_data%20copy.ipynb#X15sdnNjb2RlLXJlbW90ZQ%3D%3D?line=13'>14</a>\u001b[0m \u001b[39mfor\u001b[39;00m i, j \u001b[39min\u001b[39;00m \u001b[39menumerate\u001b[39m(plot_lt_10pc):\n\u001b[1;32m     <a href='vscode-notebook-cell://ssh-remote%2Bjmgpu2.cs.umt.edu/home/sl221120/WildfireSpreadTS/src/visualize_data%20copy.ipynb#X15sdnNjb2RlLXJlbW90ZQ%3D%3D?line=14'>15</a>\u001b[0m     axes[i, \u001b[39m0\u001b[39m]\u001b[39m.\u001b[39mimshow(x_af[j]\u001b[39m.\u001b[39mcpu()\u001b[39m.\u001b[39mnumpy(), cmap\u001b[39m=\u001b[39m\u001b[39m\"\u001b[39m\u001b[39mviridis\u001b[39m\u001b[39m\"\u001b[39m)\n",
      "\u001b[0;31mNameError\u001b[0m: name 'plot_lt_10pc' is not defined"
     ]
    }
   ],
   "source": [
    "import matplotlib.pyplot as plt\n",
    "import torch\n",
    "from torchmetrics import AveragePrecision\n",
    "\n",
    "# Assume x_af, y, and y_hat are already defined as torch tensors\n",
    "\n",
    "def apply_threshold(tensor, threshold=0.5):\n",
    "    \"\"\"Apply a threshold to convert the tensor to binary values.\"\"\"\n",
    "    return (tensor > threshold).float()\n",
    "\n",
    "# Plotting\n",
    "fig, axes = plt.subplots(len(plot_lt_10pc), 3, figsize=(15, 5 * len(plot_lt_10pc)))\n",
    "\n",
    "for i, j in enumerate(plot_lt_10pc):\n",
    "    axes[i, 0].imshow(x_af[j].cpu().numpy(), cmap=\"viridis\")\n",
    "    axes[i, 0].set_title(\"Active fire\")\n",
    "    axes[i, 1].imshow(y[j].cpu().numpy(), cmap=\"viridis\")\n",
    "    axes[i, 1].set_title(\"Next fire\")\n",
    "    \n",
    "    # Apply threshold to the predicted output for binary visualization\n",
    "    binary_y_hat = apply_threshold(y_hat[j])\n",
    "    axes[i, 2].imshow(y_hat[j], cmap=\"viridis\")\n",
    "    \n",
    "    # Compute the average precision for the current sample\n",
    "    ap_metric = AveragePrecision(task=\"binary\")\n",
    "    ap_metric.update(y_hat[j].flatten(), y[j].flatten().int())\n",
    "    ap_value = ap_metric.compute()\n",
    "    \n",
    "    # Set the title with the average precision value\n",
    "    axes[i, 2].set_title(f\"Predicted fire (AP: {ap_value:.2f})\")\n",
    "\n",
    "\n",
    "plt.tight_layout()\n",
    "plt.show()\n"
   ]
  },
  {
   "cell_type": "code",
   "execution_count": 27,
   "metadata": {},
   "outputs": [
    {
     "ename": "NameError",
     "evalue": "name 'x_af' is not defined",
     "output_type": "error",
     "traceback": [
      "\u001b[0;31m---------------------------------------------------------------------------\u001b[0m",
      "\u001b[0;31mNameError\u001b[0m                                 Traceback (most recent call last)",
      "\u001b[1;32m/home/sl221120/WildfireSpreadTS/src/visualize_data copy.ipynb Cell 16\u001b[0m line \u001b[0;36m2\n\u001b[1;32m      <a href='vscode-notebook-cell://ssh-remote%2Bjmgpu2.cs.umt.edu/home/sl221120/WildfireSpreadTS/src/visualize_data%20copy.ipynb#X16sdnNjb2RlLXJlbW90ZQ%3D%3D?line=0'>1</a>\u001b[0m non_empty \u001b[39m=\u001b[39m []\n\u001b[0;32m----> <a href='vscode-notebook-cell://ssh-remote%2Bjmgpu2.cs.umt.edu/home/sl221120/WildfireSpreadTS/src/visualize_data%20copy.ipynb#X16sdnNjb2RlLXJlbW90ZQ%3D%3D?line=1'>2</a>\u001b[0m \u001b[39mfor\u001b[39;00m i \u001b[39min\u001b[39;00m \u001b[39mrange\u001b[39m(x_af\u001b[39m.\u001b[39mshape[\u001b[39m0\u001b[39m]):\n\u001b[1;32m      <a href='vscode-notebook-cell://ssh-remote%2Bjmgpu2.cs.umt.edu/home/sl221120/WildfireSpreadTS/src/visualize_data%20copy.ipynb#X16sdnNjb2RlLXJlbW90ZQ%3D%3D?line=2'>3</a>\u001b[0m     \u001b[39mif\u001b[39;00m x_af[i]\u001b[39m.\u001b[39msum() \u001b[39m>\u001b[39m \u001b[39m3000\u001b[39m:\n\u001b[1;32m      <a href='vscode-notebook-cell://ssh-remote%2Bjmgpu2.cs.umt.edu/home/sl221120/WildfireSpreadTS/src/visualize_data%20copy.ipynb#X16sdnNjb2RlLXJlbW90ZQ%3D%3D?line=3'>4</a>\u001b[0m         non_empty\u001b[39m.\u001b[39mappend(i)\n",
      "\u001b[0;31mNameError\u001b[0m: name 'x_af' is not defined"
     ]
    }
   ],
   "source": [
    "non_empty = []\n",
    "for i in range(x_af.shape[0]):\n",
    "    if x_af[i].sum() > 3000:\n",
    "        non_empty.append(i)\n",
    "\n",
    "non_empty"
   ]
  },
  {
   "cell_type": "code",
   "execution_count": 28,
   "metadata": {},
   "outputs": [
    {
     "ename": "ValueError",
     "evalue": "Number of rows must be a positive integer, not 0",
     "output_type": "error",
     "traceback": [
      "\u001b[0;31m---------------------------------------------------------------------------\u001b[0m",
      "\u001b[0;31mValueError\u001b[0m                                Traceback (most recent call last)",
      "\u001b[1;32m/home/sl221120/WildfireSpreadTS/src/visualize_data copy.ipynb Cell 17\u001b[0m line \u001b[0;36m1\n\u001b[1;32m      <a href='vscode-notebook-cell://ssh-remote%2Bjmgpu2.cs.umt.edu/home/sl221120/WildfireSpreadTS/src/visualize_data%20copy.ipynb#X20sdnNjb2RlLXJlbW90ZQ%3D%3D?line=8'>9</a>\u001b[0m     \u001b[39mreturn\u001b[39;00m (tensor \u001b[39m>\u001b[39m threshold)\u001b[39m.\u001b[39mfloat()\n\u001b[1;32m     <a href='vscode-notebook-cell://ssh-remote%2Bjmgpu2.cs.umt.edu/home/sl221120/WildfireSpreadTS/src/visualize_data%20copy.ipynb#X20sdnNjb2RlLXJlbW90ZQ%3D%3D?line=10'>11</a>\u001b[0m \u001b[39m# Plotting\u001b[39;00m\n\u001b[0;32m---> <a href='vscode-notebook-cell://ssh-remote%2Bjmgpu2.cs.umt.edu/home/sl221120/WildfireSpreadTS/src/visualize_data%20copy.ipynb#X20sdnNjb2RlLXJlbW90ZQ%3D%3D?line=11'>12</a>\u001b[0m fig, axes \u001b[39m=\u001b[39m plt\u001b[39m.\u001b[39;49msubplots(\u001b[39mlen\u001b[39;49m(non_empty), \u001b[39m3\u001b[39;49m, figsize\u001b[39m=\u001b[39;49m(\u001b[39m15\u001b[39;49m, \u001b[39m5\u001b[39;49m \u001b[39m*\u001b[39;49m \u001b[39mlen\u001b[39;49m(non_empty)))\n\u001b[1;32m     <a href='vscode-notebook-cell://ssh-remote%2Bjmgpu2.cs.umt.edu/home/sl221120/WildfireSpreadTS/src/visualize_data%20copy.ipynb#X20sdnNjb2RlLXJlbW90ZQ%3D%3D?line=13'>14</a>\u001b[0m \u001b[39mfor\u001b[39;00m i, j \u001b[39min\u001b[39;00m \u001b[39menumerate\u001b[39m(non_empty):\n\u001b[1;32m     <a href='vscode-notebook-cell://ssh-remote%2Bjmgpu2.cs.umt.edu/home/sl221120/WildfireSpreadTS/src/visualize_data%20copy.ipynb#X20sdnNjb2RlLXJlbW90ZQ%3D%3D?line=14'>15</a>\u001b[0m     axes[i, \u001b[39m0\u001b[39m]\u001b[39m.\u001b[39mimshow(x_af[j]\u001b[39m.\u001b[39mcpu()\u001b[39m.\u001b[39mnumpy(), cmap\u001b[39m=\u001b[39m\u001b[39m\"\u001b[39m\u001b[39mviridis\u001b[39m\u001b[39m\"\u001b[39m)\n",
      "File \u001b[0;32m~/anaconda3/envs/fire_ts/lib/python3.10/site-packages/matplotlib/pyplot.py:1502\u001b[0m, in \u001b[0;36msubplots\u001b[0;34m(nrows, ncols, sharex, sharey, squeeze, width_ratios, height_ratios, subplot_kw, gridspec_kw, **fig_kw)\u001b[0m\n\u001b[1;32m   1358\u001b[0m \u001b[39m\u001b[39m\u001b[39m\"\"\"\u001b[39;00m\n\u001b[1;32m   1359\u001b[0m \u001b[39mCreate a figure and a set of subplots.\u001b[39;00m\n\u001b[1;32m   1360\u001b[0m \n\u001b[0;32m   (...)\u001b[0m\n\u001b[1;32m   1499\u001b[0m \n\u001b[1;32m   1500\u001b[0m \u001b[39m\"\"\"\u001b[39;00m\n\u001b[1;32m   1501\u001b[0m fig \u001b[39m=\u001b[39m figure(\u001b[39m*\u001b[39m\u001b[39m*\u001b[39mfig_kw)\n\u001b[0;32m-> 1502\u001b[0m axs \u001b[39m=\u001b[39m fig\u001b[39m.\u001b[39;49msubplots(nrows\u001b[39m=\u001b[39;49mnrows, ncols\u001b[39m=\u001b[39;49mncols, sharex\u001b[39m=\u001b[39;49msharex, sharey\u001b[39m=\u001b[39;49msharey,\n\u001b[1;32m   1503\u001b[0m                    squeeze\u001b[39m=\u001b[39;49msqueeze, subplot_kw\u001b[39m=\u001b[39;49msubplot_kw,\n\u001b[1;32m   1504\u001b[0m                    gridspec_kw\u001b[39m=\u001b[39;49mgridspec_kw, height_ratios\u001b[39m=\u001b[39;49mheight_ratios,\n\u001b[1;32m   1505\u001b[0m                    width_ratios\u001b[39m=\u001b[39;49mwidth_ratios)\n\u001b[1;32m   1506\u001b[0m \u001b[39mreturn\u001b[39;00m fig, axs\n",
      "File \u001b[0;32m~/anaconda3/envs/fire_ts/lib/python3.10/site-packages/matplotlib/figure.py:905\u001b[0m, in \u001b[0;36mFigureBase.subplots\u001b[0;34m(self, nrows, ncols, sharex, sharey, squeeze, width_ratios, height_ratios, subplot_kw, gridspec_kw)\u001b[0m\n\u001b[1;32m    901\u001b[0m         \u001b[39mraise\u001b[39;00m \u001b[39mValueError\u001b[39;00m(\u001b[39m\"\u001b[39m\u001b[39m'\u001b[39m\u001b[39mwidth_ratios\u001b[39m\u001b[39m'\u001b[39m\u001b[39m must not be defined both as \u001b[39m\u001b[39m\"\u001b[39m\n\u001b[1;32m    902\u001b[0m                          \u001b[39m\"\u001b[39m\u001b[39mparameter and as key in \u001b[39m\u001b[39m'\u001b[39m\u001b[39mgridspec_kw\u001b[39m\u001b[39m'\u001b[39m\u001b[39m\"\u001b[39m)\n\u001b[1;32m    903\u001b[0m     gridspec_kw[\u001b[39m'\u001b[39m\u001b[39mwidth_ratios\u001b[39m\u001b[39m'\u001b[39m] \u001b[39m=\u001b[39m width_ratios\n\u001b[0;32m--> 905\u001b[0m gs \u001b[39m=\u001b[39m \u001b[39mself\u001b[39;49m\u001b[39m.\u001b[39;49madd_gridspec(nrows, ncols, figure\u001b[39m=\u001b[39;49m\u001b[39mself\u001b[39;49m, \u001b[39m*\u001b[39;49m\u001b[39m*\u001b[39;49mgridspec_kw)\n\u001b[1;32m    906\u001b[0m axs \u001b[39m=\u001b[39m gs\u001b[39m.\u001b[39msubplots(sharex\u001b[39m=\u001b[39msharex, sharey\u001b[39m=\u001b[39msharey, squeeze\u001b[39m=\u001b[39msqueeze,\n\u001b[1;32m    907\u001b[0m                   subplot_kw\u001b[39m=\u001b[39msubplot_kw)\n\u001b[1;32m    908\u001b[0m \u001b[39mreturn\u001b[39;00m axs\n",
      "File \u001b[0;32m~/anaconda3/envs/fire_ts/lib/python3.10/site-packages/matplotlib/figure.py:1527\u001b[0m, in \u001b[0;36mFigureBase.add_gridspec\u001b[0;34m(self, nrows, ncols, **kwargs)\u001b[0m\n\u001b[1;32m   1488\u001b[0m \u001b[39m\u001b[39m\u001b[39m\"\"\"\u001b[39;00m\n\u001b[1;32m   1489\u001b[0m \u001b[39mReturn a `.GridSpec` that has this figure as a parent.  This allows\u001b[39;00m\n\u001b[1;32m   1490\u001b[0m \u001b[39mcomplex layout of Axes in the figure.\u001b[39;00m\n\u001b[0;32m   (...)\u001b[0m\n\u001b[1;32m   1523\u001b[0m \n\u001b[1;32m   1524\u001b[0m \u001b[39m\"\"\"\u001b[39;00m\n\u001b[1;32m   1526\u001b[0m _ \u001b[39m=\u001b[39m kwargs\u001b[39m.\u001b[39mpop(\u001b[39m'\u001b[39m\u001b[39mfigure\u001b[39m\u001b[39m'\u001b[39m, \u001b[39mNone\u001b[39;00m)  \u001b[39m# pop in case user has added this...\u001b[39;00m\n\u001b[0;32m-> 1527\u001b[0m gs \u001b[39m=\u001b[39m GridSpec(nrows\u001b[39m=\u001b[39;49mnrows, ncols\u001b[39m=\u001b[39;49mncols, figure\u001b[39m=\u001b[39;49m\u001b[39mself\u001b[39;49m, \u001b[39m*\u001b[39;49m\u001b[39m*\u001b[39;49mkwargs)\n\u001b[1;32m   1528\u001b[0m \u001b[39mreturn\u001b[39;00m gs\n",
      "File \u001b[0;32m~/anaconda3/envs/fire_ts/lib/python3.10/site-packages/matplotlib/gridspec.py:379\u001b[0m, in \u001b[0;36mGridSpec.__init__\u001b[0;34m(self, nrows, ncols, figure, left, bottom, right, top, wspace, hspace, width_ratios, height_ratios)\u001b[0m\n\u001b[1;32m    376\u001b[0m \u001b[39mself\u001b[39m\u001b[39m.\u001b[39mhspace \u001b[39m=\u001b[39m hspace\n\u001b[1;32m    377\u001b[0m \u001b[39mself\u001b[39m\u001b[39m.\u001b[39mfigure \u001b[39m=\u001b[39m figure\n\u001b[0;32m--> 379\u001b[0m \u001b[39msuper\u001b[39;49m()\u001b[39m.\u001b[39;49m\u001b[39m__init__\u001b[39;49m(nrows, ncols,\n\u001b[1;32m    380\u001b[0m                  width_ratios\u001b[39m=\u001b[39;49mwidth_ratios,\n\u001b[1;32m    381\u001b[0m                  height_ratios\u001b[39m=\u001b[39;49mheight_ratios)\n",
      "File \u001b[0;32m~/anaconda3/envs/fire_ts/lib/python3.10/site-packages/matplotlib/gridspec.py:49\u001b[0m, in \u001b[0;36mGridSpecBase.__init__\u001b[0;34m(self, nrows, ncols, height_ratios, width_ratios)\u001b[0m\n\u001b[1;32m     34\u001b[0m \u001b[39m\u001b[39m\u001b[39m\"\"\"\u001b[39;00m\n\u001b[1;32m     35\u001b[0m \u001b[39mParameters\u001b[39;00m\n\u001b[1;32m     36\u001b[0m \u001b[39m----------\u001b[39;00m\n\u001b[0;32m   (...)\u001b[0m\n\u001b[1;32m     46\u001b[0m \u001b[39m    If not given, all rows will have the same height.\u001b[39;00m\n\u001b[1;32m     47\u001b[0m \u001b[39m\"\"\"\u001b[39;00m\n\u001b[1;32m     48\u001b[0m \u001b[39mif\u001b[39;00m \u001b[39mnot\u001b[39;00m \u001b[39misinstance\u001b[39m(nrows, Integral) \u001b[39mor\u001b[39;00m nrows \u001b[39m<\u001b[39m\u001b[39m=\u001b[39m \u001b[39m0\u001b[39m:\n\u001b[0;32m---> 49\u001b[0m     \u001b[39mraise\u001b[39;00m \u001b[39mValueError\u001b[39;00m(\n\u001b[1;32m     50\u001b[0m         \u001b[39mf\u001b[39m\u001b[39m\"\u001b[39m\u001b[39mNumber of rows must be a positive integer, not \u001b[39m\u001b[39m{\u001b[39;00mnrows\u001b[39m!r}\u001b[39;00m\u001b[39m\"\u001b[39m)\n\u001b[1;32m     51\u001b[0m \u001b[39mif\u001b[39;00m \u001b[39mnot\u001b[39;00m \u001b[39misinstance\u001b[39m(ncols, Integral) \u001b[39mor\u001b[39;00m ncols \u001b[39m<\u001b[39m\u001b[39m=\u001b[39m \u001b[39m0\u001b[39m:\n\u001b[1;32m     52\u001b[0m     \u001b[39mraise\u001b[39;00m \u001b[39mValueError\u001b[39;00m(\n\u001b[1;32m     53\u001b[0m         \u001b[39mf\u001b[39m\u001b[39m\"\u001b[39m\u001b[39mNumber of columns must be a positive integer, not \u001b[39m\u001b[39m{\u001b[39;00mncols\u001b[39m!r}\u001b[39;00m\u001b[39m\"\u001b[39m)\n",
      "\u001b[0;31mValueError\u001b[0m: Number of rows must be a positive integer, not 0"
     ]
    },
    {
     "data": {
      "text/plain": [
       "<Figure size 1500x0 with 0 Axes>"
      ]
     },
     "metadata": {},
     "output_type": "display_data"
    }
   ],
   "source": [
    "import matplotlib.pyplot as plt\n",
    "import torch\n",
    "from torchmetrics import AveragePrecision\n",
    "\n",
    "# Assume x_af, y, and y_hat are already defined as torch tensors\n",
    "\n",
    "def apply_threshold(tensor, threshold=0.5):\n",
    "    \"\"\"Apply a threshold to convert the tensor to binary values.\"\"\"\n",
    "    return (tensor > threshold).float()\n",
    "\n",
    "# Plotting\n",
    "fig, axes = plt.subplots(len(non_empty), 3, figsize=(15, 5 * len(non_empty)))\n",
    "\n",
    "for i, j in enumerate(non_empty):\n",
    "    axes[i, 0].imshow(x_af[j].cpu().numpy(), cmap=\"viridis\")\n",
    "    axes[i, 0].set_title(\"Active fire\")\n",
    "    axes[i, 1].imshow(y[j].cpu().numpy(), cmap=\"viridis\")\n",
    "    axes[i, 1].set_title(\"Next fire\")\n",
    "    \n",
    "    # Apply threshold to the predicted output for binary visualization\n",
    "    binary_y_hat = apply_threshold(y_hat[j])\n",
    "    axes[i, 2].imshow(y_hat[j], cmap=\"viridis\")\n",
    "    \n",
    "    # Compute the average precision for the current sample\n",
    "    ap_metric = AveragePrecision(task=\"binary\")\n",
    "    ap_metric.update(y_hat[j].flatten(), y[j].flatten().int())\n",
    "    ap_value = ap_metric.compute()\n",
    "    \n",
    "    # Set the title with the average precision value\n",
    "    axes[i, 2].set_title(f\"Predicted fire (AP: {ap_value:.2f})\")\n",
    "\n",
    "\n",
    "plt.tight_layout()\n",
    "plt.show()\n"
   ]
  },
  {
   "cell_type": "code",
   "execution_count": null,
   "metadata": {},
   "outputs": [
    {
     "name": "stdout",
     "output_type": "stream",
     "text": [
      "Bounding Box Coordinates:\n",
      "Left: 697500.0, Bottom: 4022625.0\n",
      "Right: 790125.0, Top: 4136625.0\n",
      "Corners Coordinates:\n",
      "Top Left: (697500.0, 4136625.0)\n",
      "Top Right: (790125.0, 4136625.0)\n",
      "Bottom Left: (697500.0, 4022625.0)\n",
      "Bottom Right: (790125.0, 4022625.0)\n"
     ]
    }
   ],
   "source": [
    "import rasterio\n",
    "\n",
    "# Path to the TIFF file\n",
    "file_path = \"/home/sl636/TS_data/2018/fire_21458798/2018-01-01.tif\"\n",
    "\n",
    "# Open the TIFF file\n",
    "with rasterio.open(file_path) as src:\n",
    "    # Get the bounding box of the raster\n",
    "    bounds = src.bounds\n",
    "    \n",
    "    # Print the coordinates of the bounding box\n",
    "    print(\"Bounding Box Coordinates:\")\n",
    "    print(f\"Left: {bounds.left}, Bottom: {bounds.bottom}\")\n",
    "    print(f\"Right: {bounds.right}, Top: {bounds.top}\")\n",
    "    \n",
    "    # Extract the coordinates of the corners\n",
    "    top_left = (bounds.left, bounds.top)\n",
    "    top_right = (bounds.right, bounds.top)\n",
    "    bottom_left = (bounds.left, bounds.bottom)\n",
    "    bottom_right = (bounds.right, bounds.bottom)\n",
    "    \n",
    "    print(\"Corners Coordinates:\")\n",
    "    print(f\"Top Left: {top_left}\")\n",
    "    print(f\"Top Right: {top_right}\")\n",
    "    print(f\"Bottom Left: {bottom_left}\")\n",
    "    print(f\"Bottom Right: {bottom_right}\")\n"
   ]
  },
  {
   "cell_type": "code",
   "execution_count": 29,
   "metadata": {},
   "outputs": [
    {
     "ename": "ModuleNotFoundError",
     "evalue": "No module named 'mpl_toolkits.basemap'",
     "output_type": "error",
     "traceback": [
      "\u001b[0;31m---------------------------------------------------------------------------\u001b[0m",
      "\u001b[0;31mModuleNotFoundError\u001b[0m                       Traceback (most recent call last)",
      "\u001b[1;32m/home/sl221120/WildfireSpreadTS/src/visualize_data copy.ipynb Cell 19\u001b[0m line \u001b[0;36m2\n\u001b[1;32m      <a href='vscode-notebook-cell://ssh-remote%2Bjmgpu2.cs.umt.edu/home/sl221120/WildfireSpreadTS/src/visualize_data%20copy.ipynb#X22sdnNjb2RlLXJlbW90ZQ%3D%3D?line=0'>1</a>\u001b[0m \u001b[39mimport\u001b[39;00m \u001b[39mmatplotlib\u001b[39;00m\u001b[39m.\u001b[39;00m\u001b[39mpyplot\u001b[39;00m \u001b[39mas\u001b[39;00m \u001b[39mplt\u001b[39;00m\n\u001b[0;32m----> <a href='vscode-notebook-cell://ssh-remote%2Bjmgpu2.cs.umt.edu/home/sl221120/WildfireSpreadTS/src/visualize_data%20copy.ipynb#X22sdnNjb2RlLXJlbW90ZQ%3D%3D?line=1'>2</a>\u001b[0m \u001b[39mfrom\u001b[39;00m \u001b[39mmpl_toolkits\u001b[39;00m\u001b[39m.\u001b[39;00m\u001b[39mbasemap\u001b[39;00m \u001b[39mimport\u001b[39;00m Basemap\n\u001b[1;32m      <a href='vscode-notebook-cell://ssh-remote%2Bjmgpu2.cs.umt.edu/home/sl221120/WildfireSpreadTS/src/visualize_data%20copy.ipynb#X22sdnNjb2RlLXJlbW90ZQ%3D%3D?line=2'>3</a>\u001b[0m \u001b[39mimport\u001b[39;00m \u001b[39mrasterio\u001b[39;00m\n\u001b[1;32m      <a href='vscode-notebook-cell://ssh-remote%2Bjmgpu2.cs.umt.edu/home/sl221120/WildfireSpreadTS/src/visualize_data%20copy.ipynb#X22sdnNjb2RlLXJlbW90ZQ%3D%3D?line=3'>4</a>\u001b[0m \u001b[39mfrom\u001b[39;00m \u001b[39mpyproj\u001b[39;00m \u001b[39mimport\u001b[39;00m Transformer\n",
      "\u001b[0;31mModuleNotFoundError\u001b[0m: No module named 'mpl_toolkits.basemap'"
     ]
    }
   ],
   "source": [
    "import matplotlib.pyplot as plt\n",
    "from mpl_toolkits.basemap import Basemap\n",
    "import rasterio\n",
    "from pyproj import Transformer\n",
    "\n",
    "# Path to your TIFF file\n",
    "file_path = \"/home/sl636/TS_data/2018/fire_21458798/2018-01-01.tif\"\n",
    "\n",
    "# Open the TIFF file and extract the bounding box\n",
    "with rasterio.open(file_path) as src:\n",
    "    bounds = src.bounds\n",
    "    src_crs = src.crs  # Get the CRS of the TIFF file\n",
    "\n",
    "# Check if the source CRS is already EPSG:4326\n",
    "if src_crs.to_string() != 'EPSG:4326':\n",
    "    # Initialize a transformer to convert from the source CRS to EPSG:4326 (lat/lon)\n",
    "    transformer = Transformer.from_crs(src_crs, 'EPSG:4326', always_xy=True)\n",
    "    center_lon, center_lat = transformer.transform(\n",
    "        (bounds.left + bounds.right) / 2, (bounds.top + bounds.bottom) / 2)\n",
    "else:\n",
    "    # Calculate the center of the bounding box directly\n",
    "    center_lon = (bounds.left + bounds.right) / 2\n",
    "    center_lat = (bounds.top + bounds.bottom) / 2\n",
    "\n",
    "# Create a map of the USA\n",
    "fig, ax = plt.subplots(figsize=(10, 7))\n",
    "m = Basemap(\n",
    "    projection='merc',                  # Mercator projection\n",
    "    llcrnrlat=24.396308,                # Lower left corner latitude\n",
    "    urcrnrlat=49.384358,                # Upper right corner latitude\n",
    "    llcrnrlon=-125.0,                   # Lower left corner longitude\n",
    "    urcrnrlon=-66.9,                    # Upper right corner longitude\n",
    "    resolution='i',                     # Intermediate resolution\n",
    "    ax=ax                               # Plotting on the defined matplotlib axis\n",
    ")\n",
    "\n",
    "# Draw coastlines, country boundaries, and states\n",
    "m.drawcoastlines()\n",
    "m.drawcountries()\n",
    "m.drawstates()\n",
    "\n",
    "# Convert the center coordinates to map projection coordinates\n",
    "x, y = m(center_lon, center_lat)\n",
    "\n",
    "# Plot the center point\n",
    "m.plot(x, y, 'ro', markersize=5)  # 'ro' stands for red circle\n",
    "\n",
    "# Add a title and show the plot\n",
    "plt.title('Map of the USA with Center Point from TIFF')\n",
    "plt.show()\n"
   ]
  },
  {
   "cell_type": "code",
   "execution_count": 30,
   "metadata": {},
   "outputs": [
    {
     "ename": "FileNotFoundError",
     "evalue": "[Errno 2] No such file or directory: '/home/sl636/TS_data/2018/fire_21458798'",
     "output_type": "error",
     "traceback": [
      "\u001b[0;31m---------------------------------------------------------------------------\u001b[0m",
      "\u001b[0;31mFileNotFoundError\u001b[0m                         Traceback (most recent call last)",
      "\u001b[1;32m/home/sl221120/WildfireSpreadTS/src/visualize_data copy.ipynb Cell 20\u001b[0m line \u001b[0;36m4\n\u001b[1;32m      <a href='vscode-notebook-cell://ssh-remote%2Bjmgpu2.cs.umt.edu/home/sl221120/WildfireSpreadTS/src/visualize_data%20copy.ipynb#X23sdnNjb2RlLXJlbW90ZQ%3D%3D?line=0'>1</a>\u001b[0m fire_path \u001b[39m=\u001b[39m \u001b[39m\"\u001b[39m\u001b[39m/home/sl636/TS_data/2018/fire_21458798\u001b[39m\u001b[39m\"\u001b[39m\n\u001b[1;32m      <a href='vscode-notebook-cell://ssh-remote%2Bjmgpu2.cs.umt.edu/home/sl221120/WildfireSpreadTS/src/visualize_data%20copy.ipynb#X23sdnNjb2RlLXJlbW90ZQ%3D%3D?line=1'>2</a>\u001b[0m fig, ax \u001b[39m=\u001b[39m plt\u001b[39m.\u001b[39msubplots(\u001b[39m2\u001b[39m,\u001b[39m7\u001b[39m, figsize\u001b[39m=\u001b[39m(\u001b[39m15\u001b[39m, \u001b[39m7\u001b[39m))\n\u001b[0;32m----> <a href='vscode-notebook-cell://ssh-remote%2Bjmgpu2.cs.umt.edu/home/sl221120/WildfireSpreadTS/src/visualize_data%20copy.ipynb#X23sdnNjb2RlLXJlbW90ZQ%3D%3D?line=3'>4</a>\u001b[0m \u001b[39mfor\u001b[39;00m i, image \u001b[39min\u001b[39;00m \u001b[39menumerate\u001b[39m(\u001b[39msorted\u001b[39m(os\u001b[39m.\u001b[39;49mlistdir(fire_path))):\n\u001b[1;32m      <a href='vscode-notebook-cell://ssh-remote%2Bjmgpu2.cs.umt.edu/home/sl221120/WildfireSpreadTS/src/visualize_data%20copy.ipynb#X23sdnNjb2RlLXJlbW90ZQ%3D%3D?line=4'>5</a>\u001b[0m     img_path \u001b[39m=\u001b[39m os\u001b[39m.\u001b[39mpath\u001b[39m.\u001b[39mjoin(fire_path, image)\n\u001b[1;32m      <a href='vscode-notebook-cell://ssh-remote%2Bjmgpu2.cs.umt.edu/home/sl221120/WildfireSpreadTS/src/visualize_data%20copy.ipynb#X23sdnNjb2RlLXJlbW90ZQ%3D%3D?line=5'>6</a>\u001b[0m     \u001b[39mwith\u001b[39;00m rasterio\u001b[39m.\u001b[39mopen(img_path, \u001b[39m'\u001b[39m\u001b[39mr\u001b[39m\u001b[39m'\u001b[39m) \u001b[39mas\u001b[39;00m f:\n",
      "\u001b[0;31mFileNotFoundError\u001b[0m: [Errno 2] No such file or directory: '/home/sl636/TS_data/2018/fire_21458798'"
     ]
    },
    {
     "data": {
      "image/png": "[encoded data removed]",
      "text/plain": [
       "<Figure size 1500x700 with 14 Axes>"
      ]
     },
     "metadata": {},
     "output_type": "display_data"
    }
   ],
   "source": [
    "fire_path = \"/home/sl636/TS_data/2018/fire_21458798\"\n",
    "fig, ax = plt.subplots(2,7, figsize=(15, 7))\n",
    "\n",
    "for i, image in enumerate(sorted(os.listdir(fire_path))):\n",
    "    img_path = os.path.join(fire_path, image)\n",
    "    with rasterio.open(img_path, 'r') as f:\n",
    "        img = f.read()\n",
    "    current_ax = ax.flat[i]\n",
    "    current_ax.axis('off')\n",
    "    current_ax.imshow(np.nan_to_num(img[22,...],0.0))\n",
    "    current_ax.set_title(image.split(\".\")[0])\n",
    "plt.tight_layout()\n",
    "        \n"
   ]
  },
  {
   "cell_type": "code",
   "execution_count": 14,
   "metadata": {},
   "outputs": [
    {
     "data": {
      "text/plain": [
       "14"
      ]
     },
     "execution_count": 14,
     "metadata": {},
     "output_type": "execute_result"
    }
   ],
   "source": [
    "fire_path = \"/home/sl636/TS_data/2018/fire_21458798\"\n",
    "len(os.listdir(fire_path))"
   ]
  },
  {
   "cell_type": "code",
   "execution_count": 4,
   "metadata": {},
   "outputs": [],
   "source": [
    "def plot_fire(fire_path):\n",
    "    fire_images = sorted(os.listdir(fire_path))\n",
    "    num_fires = len(fire_images)\n",
    "    \n",
    "    num_cols = min(num_fires, 7)  # Limit columns to a maximum of 7 for better visualization\n",
    "    num_rows = (num_fires + num_cols - 1) // num_cols  # Calculate the number of rows needed\n",
    "    fig_width = 2 * num_cols\n",
    "    fig_height = 2 * num_rows\n",
    "    fig, ax = plt.subplots(num_rows, num_cols, figsize=(fig_width, fig_height))\n",
    "\n",
    "    \n",
    "    # Flatten the axes array for easy iteration\n",
    "    if num_rows == 1:\n",
    "        ax = [ax]\n",
    "    else:\n",
    "        ax = ax.flatten()\n",
    "\n",
    "    for i, image in enumerate(sorted(os.listdir(fire_path))):\n",
    "        img_path = os.path.join(fire_path, image)\n",
    "        with rasterio.open(img_path, 'r') as f:\n",
    "            img = f.read()\n",
    "        current_ax = ax.flat[i]\n",
    "        current_ax.axis('off')\n",
    "        current_ax.imshow(np.nan_to_num(img[22,...],0.0))\n",
    "        current_ax.set_title(image.split(\".\")[0], fontsize=10)\n",
    "    \n",
    "    \n",
    "    for j in range(num_fires, len(ax)):\n",
    "        ax[j].axis('off')\n",
    "    plt.tight_layout()\n",
    "\n",
    "    \n",
    "        \n"
   ]
  },
  {
   "cell_type": "code",
   "execution_count": 5,
   "metadata": {},
   "outputs": [
    {
     "data": {
      "image/png": "[encoded data removed]",
      "text/plain": [
       "<Figure size 1400x800 with 28 Axes>"
      ]
     },
     "metadata": {},
     "output_type": "display_data"
    }
   ],
   "source": [
    "#fire_path = \"/home/sl636/TS_data/2021/fire_24935874\"\n",
    "fire_path = \"/home/sl636/TS_data/2021/fire_25017323\"\n",
    "plot_fire(fire_path)"
   ]
  },
  {
   "cell_type": "code",
   "execution_count": 1,
   "metadata": {},
   "outputs": [],
   "source": [
    "import rasterio\n",
    "\n",
    "img_path = \"/home/sl636/TS_data/2018/fire_21458798/2018-01-01.tif\"\n",
    "with rasterio.open(img_path, 'r') as ds:\n",
    "    lnglat = ds.lnglat()"
   ]
  },
  {
   "cell_type": "code",
   "execution_count": null,
   "metadata": {},
   "outputs": [],
   "source": []
  }
 ],
 "metadata": {
  "kernelspec": {
   "display_name": "fire",
   "language": "python",
   "name": "python3"
  },
  "language_info": {
   "codemirror_mode": {
    "name": "ipython",
    "version": 3
   },
   "file_extension": ".py",
   "mimetype": "text/x-python",
   "name": "python",
   "nbconvert_exporter": "python",
   "pygments_lexer": "ipython3",
   "version": "3.10.4"
  }
 },
 "nbformat": 4,
 "nbformat_minor": 2
}
