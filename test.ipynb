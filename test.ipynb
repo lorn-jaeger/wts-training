{
 "cells": [
  {
   "cell_type": "code",
   "execution_count": 1,
   "metadata": {},
   "outputs": [
    {
     "name": "stderr",
     "output_type": "stream",
     "text": [
      "/home/sl221120/anaconda3/envs/fire_ts/lib/python3.10/site-packages/tqdm/auto.py:21: TqdmWarning: IProgress not found. Please update jupyter and ipywidgets. See https://ipywidgets.readthedocs.io/en/stable/user_install.html\n",
      "  from .autonotebook import tqdm as notebook_tqdm\n"
     ]
    },
    {
     "name": "stdout",
     "output_type": "stream",
     "text": [
      "SwinTransformerSys expand initial----depths:[2, 2, 6, 2];depths_decoder:[1, 2, 2, 2];drop_path_rate:0.1;num_classes:1\n"
     ]
    },
    {
     "name": "stderr",
     "output_type": "stream",
     "text": [
      "/home/sl221120/anaconda3/envs/fire_ts/lib/python3.10/site-packages/torch/functional.py:504: UserWarning: torch.meshgrid: in an upcoming release, it will be required to pass the indexing argument. (Triggered internally at ../aten/src/ATen/native/TensorShape.cpp:3483.)\n",
      "  return _VF.meshgrid(tensors, **kwargs)  # type: ignore[attr-defined]\n"
     ]
    },
    {
     "name": "stdout",
     "output_type": "stream",
     "text": [
      "---final upsample expand_first---\n"
     ]
    }
   ],
   "source": [
    "from src.models.SwinUnet.networks.vision_transformer import SwinUnet\n",
    "\n",
    "class Config:\n",
    "    class DATA:\n",
    "        IMG_SIZE = 128 \n",
    "    \n",
    "    class MODEL:\n",
    "        DROP_RATE = 0.0  \n",
    "        DROP_PATH_RATE = 0.1  \n",
    "        LABEL_SMOOTHING = 0.1\n",
    "        NAME = 'swin_tiny_patch4_window7_224'\n",
    "        PRETRAIN_CKPT = 'src/models/SwinUnet/networks/swin_tiny_patch4_window7_224.pth'\n",
    "\n",
    "        \n",
    "        class SWIN:\n",
    "            PATCH_SIZE = 4 \n",
    "            IN_CHANS = 35  \n",
    "            EMBED_DIM = 96  \n",
    "            DEPTHS = [2, 2, 6, 2]  \n",
    "            NUM_HEADS = [3, 6, 12, 24] \n",
    "            WINDOW_SIZE = 4  \n",
    "            MLP_RATIO = 4.0  \n",
    "            QKV_BIAS = True  \n",
    "            QK_SCALE = None \n",
    "            APE = False\n",
    "            PATCH_NORM = True\n",
    "\n",
    "    class TRAIN:\n",
    "        START_EPOCH = 0\n",
    "        EPOCHS = 300\n",
    "        WARMUP_EPOCHS = 20\n",
    "        WEIGHT_DECAY = 0.05\n",
    "        BASE_LR = 5e-4\n",
    "        WARMUP_LR = 5e-7\n",
    "        MIN_LR = 5e-6\n",
    "        CLIP_GRAD = 5.0\n",
    "        AUTO_RESUME = True\n",
    "        ACCUMULATION_STEPS = 0\n",
    "        USE_CHECKPOINT = False\n",
    "\n",
    "\n",
    "        class LR_SCHEDULER:\n",
    "            NAME = 'cosine'\n",
    "            DECAY_EPOCHS = 30\n",
    "            DECAY_RATE = 0.1\n",
    "\n",
    "        class OPTIMIZER:\n",
    "            NAME = 'adamw'\n",
    "            EPS = 1e-8\n",
    "            BETAS = (0.9, 0.999)\n",
    "            MOMENTUM = 0.9\n",
    "    \n",
    "config = Config()\n",
    "\n",
    "swin_unet = SwinUnet(config, num_classes=1)"
   ]
  },
  {
   "cell_type": "code",
   "execution_count": 4,
   "metadata": {},
   "outputs": [],
   "source": [
    "import torch \n",
    "\n",
    "for name, param in swin_unet.named_parameters():\n",
    "    if param.dtype != torch.float32:\n",
    "        print(f\"Layer: {name}, Precision: {param.dtype}\")\n",
    "\n"
   ]
  },
  {
   "cell_type": "code",
   "execution_count": 26,
   "metadata": {},
   "outputs": [
    {
     "name": "stdout",
     "output_type": "stream",
     "text": [
      "when input size is torch.Size([1, 3, 224, 224]), output size is: torch.Size([1, 3136, 96])\n",
      "when input size is torch.Size([1, 3, 128, 128]), output size is: torch.Size([1, 1024, 96])\n"
     ]
    }
   ],
   "source": [
    "import torch\n",
    "\n",
    "from src.models.SwinUnet.networks.swin_transformer_unet_skip_expand_decoder_sys import PatchEmbed\n",
    "\n",
    "\n",
    "patch_embedder = PatchEmbed()\n",
    "inputs = torch.rand(1, 3, 224, 224)\n",
    "embedding = patch_embedder(inputs)\n",
    "print(f\"when input size is {inputs.shape}, output size is: {embedding.shape}\")\n",
    "\n",
    "new_inputs = torch.rand(1, 3, 128, 128)\n",
    "new_patch_embedder = PatchEmbed(img_size=128, patch_size=4)\n",
    "new_embedding = new_patch_embedder(new_inputs)\n",
    "print(f\"when input size is {new_inputs.shape}, output size is: {new_embedding.shape}\")\n",
    "\n",
    "\n"
   ]
  },
  {
   "cell_type": "code",
   "execution_count": 17,
   "metadata": {},
   "outputs": [
    {
     "data": {
      "text/plain": [
       "torch.Size([3, 224, 224])"
      ]
     },
     "execution_count": 17,
     "metadata": {},
     "output_type": "execute_result"
    }
   ],
   "source": [
    "inputs.shape"
   ]
  },
  {
   "cell_type": "code",
   "execution_count": 13,
   "metadata": {},
   "outputs": [
    {
     "name": "stdout",
     "output_type": "stream",
     "text": [
      "pretrained_path:src/models/SwinUnet/networks/swin_tiny_patch4_window7_224.pth\n",
      "---start load pretrained modle of swin encoder---\n",
      "Used pretrained keys: []\n",
      "Unused pretrained keys: ['patch_embed.proj.weight', 'patch_embed.proj.bias', 'patch_embed.norm.weight', 'patch_embed.norm.bias', 'layers.0.blocks.0.norm1.weight', 'layers.0.blocks.0.norm1.bias', 'layers.0.blocks.0.attn.qkv.weight', 'layers.0.blocks.0.attn.qkv.bias', 'layers.0.blocks.0.attn.proj.weight', 'layers.0.blocks.0.attn.proj.bias', 'layers.0.blocks.0.norm2.weight', 'layers.0.blocks.0.norm2.bias', 'layers.0.blocks.0.mlp.fc1.weight', 'layers.0.blocks.0.mlp.fc1.bias', 'layers.0.blocks.0.mlp.fc2.weight', 'layers.0.blocks.0.mlp.fc2.bias', 'layers.0.blocks.1.norm1.weight', 'layers.0.blocks.1.norm1.bias', 'layers.0.blocks.1.attn.qkv.weight', 'layers.0.blocks.1.attn.qkv.bias', 'layers.0.blocks.1.attn.proj.weight', 'layers.0.blocks.1.attn.proj.bias', 'layers.0.blocks.1.norm2.weight', 'layers.0.blocks.1.norm2.bias', 'layers.0.blocks.1.mlp.fc1.weight', 'layers.0.blocks.1.mlp.fc1.bias', 'layers.0.blocks.1.mlp.fc2.weight', 'layers.0.blocks.1.mlp.fc2.bias', 'layers.0.downsample.norm.weight', 'layers.0.downsample.norm.bias', 'layers.1.blocks.0.norm1.weight', 'layers.1.blocks.0.norm1.bias', 'layers.1.blocks.0.attn.qkv.weight', 'layers.1.blocks.0.attn.qkv.bias', 'layers.1.blocks.0.attn.proj.weight', 'layers.1.blocks.0.attn.proj.bias', 'layers.1.blocks.0.norm2.weight', 'layers.1.blocks.0.norm2.bias', 'layers.1.blocks.0.mlp.fc1.weight', 'layers.1.blocks.0.mlp.fc1.bias', 'layers.1.blocks.0.mlp.fc2.weight', 'layers.1.blocks.0.mlp.fc2.bias', 'layers.1.blocks.1.norm1.weight', 'layers.1.blocks.1.norm1.bias', 'layers.1.blocks.1.attn.qkv.weight', 'layers.1.blocks.1.attn.qkv.bias', 'layers.1.blocks.1.attn.proj.weight', 'layers.1.blocks.1.attn.proj.bias', 'layers.1.blocks.1.norm2.weight', 'layers.1.blocks.1.norm2.bias', 'layers.1.blocks.1.mlp.fc1.weight', 'layers.1.blocks.1.mlp.fc1.bias', 'layers.1.blocks.1.mlp.fc2.weight', 'layers.1.blocks.1.mlp.fc2.bias', 'layers.1.downsample.norm.weight', 'layers.1.downsample.norm.bias', 'layers.2.blocks.0.norm1.weight', 'layers.2.blocks.0.norm1.bias', 'layers.2.blocks.0.attn.qkv.weight', 'layers.2.blocks.0.attn.qkv.bias', 'layers.2.blocks.0.attn.proj.weight', 'layers.2.blocks.0.attn.proj.bias', 'layers.2.blocks.0.norm2.weight', 'layers.2.blocks.0.norm2.bias', 'layers.2.blocks.0.mlp.fc1.weight', 'layers.2.blocks.0.mlp.fc1.bias', 'layers.2.blocks.0.mlp.fc2.weight', 'layers.2.blocks.0.mlp.fc2.bias', 'layers.2.blocks.1.norm1.weight', 'layers.2.blocks.1.norm1.bias', 'layers.2.blocks.1.attn.qkv.weight', 'layers.2.blocks.1.attn.qkv.bias', 'layers.2.blocks.1.attn.proj.weight', 'layers.2.blocks.1.attn.proj.bias', 'layers.2.blocks.1.norm2.weight', 'layers.2.blocks.1.norm2.bias', 'layers.2.blocks.1.mlp.fc1.weight', 'layers.2.blocks.1.mlp.fc1.bias', 'layers.2.blocks.1.mlp.fc2.weight', 'layers.2.blocks.1.mlp.fc2.bias', 'layers.2.blocks.2.norm1.weight', 'layers.2.blocks.2.norm1.bias', 'layers.2.blocks.2.attn.qkv.weight', 'layers.2.blocks.2.attn.qkv.bias', 'layers.2.blocks.2.attn.proj.weight', 'layers.2.blocks.2.attn.proj.bias', 'layers.2.blocks.2.norm2.weight', 'layers.2.blocks.2.norm2.bias', 'layers.2.blocks.2.mlp.fc1.weight', 'layers.2.blocks.2.mlp.fc1.bias', 'layers.2.blocks.2.mlp.fc2.weight', 'layers.2.blocks.2.mlp.fc2.bias', 'layers.2.blocks.3.norm1.weight', 'layers.2.blocks.3.norm1.bias', 'layers.2.blocks.3.attn.qkv.weight', 'layers.2.blocks.3.attn.qkv.bias', 'layers.2.blocks.3.attn.proj.weight', 'layers.2.blocks.3.attn.proj.bias', 'layers.2.blocks.3.norm2.weight', 'layers.2.blocks.3.norm2.bias', 'layers.2.blocks.3.mlp.fc1.weight', 'layers.2.blocks.3.mlp.fc1.bias', 'layers.2.blocks.3.mlp.fc2.weight', 'layers.2.blocks.3.mlp.fc2.bias', 'layers.2.blocks.4.norm1.weight', 'layers.2.blocks.4.norm1.bias', 'layers.2.blocks.4.attn.qkv.weight', 'layers.2.blocks.4.attn.qkv.bias', 'layers.2.blocks.4.attn.proj.weight', 'layers.2.blocks.4.attn.proj.bias', 'layers.2.blocks.4.norm2.weight', 'layers.2.blocks.4.norm2.bias', 'layers.2.blocks.4.mlp.fc1.weight', 'layers.2.blocks.4.mlp.fc1.bias', 'layers.2.blocks.4.mlp.fc2.weight', 'layers.2.blocks.4.mlp.fc2.bias', 'layers.2.blocks.5.norm1.weight', 'layers.2.blocks.5.norm1.bias', 'layers.2.blocks.5.attn.qkv.weight', 'layers.2.blocks.5.attn.qkv.bias', 'layers.2.blocks.5.attn.proj.weight', 'layers.2.blocks.5.attn.proj.bias', 'layers.2.blocks.5.norm2.weight', 'layers.2.blocks.5.norm2.bias', 'layers.2.blocks.5.mlp.fc1.weight', 'layers.2.blocks.5.mlp.fc1.bias', 'layers.2.blocks.5.mlp.fc2.weight', 'layers.2.blocks.5.mlp.fc2.bias', 'layers.2.downsample.norm.weight', 'layers.2.downsample.norm.bias', 'layers.3.blocks.0.norm1.weight', 'layers.3.blocks.0.norm1.bias', 'layers.3.blocks.0.attn.qkv.weight', 'layers.3.blocks.0.attn.qkv.bias', 'layers.3.blocks.0.attn.proj.weight', 'layers.3.blocks.0.attn.proj.bias', 'layers.3.blocks.0.norm2.weight', 'layers.3.blocks.0.norm2.bias', 'layers.3.blocks.0.mlp.fc1.weight', 'layers.3.blocks.0.mlp.fc1.bias', 'layers.3.blocks.0.mlp.fc2.weight', 'layers.3.blocks.0.mlp.fc2.bias', 'layers.3.blocks.1.norm1.weight', 'layers.3.blocks.1.norm1.bias', 'layers.3.blocks.1.attn.qkv.weight', 'layers.3.blocks.1.attn.qkv.bias', 'layers.3.blocks.1.attn.proj.weight', 'layers.3.blocks.1.attn.proj.bias', 'layers.3.blocks.1.norm2.weight', 'layers.3.blocks.1.norm2.bias', 'layers.3.blocks.1.mlp.fc1.weight', 'layers.3.blocks.1.mlp.fc1.bias', 'layers.3.blocks.1.mlp.fc2.weight', 'layers.3.blocks.1.mlp.fc2.bias', 'norm.weight', 'norm.bias', 'head.weight', 'head.bias', 'layers.0.blocks.0.attn.relative_position_index', 'layers.0.blocks.1.attn.relative_position_index', 'layers.1.blocks.0.attn.relative_position_index', 'layers.1.blocks.1.attn.relative_position_index', 'layers.2.blocks.0.attn.relative_position_index', 'layers.2.blocks.1.attn.relative_position_index', 'layers.2.blocks.2.attn.relative_position_index', 'layers.2.blocks.3.attn.relative_position_index', 'layers.2.blocks.4.attn.relative_position_index', 'layers.2.blocks.5.attn.relative_position_index', 'layers.3.blocks.0.attn.relative_position_index', 'layers.3.blocks.1.attn.relative_position_index', 'layers.0.blocks.1.attn_mask', 'layers.1.blocks.1.attn_mask', 'layers.2.blocks.1.attn_mask', 'layers.2.blocks.3.attn_mask', 'layers.2.blocks.5.attn_mask', 'layers.0.blocks.0.attn.relative_position_bias_table', 'layers.0.blocks.1.attn.relative_position_bias_table', 'layers.1.blocks.0.attn.relative_position_bias_table', 'layers.1.blocks.1.attn.relative_position_bias_table', 'layers.2.blocks.0.attn.relative_position_bias_table', 'layers.2.blocks.1.attn.relative_position_bias_table', 'layers.2.blocks.2.attn.relative_position_bias_table', 'layers.2.blocks.3.attn.relative_position_bias_table', 'layers.2.blocks.4.attn.relative_position_bias_table', 'layers.2.blocks.5.attn.relative_position_bias_table', 'layers.3.blocks.0.attn.relative_position_bias_table', 'layers.3.blocks.1.attn.relative_position_bias_table', 'layers.0.downsample.reduction.weight', 'layers.1.downsample.reduction.weight', 'layers.2.downsample.reduction.weight', 'layers_up.3.blocks.0.norm1.weight', 'layers_up.3.blocks.0.norm1.bias', 'layers_up.3.blocks.0.attn.qkv.weight', 'layers_up.3.blocks.0.attn.qkv.bias', 'layers_up.3.blocks.0.attn.proj.weight', 'layers_up.3.blocks.0.attn.proj.bias', 'layers_up.3.blocks.0.norm2.weight', 'layers_up.3.blocks.0.norm2.bias', 'layers_up.3.blocks.0.mlp.fc1.weight', 'layers_up.3.blocks.0.mlp.fc1.bias', 'layers_up.3.blocks.0.mlp.fc2.weight', 'layers_up.3.blocks.0.mlp.fc2.bias', 'layers_up.3.blocks.1.norm1.weight', 'layers_up.3.blocks.1.norm1.bias', 'layers_up.3.blocks.1.attn.qkv.weight', 'layers_up.3.blocks.1.attn.qkv.bias', 'layers_up.3.blocks.1.attn.proj.weight', 'layers_up.3.blocks.1.attn.proj.bias', 'layers_up.3.blocks.1.norm2.weight', 'layers_up.3.blocks.1.norm2.bias', 'layers_up.3.blocks.1.mlp.fc1.weight', 'layers_up.3.blocks.1.mlp.fc1.bias', 'layers_up.3.blocks.1.mlp.fc2.weight', 'layers_up.3.blocks.1.mlp.fc2.bias', 'layers_up.3.downsample.norm.weight', 'layers_up.3.downsample.norm.bias', 'layers_up.2.blocks.0.norm1.weight', 'layers_up.2.blocks.0.norm1.bias', 'layers_up.2.blocks.0.attn.qkv.weight', 'layers_up.2.blocks.0.attn.qkv.bias', 'layers_up.2.blocks.0.attn.proj.weight', 'layers_up.2.blocks.0.attn.proj.bias', 'layers_up.2.blocks.0.norm2.weight', 'layers_up.2.blocks.0.norm2.bias', 'layers_up.2.blocks.0.mlp.fc1.weight', 'layers_up.2.blocks.0.mlp.fc1.bias', 'layers_up.2.blocks.0.mlp.fc2.weight', 'layers_up.2.blocks.0.mlp.fc2.bias', 'layers_up.2.blocks.1.norm1.weight', 'layers_up.2.blocks.1.norm1.bias', 'layers_up.2.blocks.1.attn.qkv.weight', 'layers_up.2.blocks.1.attn.qkv.bias', 'layers_up.2.blocks.1.attn.proj.weight', 'layers_up.2.blocks.1.attn.proj.bias', 'layers_up.2.blocks.1.norm2.weight', 'layers_up.2.blocks.1.norm2.bias', 'layers_up.2.blocks.1.mlp.fc1.weight', 'layers_up.2.blocks.1.mlp.fc1.bias', 'layers_up.2.blocks.1.mlp.fc2.weight', 'layers_up.2.blocks.1.mlp.fc2.bias', 'layers_up.2.downsample.norm.weight', 'layers_up.2.downsample.norm.bias', 'layers_up.1.blocks.0.norm1.weight', 'layers_up.1.blocks.0.norm1.bias', 'layers_up.1.blocks.0.attn.qkv.weight', 'layers_up.1.blocks.0.attn.qkv.bias', 'layers_up.1.blocks.0.attn.proj.weight', 'layers_up.1.blocks.0.attn.proj.bias', 'layers_up.1.blocks.0.norm2.weight', 'layers_up.1.blocks.0.norm2.bias', 'layers_up.1.blocks.0.mlp.fc1.weight', 'layers_up.1.blocks.0.mlp.fc1.bias', 'layers_up.1.blocks.0.mlp.fc2.weight', 'layers_up.1.blocks.0.mlp.fc2.bias', 'layers_up.1.blocks.1.norm1.weight', 'layers_up.1.blocks.1.norm1.bias', 'layers_up.1.blocks.1.attn.qkv.weight', 'layers_up.1.blocks.1.attn.qkv.bias', 'layers_up.1.blocks.1.attn.proj.weight', 'layers_up.1.blocks.1.attn.proj.bias', 'layers_up.1.blocks.1.norm2.weight', 'layers_up.1.blocks.1.norm2.bias', 'layers_up.1.blocks.1.mlp.fc1.weight', 'layers_up.1.blocks.1.mlp.fc1.bias', 'layers_up.1.blocks.1.mlp.fc2.weight', 'layers_up.1.blocks.1.mlp.fc2.bias', 'layers_up.1.blocks.2.norm1.weight', 'layers_up.1.blocks.2.norm1.bias', 'layers_up.1.blocks.2.attn.qkv.weight', 'layers_up.1.blocks.2.attn.qkv.bias', 'layers_up.1.blocks.2.attn.proj.weight', 'layers_up.1.blocks.2.attn.proj.bias', 'layers_up.1.blocks.2.norm2.weight', 'layers_up.1.blocks.2.norm2.bias', 'layers_up.1.blocks.2.mlp.fc1.weight', 'layers_up.1.blocks.2.mlp.fc1.bias', 'layers_up.1.blocks.2.mlp.fc2.weight', 'layers_up.1.blocks.2.mlp.fc2.bias', 'layers_up.1.blocks.3.norm1.weight', 'layers_up.1.blocks.3.norm1.bias', 'layers_up.1.blocks.3.attn.qkv.weight', 'layers_up.1.blocks.3.attn.qkv.bias', 'layers_up.1.blocks.3.attn.proj.weight', 'layers_up.1.blocks.3.attn.proj.bias', 'layers_up.1.blocks.3.norm2.weight', 'layers_up.1.blocks.3.norm2.bias', 'layers_up.1.blocks.3.mlp.fc1.weight', 'layers_up.1.blocks.3.mlp.fc1.bias', 'layers_up.1.blocks.3.mlp.fc2.weight', 'layers_up.1.blocks.3.mlp.fc2.bias', 'layers_up.1.blocks.4.norm1.weight', 'layers_up.1.blocks.4.norm1.bias', 'layers_up.1.blocks.4.attn.qkv.weight', 'layers_up.1.blocks.4.attn.qkv.bias', 'layers_up.1.blocks.4.attn.proj.weight', 'layers_up.1.blocks.4.attn.proj.bias', 'layers_up.1.blocks.4.norm2.weight', 'layers_up.1.blocks.4.norm2.bias', 'layers_up.1.blocks.4.mlp.fc1.weight', 'layers_up.1.blocks.4.mlp.fc1.bias', 'layers_up.1.blocks.4.mlp.fc2.weight', 'layers_up.1.blocks.4.mlp.fc2.bias', 'layers_up.1.blocks.5.norm1.weight', 'layers_up.1.blocks.5.norm1.bias', 'layers_up.1.blocks.5.attn.qkv.weight', 'layers_up.1.blocks.5.attn.qkv.bias', 'layers_up.1.blocks.5.attn.proj.weight', 'layers_up.1.blocks.5.attn.proj.bias', 'layers_up.1.blocks.5.norm2.weight', 'layers_up.1.blocks.5.norm2.bias', 'layers_up.1.blocks.5.mlp.fc1.weight', 'layers_up.1.blocks.5.mlp.fc1.bias', 'layers_up.1.blocks.5.mlp.fc2.weight', 'layers_up.1.blocks.5.mlp.fc2.bias', 'layers_up.1.downsample.norm.weight', 'layers_up.1.downsample.norm.bias', 'layers_up.0.blocks.0.norm1.weight', 'layers_up.0.blocks.0.norm1.bias', 'layers_up.0.blocks.0.attn.qkv.weight', 'layers_up.0.blocks.0.attn.qkv.bias', 'layers_up.0.blocks.0.attn.proj.weight', 'layers_up.0.blocks.0.attn.proj.bias', 'layers_up.0.blocks.0.norm2.weight', 'layers_up.0.blocks.0.norm2.bias', 'layers_up.0.blocks.0.mlp.fc1.weight', 'layers_up.0.blocks.0.mlp.fc1.bias', 'layers_up.0.blocks.0.mlp.fc2.weight', 'layers_up.0.blocks.0.mlp.fc2.bias', 'layers_up.0.blocks.1.norm1.weight', 'layers_up.0.blocks.1.norm1.bias', 'layers_up.0.blocks.1.attn.qkv.weight', 'layers_up.0.blocks.1.attn.qkv.bias', 'layers_up.0.blocks.1.attn.proj.weight', 'layers_up.0.blocks.1.attn.proj.bias', 'layers_up.0.blocks.1.norm2.weight', 'layers_up.0.blocks.1.norm2.bias', 'layers_up.0.blocks.1.mlp.fc1.weight', 'layers_up.0.blocks.1.mlp.fc1.bias', 'layers_up.0.blocks.1.mlp.fc2.weight', 'layers_up.0.blocks.1.mlp.fc2.bias', 'layers_up.3.blocks.0.attn.relative_position_index', 'layers_up.3.blocks.1.attn.relative_position_index', 'layers_up.2.blocks.0.attn.relative_position_index', 'layers_up.2.blocks.1.attn.relative_position_index', 'layers_up.1.blocks.0.attn.relative_position_index', 'layers_up.1.blocks.1.attn.relative_position_index', 'layers_up.1.blocks.2.attn.relative_position_index', 'layers_up.1.blocks.3.attn.relative_position_index', 'layers_up.1.blocks.4.attn.relative_position_index', 'layers_up.1.blocks.5.attn.relative_position_index', 'layers_up.0.blocks.0.attn.relative_position_index', 'layers_up.0.blocks.1.attn.relative_position_index', 'layers_up.3.blocks.1.attn_mask', 'layers_up.2.blocks.1.attn_mask', 'layers_up.1.blocks.1.attn_mask', 'layers_up.1.blocks.3.attn_mask', 'layers_up.1.blocks.5.attn_mask', 'layers_up.3.blocks.0.attn.relative_position_bias_table', 'layers_up.3.blocks.1.attn.relative_position_bias_table', 'layers_up.2.blocks.0.attn.relative_position_bias_table', 'layers_up.2.blocks.1.attn.relative_position_bias_table', 'layers_up.1.blocks.0.attn.relative_position_bias_table', 'layers_up.1.blocks.1.attn.relative_position_bias_table', 'layers_up.1.blocks.2.attn.relative_position_bias_table', 'layers_up.1.blocks.3.attn.relative_position_bias_table', 'layers_up.1.blocks.4.attn.relative_position_bias_table', 'layers_up.1.blocks.5.attn.relative_position_bias_table', 'layers_up.0.blocks.0.attn.relative_position_bias_table', 'layers_up.0.blocks.1.attn.relative_position_bias_table', 'layers_up.3.downsample.reduction.weight', 'layers_up.2.downsample.reduction.weight', 'layers_up.1.downsample.reduction.weight']\n",
      "_IncompatibleKeys(missing_keys=['swin_unet.patch_embed.proj.weight', 'swin_unet.patch_embed.proj.bias', 'swin_unet.patch_embed.norm.weight', 'swin_unet.patch_embed.norm.bias', 'swin_unet.layers.0.blocks.0.norm1.weight', 'swin_unet.layers.0.blocks.0.norm1.bias', 'swin_unet.layers.0.blocks.0.attn.relative_position_bias_table', 'swin_unet.layers.0.blocks.0.attn.relative_position_index', 'swin_unet.layers.0.blocks.0.attn.qkv.weight', 'swin_unet.layers.0.blocks.0.attn.qkv.bias', 'swin_unet.layers.0.blocks.0.attn.proj.weight', 'swin_unet.layers.0.blocks.0.attn.proj.bias', 'swin_unet.layers.0.blocks.0.norm2.weight', 'swin_unet.layers.0.blocks.0.norm2.bias', 'swin_unet.layers.0.blocks.0.mlp.fc1.weight', 'swin_unet.layers.0.blocks.0.mlp.fc1.bias', 'swin_unet.layers.0.blocks.0.mlp.fc2.weight', 'swin_unet.layers.0.blocks.0.mlp.fc2.bias', 'swin_unet.layers.0.blocks.1.attn_mask', 'swin_unet.layers.0.blocks.1.norm1.weight', 'swin_unet.layers.0.blocks.1.norm1.bias', 'swin_unet.layers.0.blocks.1.attn.relative_position_bias_table', 'swin_unet.layers.0.blocks.1.attn.relative_position_index', 'swin_unet.layers.0.blocks.1.attn.qkv.weight', 'swin_unet.layers.0.blocks.1.attn.qkv.bias', 'swin_unet.layers.0.blocks.1.attn.proj.weight', 'swin_unet.layers.0.blocks.1.attn.proj.bias', 'swin_unet.layers.0.blocks.1.norm2.weight', 'swin_unet.layers.0.blocks.1.norm2.bias', 'swin_unet.layers.0.blocks.1.mlp.fc1.weight', 'swin_unet.layers.0.blocks.1.mlp.fc1.bias', 'swin_unet.layers.0.blocks.1.mlp.fc2.weight', 'swin_unet.layers.0.blocks.1.mlp.fc2.bias', 'swin_unet.layers.0.downsample.reduction.weight', 'swin_unet.layers.0.downsample.norm.weight', 'swin_unet.layers.0.downsample.norm.bias', 'swin_unet.layers.1.blocks.0.norm1.weight', 'swin_unet.layers.1.blocks.0.norm1.bias', 'swin_unet.layers.1.blocks.0.attn.relative_position_bias_table', 'swin_unet.layers.1.blocks.0.attn.relative_position_index', 'swin_unet.layers.1.blocks.0.attn.qkv.weight', 'swin_unet.layers.1.blocks.0.attn.qkv.bias', 'swin_unet.layers.1.blocks.0.attn.proj.weight', 'swin_unet.layers.1.blocks.0.attn.proj.bias', 'swin_unet.layers.1.blocks.0.norm2.weight', 'swin_unet.layers.1.blocks.0.norm2.bias', 'swin_unet.layers.1.blocks.0.mlp.fc1.weight', 'swin_unet.layers.1.blocks.0.mlp.fc1.bias', 'swin_unet.layers.1.blocks.0.mlp.fc2.weight', 'swin_unet.layers.1.blocks.0.mlp.fc2.bias', 'swin_unet.layers.1.blocks.1.attn_mask', 'swin_unet.layers.1.blocks.1.norm1.weight', 'swin_unet.layers.1.blocks.1.norm1.bias', 'swin_unet.layers.1.blocks.1.attn.relative_position_bias_table', 'swin_unet.layers.1.blocks.1.attn.relative_position_index', 'swin_unet.layers.1.blocks.1.attn.qkv.weight', 'swin_unet.layers.1.blocks.1.attn.qkv.bias', 'swin_unet.layers.1.blocks.1.attn.proj.weight', 'swin_unet.layers.1.blocks.1.attn.proj.bias', 'swin_unet.layers.1.blocks.1.norm2.weight', 'swin_unet.layers.1.blocks.1.norm2.bias', 'swin_unet.layers.1.blocks.1.mlp.fc1.weight', 'swin_unet.layers.1.blocks.1.mlp.fc1.bias', 'swin_unet.layers.1.blocks.1.mlp.fc2.weight', 'swin_unet.layers.1.blocks.1.mlp.fc2.bias', 'swin_unet.layers.1.downsample.reduction.weight', 'swin_unet.layers.1.downsample.norm.weight', 'swin_unet.layers.1.downsample.norm.bias', 'swin_unet.layers.2.blocks.0.norm1.weight', 'swin_unet.layers.2.blocks.0.norm1.bias', 'swin_unet.layers.2.blocks.0.attn.relative_position_bias_table', 'swin_unet.layers.2.blocks.0.attn.relative_position_index', 'swin_unet.layers.2.blocks.0.attn.qkv.weight', 'swin_unet.layers.2.blocks.0.attn.qkv.bias', 'swin_unet.layers.2.blocks.0.attn.proj.weight', 'swin_unet.layers.2.blocks.0.attn.proj.bias', 'swin_unet.layers.2.blocks.0.norm2.weight', 'swin_unet.layers.2.blocks.0.norm2.bias', 'swin_unet.layers.2.blocks.0.mlp.fc1.weight', 'swin_unet.layers.2.blocks.0.mlp.fc1.bias', 'swin_unet.layers.2.blocks.0.mlp.fc2.weight', 'swin_unet.layers.2.blocks.0.mlp.fc2.bias', 'swin_unet.layers.2.blocks.1.attn_mask', 'swin_unet.layers.2.blocks.1.norm1.weight', 'swin_unet.layers.2.blocks.1.norm1.bias', 'swin_unet.layers.2.blocks.1.attn.relative_position_bias_table', 'swin_unet.layers.2.blocks.1.attn.relative_position_index', 'swin_unet.layers.2.blocks.1.attn.qkv.weight', 'swin_unet.layers.2.blocks.1.attn.qkv.bias', 'swin_unet.layers.2.blocks.1.attn.proj.weight', 'swin_unet.layers.2.blocks.1.attn.proj.bias', 'swin_unet.layers.2.blocks.1.norm2.weight', 'swin_unet.layers.2.blocks.1.norm2.bias', 'swin_unet.layers.2.blocks.1.mlp.fc1.weight', 'swin_unet.layers.2.blocks.1.mlp.fc1.bias', 'swin_unet.layers.2.blocks.1.mlp.fc2.weight', 'swin_unet.layers.2.blocks.1.mlp.fc2.bias', 'swin_unet.layers.2.blocks.2.norm1.weight', 'swin_unet.layers.2.blocks.2.norm1.bias', 'swin_unet.layers.2.blocks.2.attn.relative_position_bias_table', 'swin_unet.layers.2.blocks.2.attn.relative_position_index', 'swin_unet.layers.2.blocks.2.attn.qkv.weight', 'swin_unet.layers.2.blocks.2.attn.qkv.bias', 'swin_unet.layers.2.blocks.2.attn.proj.weight', 'swin_unet.layers.2.blocks.2.attn.proj.bias', 'swin_unet.layers.2.blocks.2.norm2.weight', 'swin_unet.layers.2.blocks.2.norm2.bias', 'swin_unet.layers.2.blocks.2.mlp.fc1.weight', 'swin_unet.layers.2.blocks.2.mlp.fc1.bias', 'swin_unet.layers.2.blocks.2.mlp.fc2.weight', 'swin_unet.layers.2.blocks.2.mlp.fc2.bias', 'swin_unet.layers.2.blocks.3.attn_mask', 'swin_unet.layers.2.blocks.3.norm1.weight', 'swin_unet.layers.2.blocks.3.norm1.bias', 'swin_unet.layers.2.blocks.3.attn.relative_position_bias_table', 'swin_unet.layers.2.blocks.3.attn.relative_position_index', 'swin_unet.layers.2.blocks.3.attn.qkv.weight', 'swin_unet.layers.2.blocks.3.attn.qkv.bias', 'swin_unet.layers.2.blocks.3.attn.proj.weight', 'swin_unet.layers.2.blocks.3.attn.proj.bias', 'swin_unet.layers.2.blocks.3.norm2.weight', 'swin_unet.layers.2.blocks.3.norm2.bias', 'swin_unet.layers.2.blocks.3.mlp.fc1.weight', 'swin_unet.layers.2.blocks.3.mlp.fc1.bias', 'swin_unet.layers.2.blocks.3.mlp.fc2.weight', 'swin_unet.layers.2.blocks.3.mlp.fc2.bias', 'swin_unet.layers.2.blocks.4.norm1.weight', 'swin_unet.layers.2.blocks.4.norm1.bias', 'swin_unet.layers.2.blocks.4.attn.relative_position_bias_table', 'swin_unet.layers.2.blocks.4.attn.relative_position_index', 'swin_unet.layers.2.blocks.4.attn.qkv.weight', 'swin_unet.layers.2.blocks.4.attn.qkv.bias', 'swin_unet.layers.2.blocks.4.attn.proj.weight', 'swin_unet.layers.2.blocks.4.attn.proj.bias', 'swin_unet.layers.2.blocks.4.norm2.weight', 'swin_unet.layers.2.blocks.4.norm2.bias', 'swin_unet.layers.2.blocks.4.mlp.fc1.weight', 'swin_unet.layers.2.blocks.4.mlp.fc1.bias', 'swin_unet.layers.2.blocks.4.mlp.fc2.weight', 'swin_unet.layers.2.blocks.4.mlp.fc2.bias', 'swin_unet.layers.2.blocks.5.attn_mask', 'swin_unet.layers.2.blocks.5.norm1.weight', 'swin_unet.layers.2.blocks.5.norm1.bias', 'swin_unet.layers.2.blocks.5.attn.relative_position_bias_table', 'swin_unet.layers.2.blocks.5.attn.relative_position_index', 'swin_unet.layers.2.blocks.5.attn.qkv.weight', 'swin_unet.layers.2.blocks.5.attn.qkv.bias', 'swin_unet.layers.2.blocks.5.attn.proj.weight', 'swin_unet.layers.2.blocks.5.attn.proj.bias', 'swin_unet.layers.2.blocks.5.norm2.weight', 'swin_unet.layers.2.blocks.5.norm2.bias', 'swin_unet.layers.2.blocks.5.mlp.fc1.weight', 'swin_unet.layers.2.blocks.5.mlp.fc1.bias', 'swin_unet.layers.2.blocks.5.mlp.fc2.weight', 'swin_unet.layers.2.blocks.5.mlp.fc2.bias', 'swin_unet.layers.2.downsample.reduction.weight', 'swin_unet.layers.2.downsample.norm.weight', 'swin_unet.layers.2.downsample.norm.bias', 'swin_unet.layers.3.blocks.0.norm1.weight', 'swin_unet.layers.3.blocks.0.norm1.bias', 'swin_unet.layers.3.blocks.0.attn.relative_position_bias_table', 'swin_unet.layers.3.blocks.0.attn.relative_position_index', 'swin_unet.layers.3.blocks.0.attn.qkv.weight', 'swin_unet.layers.3.blocks.0.attn.qkv.bias', 'swin_unet.layers.3.blocks.0.attn.proj.weight', 'swin_unet.layers.3.blocks.0.attn.proj.bias', 'swin_unet.layers.3.blocks.0.norm2.weight', 'swin_unet.layers.3.blocks.0.norm2.bias', 'swin_unet.layers.3.blocks.0.mlp.fc1.weight', 'swin_unet.layers.3.blocks.0.mlp.fc1.bias', 'swin_unet.layers.3.blocks.0.mlp.fc2.weight', 'swin_unet.layers.3.blocks.0.mlp.fc2.bias', 'swin_unet.layers.3.blocks.1.norm1.weight', 'swin_unet.layers.3.blocks.1.norm1.bias', 'swin_unet.layers.3.blocks.1.attn.relative_position_bias_table', 'swin_unet.layers.3.blocks.1.attn.relative_position_index', 'swin_unet.layers.3.blocks.1.attn.qkv.weight', 'swin_unet.layers.3.blocks.1.attn.qkv.bias', 'swin_unet.layers.3.blocks.1.attn.proj.weight', 'swin_unet.layers.3.blocks.1.attn.proj.bias', 'swin_unet.layers.3.blocks.1.norm2.weight', 'swin_unet.layers.3.blocks.1.norm2.bias', 'swin_unet.layers.3.blocks.1.mlp.fc1.weight', 'swin_unet.layers.3.blocks.1.mlp.fc1.bias', 'swin_unet.layers.3.blocks.1.mlp.fc2.weight', 'swin_unet.layers.3.blocks.1.mlp.fc2.bias', 'swin_unet.layers_up.0.expand.weight', 'swin_unet.layers_up.0.norm.weight', 'swin_unet.layers_up.0.norm.bias', 'swin_unet.layers_up.1.blocks.0.norm1.weight', 'swin_unet.layers_up.1.blocks.0.norm1.bias', 'swin_unet.layers_up.1.blocks.0.attn.relative_position_bias_table', 'swin_unet.layers_up.1.blocks.0.attn.relative_position_index', 'swin_unet.layers_up.1.blocks.0.attn.qkv.weight', 'swin_unet.layers_up.1.blocks.0.attn.qkv.bias', 'swin_unet.layers_up.1.blocks.0.attn.proj.weight', 'swin_unet.layers_up.1.blocks.0.attn.proj.bias', 'swin_unet.layers_up.1.blocks.0.norm2.weight', 'swin_unet.layers_up.1.blocks.0.norm2.bias', 'swin_unet.layers_up.1.blocks.0.mlp.fc1.weight', 'swin_unet.layers_up.1.blocks.0.mlp.fc1.bias', 'swin_unet.layers_up.1.blocks.0.mlp.fc2.weight', 'swin_unet.layers_up.1.blocks.0.mlp.fc2.bias', 'swin_unet.layers_up.1.blocks.1.attn_mask', 'swin_unet.layers_up.1.blocks.1.norm1.weight', 'swin_unet.layers_up.1.blocks.1.norm1.bias', 'swin_unet.layers_up.1.blocks.1.attn.relative_position_bias_table', 'swin_unet.layers_up.1.blocks.1.attn.relative_position_index', 'swin_unet.layers_up.1.blocks.1.attn.qkv.weight', 'swin_unet.layers_up.1.blocks.1.attn.qkv.bias', 'swin_unet.layers_up.1.blocks.1.attn.proj.weight', 'swin_unet.layers_up.1.blocks.1.attn.proj.bias', 'swin_unet.layers_up.1.blocks.1.norm2.weight', 'swin_unet.layers_up.1.blocks.1.norm2.bias', 'swin_unet.layers_up.1.blocks.1.mlp.fc1.weight', 'swin_unet.layers_up.1.blocks.1.mlp.fc1.bias', 'swin_unet.layers_up.1.blocks.1.mlp.fc2.weight', 'swin_unet.layers_up.1.blocks.1.mlp.fc2.bias', 'swin_unet.layers_up.1.blocks.2.norm1.weight', 'swin_unet.layers_up.1.blocks.2.norm1.bias', 'swin_unet.layers_up.1.blocks.2.attn.relative_position_bias_table', 'swin_unet.layers_up.1.blocks.2.attn.relative_position_index', 'swin_unet.layers_up.1.blocks.2.attn.qkv.weight', 'swin_unet.layers_up.1.blocks.2.attn.qkv.bias', 'swin_unet.layers_up.1.blocks.2.attn.proj.weight', 'swin_unet.layers_up.1.blocks.2.attn.proj.bias', 'swin_unet.layers_up.1.blocks.2.norm2.weight', 'swin_unet.layers_up.1.blocks.2.norm2.bias', 'swin_unet.layers_up.1.blocks.2.mlp.fc1.weight', 'swin_unet.layers_up.1.blocks.2.mlp.fc1.bias', 'swin_unet.layers_up.1.blocks.2.mlp.fc2.weight', 'swin_unet.layers_up.1.blocks.2.mlp.fc2.bias', 'swin_unet.layers_up.1.blocks.3.attn_mask', 'swin_unet.layers_up.1.blocks.3.norm1.weight', 'swin_unet.layers_up.1.blocks.3.norm1.bias', 'swin_unet.layers_up.1.blocks.3.attn.relative_position_bias_table', 'swin_unet.layers_up.1.blocks.3.attn.relative_position_index', 'swin_unet.layers_up.1.blocks.3.attn.qkv.weight', 'swin_unet.layers_up.1.blocks.3.attn.qkv.bias', 'swin_unet.layers_up.1.blocks.3.attn.proj.weight', 'swin_unet.layers_up.1.blocks.3.attn.proj.bias', 'swin_unet.layers_up.1.blocks.3.norm2.weight', 'swin_unet.layers_up.1.blocks.3.norm2.bias', 'swin_unet.layers_up.1.blocks.3.mlp.fc1.weight', 'swin_unet.layers_up.1.blocks.3.mlp.fc1.bias', 'swin_unet.layers_up.1.blocks.3.mlp.fc2.weight', 'swin_unet.layers_up.1.blocks.3.mlp.fc2.bias', 'swin_unet.layers_up.1.blocks.4.norm1.weight', 'swin_unet.layers_up.1.blocks.4.norm1.bias', 'swin_unet.layers_up.1.blocks.4.attn.relative_position_bias_table', 'swin_unet.layers_up.1.blocks.4.attn.relative_position_index', 'swin_unet.layers_up.1.blocks.4.attn.qkv.weight', 'swin_unet.layers_up.1.blocks.4.attn.qkv.bias', 'swin_unet.layers_up.1.blocks.4.attn.proj.weight', 'swin_unet.layers_up.1.blocks.4.attn.proj.bias', 'swin_unet.layers_up.1.blocks.4.norm2.weight', 'swin_unet.layers_up.1.blocks.4.norm2.bias', 'swin_unet.layers_up.1.blocks.4.mlp.fc1.weight', 'swin_unet.layers_up.1.blocks.4.mlp.fc1.bias', 'swin_unet.layers_up.1.blocks.4.mlp.fc2.weight', 'swin_unet.layers_up.1.blocks.4.mlp.fc2.bias', 'swin_unet.layers_up.1.blocks.5.attn_mask', 'swin_unet.layers_up.1.blocks.5.norm1.weight', 'swin_unet.layers_up.1.blocks.5.norm1.bias', 'swin_unet.layers_up.1.blocks.5.attn.relative_position_bias_table', 'swin_unet.layers_up.1.blocks.5.attn.relative_position_index', 'swin_unet.layers_up.1.blocks.5.attn.qkv.weight', 'swin_unet.layers_up.1.blocks.5.attn.qkv.bias', 'swin_unet.layers_up.1.blocks.5.attn.proj.weight', 'swin_unet.layers_up.1.blocks.5.attn.proj.bias', 'swin_unet.layers_up.1.blocks.5.norm2.weight', 'swin_unet.layers_up.1.blocks.5.norm2.bias', 'swin_unet.layers_up.1.blocks.5.mlp.fc1.weight', 'swin_unet.layers_up.1.blocks.5.mlp.fc1.bias', 'swin_unet.layers_up.1.blocks.5.mlp.fc2.weight', 'swin_unet.layers_up.1.blocks.5.mlp.fc2.bias', 'swin_unet.layers_up.1.upsample.expand.weight', 'swin_unet.layers_up.1.upsample.norm.weight', 'swin_unet.layers_up.1.upsample.norm.bias', 'swin_unet.layers_up.2.blocks.0.norm1.weight', 'swin_unet.layers_up.2.blocks.0.norm1.bias', 'swin_unet.layers_up.2.blocks.0.attn.relative_position_bias_table', 'swin_unet.layers_up.2.blocks.0.attn.relative_position_index', 'swin_unet.layers_up.2.blocks.0.attn.qkv.weight', 'swin_unet.layers_up.2.blocks.0.attn.qkv.bias', 'swin_unet.layers_up.2.blocks.0.attn.proj.weight', 'swin_unet.layers_up.2.blocks.0.attn.proj.bias', 'swin_unet.layers_up.2.blocks.0.norm2.weight', 'swin_unet.layers_up.2.blocks.0.norm2.bias', 'swin_unet.layers_up.2.blocks.0.mlp.fc1.weight', 'swin_unet.layers_up.2.blocks.0.mlp.fc1.bias', 'swin_unet.layers_up.2.blocks.0.mlp.fc2.weight', 'swin_unet.layers_up.2.blocks.0.mlp.fc2.bias', 'swin_unet.layers_up.2.blocks.1.attn_mask', 'swin_unet.layers_up.2.blocks.1.norm1.weight', 'swin_unet.layers_up.2.blocks.1.norm1.bias', 'swin_unet.layers_up.2.blocks.1.attn.relative_position_bias_table', 'swin_unet.layers_up.2.blocks.1.attn.relative_position_index', 'swin_unet.layers_up.2.blocks.1.attn.qkv.weight', 'swin_unet.layers_up.2.blocks.1.attn.qkv.bias', 'swin_unet.layers_up.2.blocks.1.attn.proj.weight', 'swin_unet.layers_up.2.blocks.1.attn.proj.bias', 'swin_unet.layers_up.2.blocks.1.norm2.weight', 'swin_unet.layers_up.2.blocks.1.norm2.bias', 'swin_unet.layers_up.2.blocks.1.mlp.fc1.weight', 'swin_unet.layers_up.2.blocks.1.mlp.fc1.bias', 'swin_unet.layers_up.2.blocks.1.mlp.fc2.weight', 'swin_unet.layers_up.2.blocks.1.mlp.fc2.bias', 'swin_unet.layers_up.2.upsample.expand.weight', 'swin_unet.layers_up.2.upsample.norm.weight', 'swin_unet.layers_up.2.upsample.norm.bias', 'swin_unet.layers_up.3.blocks.0.norm1.weight', 'swin_unet.layers_up.3.blocks.0.norm1.bias', 'swin_unet.layers_up.3.blocks.0.attn.relative_position_bias_table', 'swin_unet.layers_up.3.blocks.0.attn.relative_position_index', 'swin_unet.layers_up.3.blocks.0.attn.qkv.weight', 'swin_unet.layers_up.3.blocks.0.attn.qkv.bias', 'swin_unet.layers_up.3.blocks.0.attn.proj.weight', 'swin_unet.layers_up.3.blocks.0.attn.proj.bias', 'swin_unet.layers_up.3.blocks.0.norm2.weight', 'swin_unet.layers_up.3.blocks.0.norm2.bias', 'swin_unet.layers_up.3.blocks.0.mlp.fc1.weight', 'swin_unet.layers_up.3.blocks.0.mlp.fc1.bias', 'swin_unet.layers_up.3.blocks.0.mlp.fc2.weight', 'swin_unet.layers_up.3.blocks.0.mlp.fc2.bias', 'swin_unet.layers_up.3.blocks.1.attn_mask', 'swin_unet.layers_up.3.blocks.1.norm1.weight', 'swin_unet.layers_up.3.blocks.1.norm1.bias', 'swin_unet.layers_up.3.blocks.1.attn.relative_position_bias_table', 'swin_unet.layers_up.3.blocks.1.attn.relative_position_index', 'swin_unet.layers_up.3.blocks.1.attn.qkv.weight', 'swin_unet.layers_up.3.blocks.1.attn.qkv.bias', 'swin_unet.layers_up.3.blocks.1.attn.proj.weight', 'swin_unet.layers_up.3.blocks.1.attn.proj.bias', 'swin_unet.layers_up.3.blocks.1.norm2.weight', 'swin_unet.layers_up.3.blocks.1.norm2.bias', 'swin_unet.layers_up.3.blocks.1.mlp.fc1.weight', 'swin_unet.layers_up.3.blocks.1.mlp.fc1.bias', 'swin_unet.layers_up.3.blocks.1.mlp.fc2.weight', 'swin_unet.layers_up.3.blocks.1.mlp.fc2.bias', 'swin_unet.concat_back_dim.1.weight', 'swin_unet.concat_back_dim.1.bias', 'swin_unet.concat_back_dim.2.weight', 'swin_unet.concat_back_dim.2.bias', 'swin_unet.concat_back_dim.3.weight', 'swin_unet.concat_back_dim.3.bias', 'swin_unet.norm.weight', 'swin_unet.norm.bias', 'swin_unet.norm_up.weight', 'swin_unet.norm_up.bias', 'swin_unet.up.expand.weight', 'swin_unet.up.norm.weight', 'swin_unet.up.norm.bias', 'swin_unet.output.weight'], unexpected_keys=['patch_embed.proj.weight', 'patch_embed.proj.bias', 'patch_embed.norm.weight', 'patch_embed.norm.bias', 'layers.0.blocks.0.norm1.weight', 'layers.0.blocks.0.norm1.bias', 'layers.0.blocks.0.attn.qkv.weight', 'layers.0.blocks.0.attn.qkv.bias', 'layers.0.blocks.0.attn.proj.weight', 'layers.0.blocks.0.attn.proj.bias', 'layers.0.blocks.0.norm2.weight', 'layers.0.blocks.0.norm2.bias', 'layers.0.blocks.0.mlp.fc1.weight', 'layers.0.blocks.0.mlp.fc1.bias', 'layers.0.blocks.0.mlp.fc2.weight', 'layers.0.blocks.0.mlp.fc2.bias', 'layers.0.blocks.1.norm1.weight', 'layers.0.blocks.1.norm1.bias', 'layers.0.blocks.1.attn.qkv.weight', 'layers.0.blocks.1.attn.qkv.bias', 'layers.0.blocks.1.attn.proj.weight', 'layers.0.blocks.1.attn.proj.bias', 'layers.0.blocks.1.norm2.weight', 'layers.0.blocks.1.norm2.bias', 'layers.0.blocks.1.mlp.fc1.weight', 'layers.0.blocks.1.mlp.fc1.bias', 'layers.0.blocks.1.mlp.fc2.weight', 'layers.0.blocks.1.mlp.fc2.bias', 'layers.0.downsample.norm.weight', 'layers.0.downsample.norm.bias', 'layers.1.blocks.0.norm1.weight', 'layers.1.blocks.0.norm1.bias', 'layers.1.blocks.0.attn.qkv.weight', 'layers.1.blocks.0.attn.qkv.bias', 'layers.1.blocks.0.attn.proj.weight', 'layers.1.blocks.0.attn.proj.bias', 'layers.1.blocks.0.norm2.weight', 'layers.1.blocks.0.norm2.bias', 'layers.1.blocks.0.mlp.fc1.weight', 'layers.1.blocks.0.mlp.fc1.bias', 'layers.1.blocks.0.mlp.fc2.weight', 'layers.1.blocks.0.mlp.fc2.bias', 'layers.1.blocks.1.norm1.weight', 'layers.1.blocks.1.norm1.bias', 'layers.1.blocks.1.attn.qkv.weight', 'layers.1.blocks.1.attn.qkv.bias', 'layers.1.blocks.1.attn.proj.weight', 'layers.1.blocks.1.attn.proj.bias', 'layers.1.blocks.1.norm2.weight', 'layers.1.blocks.1.norm2.bias', 'layers.1.blocks.1.mlp.fc1.weight', 'layers.1.blocks.1.mlp.fc1.bias', 'layers.1.blocks.1.mlp.fc2.weight', 'layers.1.blocks.1.mlp.fc2.bias', 'layers.1.downsample.norm.weight', 'layers.1.downsample.norm.bias', 'layers.2.blocks.0.norm1.weight', 'layers.2.blocks.0.norm1.bias', 'layers.2.blocks.0.attn.qkv.weight', 'layers.2.blocks.0.attn.qkv.bias', 'layers.2.blocks.0.attn.proj.weight', 'layers.2.blocks.0.attn.proj.bias', 'layers.2.blocks.0.norm2.weight', 'layers.2.blocks.0.norm2.bias', 'layers.2.blocks.0.mlp.fc1.weight', 'layers.2.blocks.0.mlp.fc1.bias', 'layers.2.blocks.0.mlp.fc2.weight', 'layers.2.blocks.0.mlp.fc2.bias', 'layers.2.blocks.1.norm1.weight', 'layers.2.blocks.1.norm1.bias', 'layers.2.blocks.1.attn.qkv.weight', 'layers.2.blocks.1.attn.qkv.bias', 'layers.2.blocks.1.attn.proj.weight', 'layers.2.blocks.1.attn.proj.bias', 'layers.2.blocks.1.norm2.weight', 'layers.2.blocks.1.norm2.bias', 'layers.2.blocks.1.mlp.fc1.weight', 'layers.2.blocks.1.mlp.fc1.bias', 'layers.2.blocks.1.mlp.fc2.weight', 'layers.2.blocks.1.mlp.fc2.bias', 'layers.2.blocks.2.norm1.weight', 'layers.2.blocks.2.norm1.bias', 'layers.2.blocks.2.attn.qkv.weight', 'layers.2.blocks.2.attn.qkv.bias', 'layers.2.blocks.2.attn.proj.weight', 'layers.2.blocks.2.attn.proj.bias', 'layers.2.blocks.2.norm2.weight', 'layers.2.blocks.2.norm2.bias', 'layers.2.blocks.2.mlp.fc1.weight', 'layers.2.blocks.2.mlp.fc1.bias', 'layers.2.blocks.2.mlp.fc2.weight', 'layers.2.blocks.2.mlp.fc2.bias', 'layers.2.blocks.3.norm1.weight', 'layers.2.blocks.3.norm1.bias', 'layers.2.blocks.3.attn.qkv.weight', 'layers.2.blocks.3.attn.qkv.bias', 'layers.2.blocks.3.attn.proj.weight', 'layers.2.blocks.3.attn.proj.bias', 'layers.2.blocks.3.norm2.weight', 'layers.2.blocks.3.norm2.bias', 'layers.2.blocks.3.mlp.fc1.weight', 'layers.2.blocks.3.mlp.fc1.bias', 'layers.2.blocks.3.mlp.fc2.weight', 'layers.2.blocks.3.mlp.fc2.bias', 'layers.2.blocks.4.norm1.weight', 'layers.2.blocks.4.norm1.bias', 'layers.2.blocks.4.attn.qkv.weight', 'layers.2.blocks.4.attn.qkv.bias', 'layers.2.blocks.4.attn.proj.weight', 'layers.2.blocks.4.attn.proj.bias', 'layers.2.blocks.4.norm2.weight', 'layers.2.blocks.4.norm2.bias', 'layers.2.blocks.4.mlp.fc1.weight', 'layers.2.blocks.4.mlp.fc1.bias', 'layers.2.blocks.4.mlp.fc2.weight', 'layers.2.blocks.4.mlp.fc2.bias', 'layers.2.blocks.5.norm1.weight', 'layers.2.blocks.5.norm1.bias', 'layers.2.blocks.5.attn.qkv.weight', 'layers.2.blocks.5.attn.qkv.bias', 'layers.2.blocks.5.attn.proj.weight', 'layers.2.blocks.5.attn.proj.bias', 'layers.2.blocks.5.norm2.weight', 'layers.2.blocks.5.norm2.bias', 'layers.2.blocks.5.mlp.fc1.weight', 'layers.2.blocks.5.mlp.fc1.bias', 'layers.2.blocks.5.mlp.fc2.weight', 'layers.2.blocks.5.mlp.fc2.bias', 'layers.2.downsample.norm.weight', 'layers.2.downsample.norm.bias', 'layers.3.blocks.0.norm1.weight', 'layers.3.blocks.0.norm1.bias', 'layers.3.blocks.0.attn.qkv.weight', 'layers.3.blocks.0.attn.qkv.bias', 'layers.3.blocks.0.attn.proj.weight', 'layers.3.blocks.0.attn.proj.bias', 'layers.3.blocks.0.norm2.weight', 'layers.3.blocks.0.norm2.bias', 'layers.3.blocks.0.mlp.fc1.weight', 'layers.3.blocks.0.mlp.fc1.bias', 'layers.3.blocks.0.mlp.fc2.weight', 'layers.3.blocks.0.mlp.fc2.bias', 'layers.3.blocks.1.norm1.weight', 'layers.3.blocks.1.norm1.bias', 'layers.3.blocks.1.attn.qkv.weight', 'layers.3.blocks.1.attn.qkv.bias', 'layers.3.blocks.1.attn.proj.weight', 'layers.3.blocks.1.attn.proj.bias', 'layers.3.blocks.1.norm2.weight', 'layers.3.blocks.1.norm2.bias', 'layers.3.blocks.1.mlp.fc1.weight', 'layers.3.blocks.1.mlp.fc1.bias', 'layers.3.blocks.1.mlp.fc2.weight', 'layers.3.blocks.1.mlp.fc2.bias', 'norm.weight', 'norm.bias', 'head.weight', 'head.bias', 'layers.0.blocks.0.attn.relative_position_index', 'layers.0.blocks.1.attn.relative_position_index', 'layers.1.blocks.0.attn.relative_position_index', 'layers.1.blocks.1.attn.relative_position_index', 'layers.2.blocks.0.attn.relative_position_index', 'layers.2.blocks.1.attn.relative_position_index', 'layers.2.blocks.2.attn.relative_position_index', 'layers.2.blocks.3.attn.relative_position_index', 'layers.2.blocks.4.attn.relative_position_index', 'layers.2.blocks.5.attn.relative_position_index', 'layers.3.blocks.0.attn.relative_position_index', 'layers.3.blocks.1.attn.relative_position_index', 'layers.0.blocks.1.attn_mask', 'layers.1.blocks.1.attn_mask', 'layers.2.blocks.1.attn_mask', 'layers.2.blocks.3.attn_mask', 'layers.2.blocks.5.attn_mask', 'layers.0.blocks.0.attn.relative_position_bias_table', 'layers.0.blocks.1.attn.relative_position_bias_table', 'layers.1.blocks.0.attn.relative_position_bias_table', 'layers.1.blocks.1.attn.relative_position_bias_table', 'layers.2.blocks.0.attn.relative_position_bias_table', 'layers.2.blocks.1.attn.relative_position_bias_table', 'layers.2.blocks.2.attn.relative_position_bias_table', 'layers.2.blocks.3.attn.relative_position_bias_table', 'layers.2.blocks.4.attn.relative_position_bias_table', 'layers.2.blocks.5.attn.relative_position_bias_table', 'layers.3.blocks.0.attn.relative_position_bias_table', 'layers.3.blocks.1.attn.relative_position_bias_table', 'layers.0.downsample.reduction.weight', 'layers.1.downsample.reduction.weight', 'layers.2.downsample.reduction.weight', 'layers_up.3.blocks.0.norm1.weight', 'layers_up.3.blocks.0.norm1.bias', 'layers_up.3.blocks.0.attn.qkv.weight', 'layers_up.3.blocks.0.attn.qkv.bias', 'layers_up.3.blocks.0.attn.proj.weight', 'layers_up.3.blocks.0.attn.proj.bias', 'layers_up.3.blocks.0.norm2.weight', 'layers_up.3.blocks.0.norm2.bias', 'layers_up.3.blocks.0.mlp.fc1.weight', 'layers_up.3.blocks.0.mlp.fc1.bias', 'layers_up.3.blocks.0.mlp.fc2.weight', 'layers_up.3.blocks.0.mlp.fc2.bias', 'layers_up.3.blocks.1.norm1.weight', 'layers_up.3.blocks.1.norm1.bias', 'layers_up.3.blocks.1.attn.qkv.weight', 'layers_up.3.blocks.1.attn.qkv.bias', 'layers_up.3.blocks.1.attn.proj.weight', 'layers_up.3.blocks.1.attn.proj.bias', 'layers_up.3.blocks.1.norm2.weight', 'layers_up.3.blocks.1.norm2.bias', 'layers_up.3.blocks.1.mlp.fc1.weight', 'layers_up.3.blocks.1.mlp.fc1.bias', 'layers_up.3.blocks.1.mlp.fc2.weight', 'layers_up.3.blocks.1.mlp.fc2.bias', 'layers_up.3.downsample.norm.weight', 'layers_up.3.downsample.norm.bias', 'layers_up.2.blocks.0.norm1.weight', 'layers_up.2.blocks.0.norm1.bias', 'layers_up.2.blocks.0.attn.qkv.weight', 'layers_up.2.blocks.0.attn.qkv.bias', 'layers_up.2.blocks.0.attn.proj.weight', 'layers_up.2.blocks.0.attn.proj.bias', 'layers_up.2.blocks.0.norm2.weight', 'layers_up.2.blocks.0.norm2.bias', 'layers_up.2.blocks.0.mlp.fc1.weight', 'layers_up.2.blocks.0.mlp.fc1.bias', 'layers_up.2.blocks.0.mlp.fc2.weight', 'layers_up.2.blocks.0.mlp.fc2.bias', 'layers_up.2.blocks.1.norm1.weight', 'layers_up.2.blocks.1.norm1.bias', 'layers_up.2.blocks.1.attn.qkv.weight', 'layers_up.2.blocks.1.attn.qkv.bias', 'layers_up.2.blocks.1.attn.proj.weight', 'layers_up.2.blocks.1.attn.proj.bias', 'layers_up.2.blocks.1.norm2.weight', 'layers_up.2.blocks.1.norm2.bias', 'layers_up.2.blocks.1.mlp.fc1.weight', 'layers_up.2.blocks.1.mlp.fc1.bias', 'layers_up.2.blocks.1.mlp.fc2.weight', 'layers_up.2.blocks.1.mlp.fc2.bias', 'layers_up.2.downsample.norm.weight', 'layers_up.2.downsample.norm.bias', 'layers_up.1.blocks.0.norm1.weight', 'layers_up.1.blocks.0.norm1.bias', 'layers_up.1.blocks.0.attn.qkv.weight', 'layers_up.1.blocks.0.attn.qkv.bias', 'layers_up.1.blocks.0.attn.proj.weight', 'layers_up.1.blocks.0.attn.proj.bias', 'layers_up.1.blocks.0.norm2.weight', 'layers_up.1.blocks.0.norm2.bias', 'layers_up.1.blocks.0.mlp.fc1.weight', 'layers_up.1.blocks.0.mlp.fc1.bias', 'layers_up.1.blocks.0.mlp.fc2.weight', 'layers_up.1.blocks.0.mlp.fc2.bias', 'layers_up.1.blocks.1.norm1.weight', 'layers_up.1.blocks.1.norm1.bias', 'layers_up.1.blocks.1.attn.qkv.weight', 'layers_up.1.blocks.1.attn.qkv.bias', 'layers_up.1.blocks.1.attn.proj.weight', 'layers_up.1.blocks.1.attn.proj.bias', 'layers_up.1.blocks.1.norm2.weight', 'layers_up.1.blocks.1.norm2.bias', 'layers_up.1.blocks.1.mlp.fc1.weight', 'layers_up.1.blocks.1.mlp.fc1.bias', 'layers_up.1.blocks.1.mlp.fc2.weight', 'layers_up.1.blocks.1.mlp.fc2.bias', 'layers_up.1.blocks.2.norm1.weight', 'layers_up.1.blocks.2.norm1.bias', 'layers_up.1.blocks.2.attn.qkv.weight', 'layers_up.1.blocks.2.attn.qkv.bias', 'layers_up.1.blocks.2.attn.proj.weight', 'layers_up.1.blocks.2.attn.proj.bias', 'layers_up.1.blocks.2.norm2.weight', 'layers_up.1.blocks.2.norm2.bias', 'layers_up.1.blocks.2.mlp.fc1.weight', 'layers_up.1.blocks.2.mlp.fc1.bias', 'layers_up.1.blocks.2.mlp.fc2.weight', 'layers_up.1.blocks.2.mlp.fc2.bias', 'layers_up.1.blocks.3.norm1.weight', 'layers_up.1.blocks.3.norm1.bias', 'layers_up.1.blocks.3.attn.qkv.weight', 'layers_up.1.blocks.3.attn.qkv.bias', 'layers_up.1.blocks.3.attn.proj.weight', 'layers_up.1.blocks.3.attn.proj.bias', 'layers_up.1.blocks.3.norm2.weight', 'layers_up.1.blocks.3.norm2.bias', 'layers_up.1.blocks.3.mlp.fc1.weight', 'layers_up.1.blocks.3.mlp.fc1.bias', 'layers_up.1.blocks.3.mlp.fc2.weight', 'layers_up.1.blocks.3.mlp.fc2.bias', 'layers_up.1.blocks.4.norm1.weight', 'layers_up.1.blocks.4.norm1.bias', 'layers_up.1.blocks.4.attn.qkv.weight', 'layers_up.1.blocks.4.attn.qkv.bias', 'layers_up.1.blocks.4.attn.proj.weight', 'layers_up.1.blocks.4.attn.proj.bias', 'layers_up.1.blocks.4.norm2.weight', 'layers_up.1.blocks.4.norm2.bias', 'layers_up.1.blocks.4.mlp.fc1.weight', 'layers_up.1.blocks.4.mlp.fc1.bias', 'layers_up.1.blocks.4.mlp.fc2.weight', 'layers_up.1.blocks.4.mlp.fc2.bias', 'layers_up.1.blocks.5.norm1.weight', 'layers_up.1.blocks.5.norm1.bias', 'layers_up.1.blocks.5.attn.qkv.weight', 'layers_up.1.blocks.5.attn.qkv.bias', 'layers_up.1.blocks.5.attn.proj.weight', 'layers_up.1.blocks.5.attn.proj.bias', 'layers_up.1.blocks.5.norm2.weight', 'layers_up.1.blocks.5.norm2.bias', 'layers_up.1.blocks.5.mlp.fc1.weight', 'layers_up.1.blocks.5.mlp.fc1.bias', 'layers_up.1.blocks.5.mlp.fc2.weight', 'layers_up.1.blocks.5.mlp.fc2.bias', 'layers_up.1.downsample.norm.weight', 'layers_up.1.downsample.norm.bias', 'layers_up.0.blocks.0.norm1.weight', 'layers_up.0.blocks.0.norm1.bias', 'layers_up.0.blocks.0.attn.qkv.weight', 'layers_up.0.blocks.0.attn.qkv.bias', 'layers_up.0.blocks.0.attn.proj.weight', 'layers_up.0.blocks.0.attn.proj.bias', 'layers_up.0.blocks.0.norm2.weight', 'layers_up.0.blocks.0.norm2.bias', 'layers_up.0.blocks.0.mlp.fc1.weight', 'layers_up.0.blocks.0.mlp.fc1.bias', 'layers_up.0.blocks.0.mlp.fc2.weight', 'layers_up.0.blocks.0.mlp.fc2.bias', 'layers_up.0.blocks.1.norm1.weight', 'layers_up.0.blocks.1.norm1.bias', 'layers_up.0.blocks.1.attn.qkv.weight', 'layers_up.0.blocks.1.attn.qkv.bias', 'layers_up.0.blocks.1.attn.proj.weight', 'layers_up.0.blocks.1.attn.proj.bias', 'layers_up.0.blocks.1.norm2.weight', 'layers_up.0.blocks.1.norm2.bias', 'layers_up.0.blocks.1.mlp.fc1.weight', 'layers_up.0.blocks.1.mlp.fc1.bias', 'layers_up.0.blocks.1.mlp.fc2.weight', 'layers_up.0.blocks.1.mlp.fc2.bias', 'layers_up.3.blocks.0.attn.relative_position_index', 'layers_up.3.blocks.1.attn.relative_position_index', 'layers_up.2.blocks.0.attn.relative_position_index', 'layers_up.2.blocks.1.attn.relative_position_index', 'layers_up.1.blocks.0.attn.relative_position_index', 'layers_up.1.blocks.1.attn.relative_position_index', 'layers_up.1.blocks.2.attn.relative_position_index', 'layers_up.1.blocks.3.attn.relative_position_index', 'layers_up.1.blocks.4.attn.relative_position_index', 'layers_up.1.blocks.5.attn.relative_position_index', 'layers_up.0.blocks.0.attn.relative_position_index', 'layers_up.0.blocks.1.attn.relative_position_index', 'layers_up.3.blocks.1.attn_mask', 'layers_up.2.blocks.1.attn_mask', 'layers_up.1.blocks.1.attn_mask', 'layers_up.1.blocks.3.attn_mask', 'layers_up.1.blocks.5.attn_mask', 'layers_up.3.blocks.0.attn.relative_position_bias_table', 'layers_up.3.blocks.1.attn.relative_position_bias_table', 'layers_up.2.blocks.0.attn.relative_position_bias_table', 'layers_up.2.blocks.1.attn.relative_position_bias_table', 'layers_up.1.blocks.0.attn.relative_position_bias_table', 'layers_up.1.blocks.1.attn.relative_position_bias_table', 'layers_up.1.blocks.2.attn.relative_position_bias_table', 'layers_up.1.blocks.3.attn.relative_position_bias_table', 'layers_up.1.blocks.4.attn.relative_position_bias_table', 'layers_up.1.blocks.5.attn.relative_position_bias_table', 'layers_up.0.blocks.0.attn.relative_position_bias_table', 'layers_up.0.blocks.1.attn.relative_position_bias_table', 'layers_up.3.downsample.reduction.weight', 'layers_up.2.downsample.reduction.weight', 'layers_up.1.downsample.reduction.weight'])\n"
     ]
    }
   ],
   "source": [
    "import torch\n",
    "import copy\n",
    "pretrained_path = config.MODEL.PRETRAIN_CKPT\n",
    "\n",
    "if pretrained_path is not None:\n",
    "    print(\"pretrained_path:{}\".format(pretrained_path))\n",
    "    device = torch.device('cuda' if torch.cuda.is_available() else 'cpu')\n",
    "    pretrained_dict = torch.load(pretrained_path, map_location=device)\n",
    "    pretrained_dict = pretrained_dict['model']\n",
    "    print(\"---start load pretrained modle of swin encoder---\")\n",
    "    \n",
    "    used_keys, unused_keys = [], []\n",
    "\n",
    "    model_dict = swin_unet.state_dict()\n",
    "    full_dict = copy.deepcopy(pretrained_dict)\n",
    "    for k, v in pretrained_dict.items():\n",
    "        if \"layers.\" in k:\n",
    "            current_layer_num = 3-int(k[7:8])\n",
    "            current_k = \"layers_up.\" + str(current_layer_num) + k[8:]\n",
    "            full_dict.update({current_k:v})\n",
    "    for k in list(full_dict.keys()):\n",
    "        if k in model_dict:\n",
    "            if full_dict[k].shape == model_dict[k].shape:\n",
    "                used_keys.append(k)\n",
    "            else:\n",
    "                if \"patch_embed.proj.weight\" in k:\n",
    "                        print(f\"Updating patch embedding layer: {k}\")\n",
    "                        pretrained_weight = full_dict[k]\n",
    "                        new_weight = torch.nn.init.xavier_uniform_(torch.empty_like(model_dict[k]))\n",
    "                        num_pretrained_channels = pretrained_weight.shape[1]\n",
    "                        new_weight[:, :num_pretrained_channels] = pretrained_weight[:, :num_pretrained_channels]\n",
    "                        full_dict[k] = new_weight  # Use updated weights\n",
    "                        used_keys.append(k)\n",
    "                print(\"delete:{};shape pretrain:{};shape model:{}\".format(k,v.shape,model_dict[k].shape))\n",
    "                del full_dict[k]\n",
    "        else:\n",
    "            unused_keys.append(k)\n",
    "    msg = swin_unet.load_state_dict(full_dict, strict=False)\n",
    "    print(\"Used pretrained keys:\", used_keys)\n",
    "    print(\"Unused pretrained keys:\", unused_keys)\n",
    "    print(msg)\n",
    "else:\n",
    "    print(\"none pretrain\")\n"
   ]
  },
  {
   "cell_type": "code",
   "execution_count": 2,
   "metadata": {},
   "outputs": [
    {
     "name": "stdout",
     "output_type": "stream",
     "text": [
      "pretrained_path:src/models/SwinUnet/networks/swin_tiny_patch4_window7_224.pth\n",
      "---start load pretrained modle of swin encoder---\n",
      "delete:patch_embed.proj.weight;shape pretrain:torch.Size([768, 1536]);shape model:torch.Size([96, 35, 4, 4])\n",
      "delete:layers.0.blocks.0.attn.relative_position_index;shape pretrain:torch.Size([768, 1536]);shape model:torch.Size([16, 16])\n",
      "delete:layers.0.blocks.1.attn.relative_position_index;shape pretrain:torch.Size([768, 1536]);shape model:torch.Size([16, 16])\n",
      "delete:layers.1.blocks.0.attn.relative_position_index;shape pretrain:torch.Size([768, 1536]);shape model:torch.Size([16, 16])\n",
      "delete:layers.1.blocks.1.attn.relative_position_index;shape pretrain:torch.Size([768, 1536]);shape model:torch.Size([16, 16])\n",
      "delete:layers.2.blocks.0.attn.relative_position_index;shape pretrain:torch.Size([768, 1536]);shape model:torch.Size([16, 16])\n",
      "delete:layers.2.blocks.1.attn.relative_position_index;shape pretrain:torch.Size([768, 1536]);shape model:torch.Size([16, 16])\n",
      "delete:layers.2.blocks.2.attn.relative_position_index;shape pretrain:torch.Size([768, 1536]);shape model:torch.Size([16, 16])\n",
      "delete:layers.2.blocks.3.attn.relative_position_index;shape pretrain:torch.Size([768, 1536]);shape model:torch.Size([16, 16])\n",
      "delete:layers.2.blocks.4.attn.relative_position_index;shape pretrain:torch.Size([768, 1536]);shape model:torch.Size([16, 16])\n",
      "delete:layers.2.blocks.5.attn.relative_position_index;shape pretrain:torch.Size([768, 1536]);shape model:torch.Size([16, 16])\n",
      "delete:layers.3.blocks.0.attn.relative_position_index;shape pretrain:torch.Size([768, 1536]);shape model:torch.Size([16, 16])\n",
      "delete:layers.3.blocks.1.attn.relative_position_index;shape pretrain:torch.Size([768, 1536]);shape model:torch.Size([16, 16])\n",
      "delete:layers.0.blocks.1.attn_mask;shape pretrain:torch.Size([768, 1536]);shape model:torch.Size([64, 16, 16])\n",
      "delete:layers.1.blocks.1.attn_mask;shape pretrain:torch.Size([768, 1536]);shape model:torch.Size([16, 16, 16])\n",
      "delete:layers.2.blocks.1.attn_mask;shape pretrain:torch.Size([768, 1536]);shape model:torch.Size([4, 16, 16])\n",
      "delete:layers.2.blocks.3.attn_mask;shape pretrain:torch.Size([768, 1536]);shape model:torch.Size([4, 16, 16])\n",
      "delete:layers.2.blocks.5.attn_mask;shape pretrain:torch.Size([768, 1536]);shape model:torch.Size([4, 16, 16])\n",
      "delete:layers.0.blocks.0.attn.relative_position_bias_table;shape pretrain:torch.Size([768, 1536]);shape model:torch.Size([49, 3])\n",
      "delete:layers.0.blocks.1.attn.relative_position_bias_table;shape pretrain:torch.Size([768, 1536]);shape model:torch.Size([49, 3])\n",
      "delete:layers.1.blocks.0.attn.relative_position_bias_table;shape pretrain:torch.Size([768, 1536]);shape model:torch.Size([49, 6])\n",
      "delete:layers.1.blocks.1.attn.relative_position_bias_table;shape pretrain:torch.Size([768, 1536]);shape model:torch.Size([49, 6])\n",
      "delete:layers.2.blocks.0.attn.relative_position_bias_table;shape pretrain:torch.Size([768, 1536]);shape model:torch.Size([49, 12])\n",
      "delete:layers.2.blocks.1.attn.relative_position_bias_table;shape pretrain:torch.Size([768, 1536]);shape model:torch.Size([49, 12])\n",
      "delete:layers.2.blocks.2.attn.relative_position_bias_table;shape pretrain:torch.Size([768, 1536]);shape model:torch.Size([49, 12])\n",
      "delete:layers.2.blocks.3.attn.relative_position_bias_table;shape pretrain:torch.Size([768, 1536]);shape model:torch.Size([49, 12])\n",
      "delete:layers.2.blocks.4.attn.relative_position_bias_table;shape pretrain:torch.Size([768, 1536]);shape model:torch.Size([49, 12])\n",
      "delete:layers.2.blocks.5.attn.relative_position_bias_table;shape pretrain:torch.Size([768, 1536]);shape model:torch.Size([49, 12])\n",
      "delete:layers.3.blocks.0.attn.relative_position_bias_table;shape pretrain:torch.Size([768, 1536]);shape model:torch.Size([49, 24])\n",
      "delete:layers.3.blocks.1.attn.relative_position_bias_table;shape pretrain:torch.Size([768, 1536]);shape model:torch.Size([49, 24])\n",
      "delete:layers_up.3.blocks.0.attn.relative_position_index;shape pretrain:torch.Size([768, 1536]);shape model:torch.Size([16, 16])\n",
      "delete:layers_up.3.blocks.1.attn.relative_position_index;shape pretrain:torch.Size([768, 1536]);shape model:torch.Size([16, 16])\n",
      "delete:layers_up.2.blocks.0.attn.relative_position_index;shape pretrain:torch.Size([768, 1536]);shape model:torch.Size([16, 16])\n",
      "delete:layers_up.2.blocks.1.attn.relative_position_index;shape pretrain:torch.Size([768, 1536]);shape model:torch.Size([16, 16])\n",
      "delete:layers_up.1.blocks.0.attn.relative_position_index;shape pretrain:torch.Size([768, 1536]);shape model:torch.Size([16, 16])\n",
      "delete:layers_up.1.blocks.1.attn.relative_position_index;shape pretrain:torch.Size([768, 1536]);shape model:torch.Size([16, 16])\n",
      "delete:layers_up.1.blocks.2.attn.relative_position_index;shape pretrain:torch.Size([768, 1536]);shape model:torch.Size([16, 16])\n",
      "delete:layers_up.1.blocks.3.attn.relative_position_index;shape pretrain:torch.Size([768, 1536]);shape model:torch.Size([16, 16])\n",
      "delete:layers_up.1.blocks.4.attn.relative_position_index;shape pretrain:torch.Size([768, 1536]);shape model:torch.Size([16, 16])\n",
      "delete:layers_up.1.blocks.5.attn.relative_position_index;shape pretrain:torch.Size([768, 1536]);shape model:torch.Size([16, 16])\n",
      "delete:layers_up.3.blocks.1.attn_mask;shape pretrain:torch.Size([768, 1536]);shape model:torch.Size([64, 16, 16])\n",
      "delete:layers_up.2.blocks.1.attn_mask;shape pretrain:torch.Size([768, 1536]);shape model:torch.Size([16, 16, 16])\n",
      "delete:layers_up.1.blocks.1.attn_mask;shape pretrain:torch.Size([768, 1536]);shape model:torch.Size([4, 16, 16])\n",
      "delete:layers_up.1.blocks.3.attn_mask;shape pretrain:torch.Size([768, 1536]);shape model:torch.Size([4, 16, 16])\n",
      "delete:layers_up.1.blocks.5.attn_mask;shape pretrain:torch.Size([768, 1536]);shape model:torch.Size([4, 16, 16])\n",
      "delete:layers_up.3.blocks.0.attn.relative_position_bias_table;shape pretrain:torch.Size([768, 1536]);shape model:torch.Size([49, 3])\n",
      "delete:layers_up.3.blocks.1.attn.relative_position_bias_table;shape pretrain:torch.Size([768, 1536]);shape model:torch.Size([49, 3])\n",
      "delete:layers_up.2.blocks.0.attn.relative_position_bias_table;shape pretrain:torch.Size([768, 1536]);shape model:torch.Size([49, 6])\n",
      "delete:layers_up.2.blocks.1.attn.relative_position_bias_table;shape pretrain:torch.Size([768, 1536]);shape model:torch.Size([49, 6])\n",
      "delete:layers_up.1.blocks.0.attn.relative_position_bias_table;shape pretrain:torch.Size([768, 1536]);shape model:torch.Size([49, 12])\n",
      "delete:layers_up.1.blocks.1.attn.relative_position_bias_table;shape pretrain:torch.Size([768, 1536]);shape model:torch.Size([49, 12])\n",
      "delete:layers_up.1.blocks.2.attn.relative_position_bias_table;shape pretrain:torch.Size([768, 1536]);shape model:torch.Size([49, 12])\n",
      "delete:layers_up.1.blocks.3.attn.relative_position_bias_table;shape pretrain:torch.Size([768, 1536]);shape model:torch.Size([49, 12])\n",
      "delete:layers_up.1.blocks.4.attn.relative_position_bias_table;shape pretrain:torch.Size([768, 1536]);shape model:torch.Size([49, 12])\n",
      "delete:layers_up.1.blocks.5.attn.relative_position_bias_table;shape pretrain:torch.Size([768, 1536]);shape model:torch.Size([49, 12])\n",
      "_IncompatibleKeys(missing_keys=['patch_embed.proj.weight', 'layers.0.blocks.0.attn.relative_position_bias_table', 'layers.0.blocks.0.attn.relative_position_index', 'layers.0.blocks.1.attn_mask', 'layers.0.blocks.1.attn.relative_position_bias_table', 'layers.0.blocks.1.attn.relative_position_index', 'layers.1.blocks.0.attn.relative_position_bias_table', 'layers.1.blocks.0.attn.relative_position_index', 'layers.1.blocks.1.attn_mask', 'layers.1.blocks.1.attn.relative_position_bias_table', 'layers.1.blocks.1.attn.relative_position_index', 'layers.2.blocks.0.attn.relative_position_bias_table', 'layers.2.blocks.0.attn.relative_position_index', 'layers.2.blocks.1.attn_mask', 'layers.2.blocks.1.attn.relative_position_bias_table', 'layers.2.blocks.1.attn.relative_position_index', 'layers.2.blocks.2.attn.relative_position_bias_table', 'layers.2.blocks.2.attn.relative_position_index', 'layers.2.blocks.3.attn_mask', 'layers.2.blocks.3.attn.relative_position_bias_table', 'layers.2.blocks.3.attn.relative_position_index', 'layers.2.blocks.4.attn.relative_position_bias_table', 'layers.2.blocks.4.attn.relative_position_index', 'layers.2.blocks.5.attn_mask', 'layers.2.blocks.5.attn.relative_position_bias_table', 'layers.2.blocks.5.attn.relative_position_index', 'layers.3.blocks.0.attn.relative_position_bias_table', 'layers.3.blocks.0.attn.relative_position_index', 'layers.3.blocks.1.attn.relative_position_bias_table', 'layers.3.blocks.1.attn.relative_position_index', 'layers_up.0.expand.weight', 'layers_up.0.norm.weight', 'layers_up.0.norm.bias', 'layers_up.1.blocks.0.attn.relative_position_bias_table', 'layers_up.1.blocks.0.attn.relative_position_index', 'layers_up.1.blocks.1.attn_mask', 'layers_up.1.blocks.1.attn.relative_position_bias_table', 'layers_up.1.blocks.1.attn.relative_position_index', 'layers_up.1.blocks.2.attn.relative_position_bias_table', 'layers_up.1.blocks.2.attn.relative_position_index', 'layers_up.1.blocks.3.attn_mask', 'layers_up.1.blocks.3.attn.relative_position_bias_table', 'layers_up.1.blocks.3.attn.relative_position_index', 'layers_up.1.blocks.4.attn.relative_position_bias_table', 'layers_up.1.blocks.4.attn.relative_position_index', 'layers_up.1.blocks.5.attn_mask', 'layers_up.1.blocks.5.attn.relative_position_bias_table', 'layers_up.1.blocks.5.attn.relative_position_index', 'layers_up.1.upsample.expand.weight', 'layers_up.1.upsample.norm.weight', 'layers_up.1.upsample.norm.bias', 'layers_up.2.blocks.0.attn.relative_position_bias_table', 'layers_up.2.blocks.0.attn.relative_position_index', 'layers_up.2.blocks.1.attn_mask', 'layers_up.2.blocks.1.attn.relative_position_bias_table', 'layers_up.2.blocks.1.attn.relative_position_index', 'layers_up.2.upsample.expand.weight', 'layers_up.2.upsample.norm.weight', 'layers_up.2.upsample.norm.bias', 'layers_up.3.blocks.0.attn.relative_position_bias_table', 'layers_up.3.blocks.0.attn.relative_position_index', 'layers_up.3.blocks.1.attn_mask', 'layers_up.3.blocks.1.attn.relative_position_bias_table', 'layers_up.3.blocks.1.attn.relative_position_index', 'concat_back_dim.1.weight', 'concat_back_dim.1.bias', 'concat_back_dim.2.weight', 'concat_back_dim.2.bias', 'concat_back_dim.3.weight', 'concat_back_dim.3.bias', 'norm_up.weight', 'norm_up.bias', 'up.expand.weight', 'up.norm.weight', 'up.norm.bias', 'output.weight'], unexpected_keys=['head.weight', 'head.bias', 'layers_up.0.blocks.0.norm1.weight', 'layers_up.0.blocks.0.norm1.bias', 'layers_up.0.blocks.0.attn.qkv.weight', 'layers_up.0.blocks.0.attn.qkv.bias', 'layers_up.0.blocks.0.attn.proj.weight', 'layers_up.0.blocks.0.attn.proj.bias', 'layers_up.0.blocks.0.norm2.weight', 'layers_up.0.blocks.0.norm2.bias', 'layers_up.0.blocks.0.mlp.fc1.weight', 'layers_up.0.blocks.0.mlp.fc1.bias', 'layers_up.0.blocks.0.mlp.fc2.weight', 'layers_up.0.blocks.0.mlp.fc2.bias', 'layers_up.0.blocks.1.norm1.weight', 'layers_up.0.blocks.1.norm1.bias', 'layers_up.0.blocks.1.attn.qkv.weight', 'layers_up.0.blocks.1.attn.qkv.bias', 'layers_up.0.blocks.1.attn.proj.weight', 'layers_up.0.blocks.1.attn.proj.bias', 'layers_up.0.blocks.1.norm2.weight', 'layers_up.0.blocks.1.norm2.bias', 'layers_up.0.blocks.1.mlp.fc1.weight', 'layers_up.0.blocks.1.mlp.fc1.bias', 'layers_up.0.blocks.1.mlp.fc2.weight', 'layers_up.0.blocks.1.mlp.fc2.bias', 'layers_up.0.blocks.0.attn.relative_position_index', 'layers_up.0.blocks.1.attn.relative_position_index', 'layers_up.0.blocks.0.attn.relative_position_bias_table', 'layers_up.0.blocks.1.attn.relative_position_bias_table', 'layers_up.1.downsample.norm.weight', 'layers_up.1.downsample.norm.bias', 'layers_up.1.downsample.reduction.weight', 'layers_up.2.downsample.norm.weight', 'layers_up.2.downsample.norm.bias', 'layers_up.2.downsample.reduction.weight', 'layers_up.3.downsample.norm.weight', 'layers_up.3.downsample.norm.bias', 'layers_up.3.downsample.reduction.weight'])\n"
     ]
    }
   ],
   "source": [
    "model.load_from(config)\n"
   ]
  },
  {
   "cell_type": "code",
   "execution_count": 2,
   "metadata": {},
   "outputs": [],
   "source": [
    "import pandas as pd\n",
    "\n",
    "def print_avg_test_AP(file_path, model_name):\n",
    "    df = pd.read_csv(file_path)\n",
    "    if 'data.features_to_keep' in df.columns:\n",
    "        stats_ap_per_feature_set = df.groupby('data.features_to_keep')['test_AP'].agg(['mean', 'std'])\n",
    "        print(model_name)\n",
    "        print(stats_ap_per_feature_set.applymap(lambda x: f\"{x:.3f}\"))\n",
    "    elif \"optimizer.lr\" in df.columns:\n",
    "        stats_ap_per_feature_set = df.groupby(\"optimizer.lr\")[\"test_AP\"].agg([\"mean\", \"std\"])\n",
    "        print(model_name)\n",
    "        print(stats_ap_per_feature_set.applymap(lambda x: f\"{x:.3f}\"))\n",
    "\n",
    "    else:\n",
    "        overall_avg_ap = df['test_AP'].mean()\n",
    "        overall_std_ap = df['test_AP'].std()\n",
    "        print(model_name)\n",
    "        print(f\"Overall Average test_AP: {overall_avg_ap:.3f}\")\n",
    "        print(f\"Overall Std test_AP: {overall_std_ap:.3f}\")\n",
    "\n",
    "       "
   ]
  },
  {
   "cell_type": "code",
   "execution_count": 2,
   "metadata": {},
   "outputs": [
    {
     "name": "stdout",
     "output_type": "stream",
     "text": [
      "swin_monotemp_multi_all\n",
      "                                                     mean    std\n",
      "data.features_to_keep                                           \n",
      "None                                                0.340  0.094\n",
      "[0,1,2,3,4,5,6,7,8,9,11,12,13,14,16,17,18,19,20...  0.352  0.088\n"
     ]
    }
   ],
   "source": [
    "file_path = '/home/sl221120/WildfireSpreadTS/results/swin_mono_multi_all.csv'\n",
    "model_name = \"swin_monotemp_multi_all\"\n",
    "print_avg_test_AP(file_path, model_name)\n"
   ]
  },
  {
   "cell_type": "code",
   "execution_count": 3,
   "metadata": {},
   "outputs": [
    {
     "name": "stdout",
     "output_type": "stream",
     "text": [
      "swin_monotemp_veg\n",
      "Overall Average test_AP: 0.348\n",
      "Overall Std test_AP: 0.086\n"
     ]
    }
   ],
   "source": [
    "file_path = '/home/sl221120/WildfireSpreadTS/results/swin_mono_veg.csv'\n",
    "model_name = \"swin_monotemp_veg\"\n",
    "print_avg_test_AP(file_path, model_name)\n"
   ]
  },
  {
   "cell_type": "code",
   "execution_count": 4,
   "metadata": {},
   "outputs": [
    {
     "name": "stdout",
     "output_type": "stream",
     "text": [
      "swin_multitemp_veg\n",
      "Overall Average test_AP: 0.362\n",
      "Overall Std test_AP: 0.090\n"
     ]
    }
   ],
   "source": [
    "file_path = '/home/sl221120/WildfireSpreadTS/results/swin_multi_veg.csv'\n",
    "model_name = \"swin_multitemp_veg\"\n",
    "print_avg_test_AP(file_path, model_name)\n"
   ]
  },
  {
   "cell_type": "code",
   "execution_count": 5,
   "metadata": {},
   "outputs": [
    {
     "name": "stdout",
     "output_type": "stream",
     "text": [
      "swin_multitemp_multi_all\n",
      "                                                     mean    std\n",
      "data.features_to_keep                                           \n",
      "None                                                0.324  0.097\n",
      "[0,1,2,3,4,5,6,7,8,9,11,12,13,14,16,17,18,19,20...  0.350  0.086\n"
     ]
    }
   ],
   "source": [
    "file_path = '/home/sl221120/WildfireSpreadTS/results/swin_multi_multi_all.csv'\n",
    "model_name = \"swin_multitemp_multi_all\"\n",
    "print_avg_test_AP(file_path, model_name)"
   ]
  },
  {
   "cell_type": "code",
   "execution_count": 7,
   "metadata": {},
   "outputs": [
    {
     "name": "stdout",
     "output_type": "stream",
     "text": [
      "unet_monotemp_multi_all\n",
      "                                                     mean    std\n",
      "data.features_to_keep                                           \n",
      "None                                                0.340  0.085\n",
      "[0,1,2,3,4,5,6,7,8,9,11,12,13,14,16,17,18,19,20...  0.338  0.077\n"
     ]
    }
   ],
   "source": [
    "file_path = '/home/sl221120/WildfireSpreadTS/results/unet_mono_multi_all.csv'\n",
    "model_name = \"unet_monotemp_multi_all\"\n",
    "print_avg_test_AP(file_path, model_name)"
   ]
  },
  {
   "cell_type": "code",
   "execution_count": 3,
   "metadata": {},
   "outputs": [
    {
     "name": "stdout",
     "output_type": "stream",
     "text": [
      "unet_multitemp_multi_all\n",
      "                                                     mean    std\n",
      "data.features_to_keep                                           \n",
      "None                                                0.337  0.088\n",
      "[0,1,2,3,4,5,6,7,8,9,11,12,13,14,16,17,18,19,20...  0.350  0.073\n"
     ]
    }
   ],
   "source": [
    "file_path = '/home/sl221120/WildfireSpreadTS/results/unet_multi_multi_all.csv'\n",
    "model_name = \"unet_multitemp_multi_all\"\n",
    "print_avg_test_AP(file_path, model_name)"
   ]
  },
  {
   "cell_type": "code",
   "execution_count": 5,
   "metadata": {},
   "outputs": [
    {
     "name": "stdout",
     "output_type": "stream",
     "text": [
      "unet_multitemp_veg_lrs_1\n",
      "               mean    std\n",
      "optimizer.lr              \n",
      "0.001         0.199  0.070\n",
      "0.010         0.029  0.040\n"
     ]
    }
   ],
   "source": [
    "file_path = '/home/sl221120/WildfireSpreadTS/results/unet_multi_veg_lrs1.csv'\n",
    "model_name = \"unet_multitemp_veg_lrs_1\"\n",
    "print_avg_test_AP(file_path, model_name)"
   ]
  },
  {
   "cell_type": "code",
   "execution_count": 4,
   "metadata": {},
   "outputs": [
    {
     "name": "stdout",
     "output_type": "stream",
     "text": [
      "unet_multitemp_veg_lrs_2\n",
      "               mean    std\n",
      "optimizer.lr              \n",
      "0.000001      0.277  0.093\n",
      "0.000010      0.341  0.097\n"
     ]
    }
   ],
   "source": [
    "file_path = '/home/sl221120/WildfireSpreadTS/results/unet_multi_veg_lrs2.csv'\n",
    "model_name = \"unet_multitemp_veg_lrs_2\"\n",
    "print_avg_test_AP(file_path, model_name)"
   ]
  },
  {
   "cell_type": "code",
   "execution_count": 1,
   "metadata": {},
   "outputs": [],
   "source": [
    "import os\n",
    "import subprocess\n",
    "\n",
    "# Define the base directory containing the runs\n",
    "base_dir = '/home/sl221120/WildfireSpreadTS/lightning_logs/wildfire_progression'\n",
    "data_dir = '/home/sl221120/scratch/WildfireSpreadTS_HDF5'\n",
    "\n",
    "# Log data mapping run_id to data_fold_id\n",
    "log_data = [\n",
    "    {\"run_id\":\"4adsj08p\", \"data_fold_id\":0},\n",
    "    {\"run_id\":\"heg3b8sr\", \"data_fold_id\":1},\n",
    "    {\"run_id\":\"g4kcwn56\", \"data_fold_id\":2},\n",
    "    {\"run_id\":\"7t9l4h3a\", \"data_fold_id\":3},\n",
    "    {\"run_id\":\"cgce7y3v\", \"data_fold_id\":4},\n",
    "    {\"run_id\":\"h495vls8\", \"data_fold_id\":5},\n",
    "    {\"run_id\":\"e90loozf\", \"data_fold_id\":6},\n",
    "    {\"run_id\":\"81azfn75\", \"data_fold_id\":7},\n",
    "    {\"run_id\":\"p8y7pgep\", \"data_fold_id\":8},\n",
    "    {\"run_id\":\"a1cyprhl\", \"data_fold_id\":9},\n",
    "    {\"run_id\":\"ju2yiuod\", \"data_fold_id\":10},\n",
    "    {\"run_id\":\"w09hg1ub\", \"data_fold_id\":11},\n",
    "]\n",
    "\n",
    "# Convert log data to a dictionary\n",
    "run_id_to_fold_id = {entry[\"run_id\"]: entry[\"data_fold_id\"] for entry in log_data}\n",
    "\n",
    "# Function to run the test command for a specific checkpoint\n",
    "def run_test(checkpoint_path, data_fold_id):\n",
    "    test_command = [\n",
    "        'python',\n",
    "        '/home/sl221120/WildfireSpreadTS/src/train.py',\n",
    "        '--config=cfgs/Swin/swin.yaml',\n",
    "        '--trainer=cfgs/trainer_single_gpu.yaml',\n",
    "        '--data=cfgs/data_monotemporal_veg_features.yaml',\n",
    "        '--seed_everything=0',\n",
    "        #f'--data.data_fold_id={data_fold_id}',\n",
    "        #f'--data.data_dir={data_dir}'\n",
    "        f'--ckpt_path={checkpoint_path}'\n",
    "    ]\n",
    "\n",
    "    # Run the test command\n",
    "    subprocess.run(test_command)\n",
    "\n",
    "# Iterate through each run folder\n",
    "# for run_id, data_fold_id in run_id_to_fold_id.items():\n",
    "#     run_path = os.path.join(base_dir, run_id, 'checkpoints')\n",
    "#     # Find the checkpoint file with the best validation loss\n",
    "#     checkpoint_file = os.listdir(run_path)[0]\n",
    "#     if checkpoint_file.endswith(\".ckpt\"):\n",
    "#         run_test(checkpoint_file, data_fold_id)\n"
   ]
  },
  {
   "cell_type": "code",
   "execution_count": 2,
   "metadata": {},
   "outputs": [
    {
     "data": {
      "text/plain": [
       "'/home/sl221120/WildfireSpreadTS/lightning_logs/wildfire_progression/k7s96l2o/checkpoints/epoch=122-step=9594.ckpt'"
      ]
     },
     "execution_count": 2,
     "metadata": {},
     "output_type": "execute_result"
    }
   ],
   "source": [
    "run_id = \"k7s96l2o\"\n",
    "features_to_keep = [0, 1, 2, 3, 4, 38, 39]\n",
    "run_path = os.path.join(base_dir, run_id, 'checkpoints')\n",
    "checkpoint_file = os.listdir(run_path)[0]\n",
    "checkpoint_path = (os.path.join(run_path, checkpoint_file))\n",
    "checkpoint_path\n"
   ]
  },
  {
   "cell_type": "code",
   "execution_count": 3,
   "metadata": {},
   "outputs": [
    {
     "name": "stderr",
     "output_type": "stream",
     "text": [
      "Global seed set to 0\n"
     ]
    },
    {
     "name": "stdout",
     "output_type": "stream",
     "text": [
      "Using the following dataset split:\n",
      "Train years: [2018, 2019], Val years: [2020], Test years: [2021]\n"
     ]
    },
    {
     "name": "stderr",
     "output_type": "stream",
     "text": [
      "wandb: Currently logged in as: saadlahrichi (bass-connections-22-23). Use `wandb login --relogin` to force relogin\n",
      "wandb: wandb version 0.18.0 is available!  To upgrade, please run:\n",
      "wandb:  $ pip install wandb --upgrade\n",
      "wandb: Tracking run with wandb version 0.15.3\n",
      "wandb: Run data is saved locally in ./lightning_logs/wandb/run-20240913_184208-y3s6va3v\n",
      "wandb: Run `wandb offline` to turn off syncing.\n",
      "wandb: Syncing run models.SwinUnetLightning\n",
      "wandb: ⭐️ View project at https://wandb.ai/bass-connections-22-23/wildfire_progression\n",
      "wandb: 🚀 View run at https://wandb.ai/bass-connections-22-23/wildfire_progression/runs/y3s6va3v\n",
      "/home/sl221120/anaconda3/envs/fire_ts/lib/python3.10/site-packages/torch/functional.py:504: UserWarning: torch.meshgrid: in an upcoming release, it will be required to pass the indexing argument. (Triggered internally at ../aten/src/ATen/native/TensorShape.cpp:3483.)\n",
      "  return _VF.meshgrid(tensors, **kwargs)  # type: ignore[attr-defined]\n"
     ]
    },
    {
     "name": "stdout",
     "output_type": "stream",
     "text": [
      "SwinTransformerSys expand initial----depths:[2, 2, 6, 2];depths_decoder:[1, 2, 2, 2];drop_path_rate:0.1;num_classes:1\n",
      "---final upsample expand_first---\n"
     ]
    },
    {
     "name": "stderr",
     "output_type": "stream",
     "text": [
      "GPU available: True (cuda), used: True\n",
      "TPU available: False, using: 0 TPU cores\n",
      "IPU available: False, using: 0 IPUs\n",
      "HPU available: False, using: 0 HPUs\n"
     ]
    },
    {
     "name": "stdout",
     "output_type": "stream",
     "text": [
      "Using the following dataset split:\n",
      "Train years: [2018, 2019], Val years: [2020], Test years: [2021]\n"
     ]
    },
    {
     "name": "stderr",
     "output_type": "stream",
     "text": [
      "Restoring states from the checkpoint path at /home/sl221120/WildfireSpreadTS/lightning_logs/wildfire_progression/k7s96l2o/checkpoints/epoch=122-step=9594.ckpt\n",
      "LOCAL_RANK: 0 - CUDA_VISIBLE_DEVICES: [0,1,2,3]\n",
      "Loaded model weights from the checkpoint at /home/sl221120/WildfireSpreadTS/lightning_logs/wildfire_progression/k7s96l2o/checkpoints/epoch=122-step=9594.ckpt\n"
     ]
    },
    {
     "name": "stdout",
     "output_type": "stream",
     "text": [
      "Testing DataLoader 0:   0%|          | 0/3337 [00:00<?, ?it/s]"
     ]
    },
    {
     "name": "stderr",
     "output_type": "stream",
     "text": [
      "/home/sl221120/anaconda3/envs/fire_ts/lib/python3.10/site-packages/torchmetrics/utilities/prints.py:43: TorchMetricsUserWarning: You are trying to use a metric in deterministic mode on GPU that uses `torch.cumsum`, which is currently not supported. The tensor will be copied to the CPU memory to compute it and then copied back to GPU. Expect some slowdowns.\n",
      "  warnings.warn(*args, **kwargs)  # noqa: B028\n",
      "/home/sl221120/anaconda3/envs/fire_ts/lib/python3.10/site-packages/torchmetrics/utilities/prints.py:43: UserWarning: No positive samples found in target, recall is undefined. Setting recall to one for all thresholds.\n",
      "  warnings.warn(*args, **kwargs)  # noqa: B028\n"
     ]
    },
    {
     "name": "stdout",
     "output_type": "stream",
     "text": [
      "Testing DataLoader 0: 100%|██████████| 3337/3337 [05:15<00:00, 10.58it/s]\n",
      "────────────────────────────────────────────────────────────────────────────────────────────────────────────────────────\n",
      "       Test metric             DataLoader 0\n",
      "────────────────────────────────────────────────────────────────────────────────────────────────────────────────────────\n",
      "         test_AP            0.46942704916000366\n",
      "         test_f1            0.5620484948158264\n",
      "        test_iou            0.3908675014972687\n",
      "        test_loss           0.3750905990600586\n",
      "     test_precision         0.5122132897377014\n",
      "       test_recall          0.6226263046264648\n",
      "────────────────────────────────────────────────────────────────────────────────────────────────────────────────────────\n"
     ]
    },
    {
     "name": "stderr",
     "output_type": "stream",
     "text": [
      "wandb: Waiting for W&B process to finish... (success).\n",
      "wandb: \n",
      "wandb: Run history:\n",
      "wandb:               epoch ▁\n",
      "wandb:             test_AP ▁\n",
      "wandb:             test_f1 ▁\n",
      "wandb:            test_iou ▁\n",
      "wandb:           test_loss ▁\n",
      "wandb:      test_precision ▁\n",
      "wandb:         test_recall ▁\n",
      "wandb: trainer/global_step ▁\n",
      "wandb: \n",
      "wandb: Run summary:\n",
      "wandb:               epoch 0\n",
      "wandb:             test_AP 0.46943\n",
      "wandb:             test_f1 0.56205\n",
      "wandb:            test_iou 0.39087\n",
      "wandb:           test_loss 0.37509\n",
      "wandb:      test_precision 0.51221\n",
      "wandb:         test_recall 0.62263\n",
      "wandb: trainer/global_step 0\n",
      "wandb: \n",
      "wandb: 🚀 View run models.SwinUnetLightning at: https://wandb.ai/bass-connections-22-23/wildfire_progression/runs/y3s6va3v\n",
      "wandb: Synced 6 W&B file(s), 2 media file(s), 3 artifact file(s) and 1 other file(s)\n",
      "wandb: Find logs at: ./lightning_logs/wandb/run-20240913_184208-y3s6va3v/logs\n"
     ]
    }
   ],
   "source": [
    "run_test(checkpoint_path=checkpoint_path, data_fold_id=0)"
   ]
  },
  {
   "cell_type": "code",
   "execution_count": 3,
   "metadata": {},
   "outputs": [
    {
     "data": {
      "text/plain": [
       "dict_items([('4adsj08p', 0), ('heg3b8sr', 1), ('g4kcwn56', 2), ('7t9l4h3a', 3), ('cgce7y3v', 4), ('h495vls8', 5), ('e90loozf', 6), ('81azfn75', 7), ('p8y7pgep', 8), ('a1cyprhl', 9), ('ju2yiuod', 10), ('w09hg1ub', 11)])"
      ]
     },
     "execution_count": 3,
     "metadata": {},
     "output_type": "execute_result"
    }
   ],
   "source": [
    "log_data = [\n",
    "    {\"run_id\":\"4adsj08p\", \"data_fold_id\":0},\n",
    "    {\"run_id\":\"heg3b8sr\", \"data_fold_id\":1},\n",
    "    {\"run_id\":\"g4kcwn56\", \"data_fold_id\":2},\n",
    "    {\"run_id\":\"7t9l4h3a\", \"data_fold_id\":3},\n",
    "    {\"run_id\":\"cgce7y3v\", \"data_fold_id\":4},\n",
    "    {\"run_id\":\"h495vls8\", \"data_fold_id\":5},\n",
    "    {\"run_id\":\"e90loozf\", \"data_fold_id\":6},\n",
    "    {\"run_id\":\"81azfn75\", \"data_fold_id\":7},\n",
    "    {\"run_id\":\"p8y7pgep\", \"data_fold_id\":8},\n",
    "    {\"run_id\":\"a1cyprhl\", \"data_fold_id\":9},\n",
    "    {\"run_id\":\"ju2yiuod\", \"data_fold_id\":10},\n",
    "    {\"run_id\":\"w09hg1ub\", \"data_fold_id\":11},\n",
    "]\n",
    "\n",
    "# Convert log data to a dictionary\n",
    "run_id_to_fold_id = {entry[\"run_id\"]: entry[\"data_fold_id\"] for entry in log_data}\n",
    "\n",
    "\n",
    "run_id_to_fold_id.items()"
   ]
  },
  {
   "cell_type": "code",
   "execution_count": 4,
   "metadata": {},
   "outputs": [],
   "source": [
    "import pandas as pd \n",
    "\n",
    "def compute_ap(file_path):\n",
    "    df = pd.read_csv(file_path)\n",
    "\n",
    "    # Compute the average and standard deviation of test_AP\n",
    "    test_ap_mean = df['test_AP'].mean()\n",
    "    test_ap_std = df['test_AP'].std()\n",
    "\n",
    "\n",
    "    print(test_ap_mean, test_ap_std)\n"
   ]
  },
  {
   "cell_type": "code",
   "execution_count": 2,
   "metadata": {},
   "outputs": [
    {
     "name": "stdout",
     "output_type": "stream",
     "text": [
      "veg_mono\n",
      "0.3228241143127282 0.09496183157932543\n"
     ]
    }
   ],
   "source": [
    "file_path = '/home/sl221120/WildfireSpreadTS/src/veg_mono.csv'\n",
    "print(\"veg_mono\")\n",
    "compute_ap(file_path)"
   ]
  },
  {
   "cell_type": "code",
   "execution_count": 3,
   "metadata": {},
   "outputs": [
    {
     "name": "stdout",
     "output_type": "stream",
     "text": [
      "multi_mono\n",
      "0.33916346604625386 0.09063526435030687\n"
     ]
    }
   ],
   "source": [
    "file_path = '/home/sl221120/WildfireSpreadTS/src/multi_mono.csv'\n",
    "print(\"multi_mono\")\n",
    "compute_ap(file_path)\n",
    "\n"
   ]
  },
  {
   "cell_type": "code",
   "execution_count": 4,
   "metadata": {},
   "outputs": [
    {
     "name": "stdout",
     "output_type": "stream",
     "text": [
      "all_mono\n",
      "0.32728181034326553 0.10340745934365056\n"
     ]
    }
   ],
   "source": [
    "file_path = '/home/sl221120/WildfireSpreadTS/src/all_mono.csv'\n",
    "print(\"all_mono\")\n",
    "compute_ap(file_path)\n"
   ]
  },
  {
   "cell_type": "code",
   "execution_count": 6,
   "metadata": {},
   "outputs": [
    {
     "name": "stdout",
     "output_type": "stream",
     "text": [
      "veg_multi\n",
      "0.3335219609240691 0.08486465050508904\n"
     ]
    }
   ],
   "source": [
    "file_path = '/home/sl221120/WildfireSpreadTS/src/veg_multi.csv'\n",
    "print(\"veg_multi\")\n",
    "compute_ap(file_path)"
   ]
  },
  {
   "cell_type": "code",
   "execution_count": 7,
   "metadata": {},
   "outputs": [
    {
     "name": "stdout",
     "output_type": "stream",
     "text": [
      "multi_multi\n",
      "0.3407648255427678 0.08584146476653304\n"
     ]
    }
   ],
   "source": [
    "file_path = '/home/sl221120/WildfireSpreadTS/src/multi_multi.csv'\n",
    "print(\"multi_multi\")\n",
    "compute_ap(file_path)"
   ]
  },
  {
   "cell_type": "code",
   "execution_count": 6,
   "metadata": {},
   "outputs": [
    {
     "name": "stdout",
     "output_type": "stream",
     "text": [
      "all_multi\n",
      "0.29986127962668735 0.10934251644823732\n"
     ]
    }
   ],
   "source": [
    "file_path = '/home/sl221120/WildfireSpreadTS/src/all_multi.csv'\n",
    "print(\"all_multi\")\n",
    "compute_ap(file_path)"
   ]
  },
  {
   "cell_type": "code",
   "execution_count": 7,
   "metadata": {},
   "outputs": [
    {
     "name": "stdout",
     "output_type": "stream",
     "text": [
      "all_multi\n",
      "0.29986127962668735 0.10934251644823731\n"
     ]
    }
   ],
   "source": [
    "file_path = '/home/sl221120/WildfireSpreadTS/src/all_multi_new.csv'\n",
    "print(\"all_multi\")\n",
    "compute_ap(file_path)"
   ]
  },
  {
   "cell_type": "code",
   "execution_count": null,
   "metadata": {},
   "outputs": [],
   "source": [
    "print(\"Veg Mono Unet FoldId0:\")\n",
    "\n"
   ]
  }
 ],
 "metadata": {
  "kernelspec": {
   "display_name": "dl",
   "language": "python",
   "name": "python3"
  },
  "language_info": {
   "codemirror_mode": {
    "name": "ipython",
    "version": 3
   },
   "file_extension": ".py",
   "mimetype": "text/x-python",
   "name": "python",
   "nbconvert_exporter": "python",
   "pygments_lexer": "ipython3",
   "version": "3.10.4"
  }
 },
 "nbformat": 4,
 "nbformat_minor": 2
}
