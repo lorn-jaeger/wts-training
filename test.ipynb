{
 "cells": [
  {
   "cell_type": "code",
   "execution_count": 2,
   "metadata": {},
   "outputs": [
    {
     "name": "stderr",
     "output_type": "stream",
     "text": [
      "python: can't open file '/data/users/sl636/WildfireSpreadTS/src/train.py': [Errno 2] No such file or directory\n",
      "python: can't open file '/data/users/sl636/WildfireSpreadTS/src/train.py': [Errno 2] No such file or directory\n",
      "python: can't open file '/data/users/sl636/WildfireSpreadTS/src/train.py': [Errno 2] No such file or directory\n",
      "python: can't open file '/data/users/sl636/WildfireSpreadTS/src/train.py': [Errno 2] No such file or directory\n",
      "python: can't open file '/data/users/sl636/WildfireSpreadTS/src/train.py': [Errno 2] No such file or directory\n",
      "python: can't open file '/data/users/sl636/WildfireSpreadTS/src/train.py': [Errno 2] No such file or directory\n",
      "python: can't open file '/data/users/sl636/WildfireSpreadTS/src/train.py': [Errno 2] No such file or directory\n",
      "python: can't open file '/data/users/sl636/WildfireSpreadTS/src/train.py': [Errno 2] No such file or directory\n",
      "python: can't open file '/data/users/sl636/WildfireSpreadTS/src/train.py': [Errno 2] No such file or directory\n",
      "python: can't open file '/data/users/sl636/WildfireSpreadTS/src/train.py': [Errno 2] No such file or directory\n",
      "python: can't open file '/data/users/sl636/WildfireSpreadTS/src/train.py': [Errno 2] No such file or directory\n",
      "python: can't open file '/data/users/sl636/WildfireSpreadTS/src/train.py': [Errno 2] No such file or directory\n"
     ]
    }
   ],
   "source": [
    "import os\n",
    "import subprocess\n",
    "\n",
    "# Define the base directory containing the runs\n",
    "base_dir = '/home/sl221120/WildfireSpreadTS/lightning_logs/wildfire_progression'\n",
    "data_dir = '/home/sl221120/sl636/WildfireSpreadTS_HDF5'\n",
    "\n",
    "# Log data mapping run_id to data_fold_id\n",
    "log_data = [\n",
    "    {\"run_id\":\"4adsj08p\", \"data_fold_id\":0},\n",
    "    {\"run_id\":\"heg3b8sr\", \"data_fold_id\":1},\n",
    "    {\"run_id\":\"g4kcwn56\", \"data_fold_id\":2},\n",
    "    {\"run_id\":\"7t9l4h3a\", \"data_fold_id\":3},\n",
    "    {\"run_id\":\"cgce7y3v\", \"data_fold_id\":4},\n",
    "    {\"run_id\":\"h495vls8\", \"data_fold_id\":5},\n",
    "    {\"run_id\":\"e90loozf\", \"data_fold_id\":6},\n",
    "    {\"run_id\":\"81azfn75\", \"data_fold_id\":7},\n",
    "    {\"run_id\":\"p8y7pgep\", \"data_fold_id\":8},\n",
    "    {\"run_id\":\"a1cyprhl\", \"data_fold_id\":9},\n",
    "    {\"run_id\":\"ju2yiuod\", \"data_fold_id\":10},\n",
    "    {\"run_id\":\"w09hg1ub\", \"data_fold_id\":11},\n",
    "]\n",
    "\n",
    "# Convert log data to a dictionary\n",
    "run_id_to_fold_id = {entry[\"run_id\"]: entry[\"data_fold_id\"] for entry in log_data}\n",
    "\n",
    "# Function to run the test command for a specific checkpoint\n",
    "def run_test(checkpoint_path, data_fold_id):\n",
    "    test_command = [\n",
    "        'python',\n",
    "        '/data/users/sl636/WildfireSpreadTS/src/train.py',\n",
    "        '--config=cfgs/unet/res18_monotemporal_test_only.yaml',\n",
    "        '--trainer=cfgs/trainer_single_gpu.yaml',\n",
    "        '--data=cfgs/data_monotemporal_full_features.yaml',\n",
    "        '--seed_everything=0',\n",
    "        '--trainer.max_epochs=200',\n",
    "        '--do_test=True',\n",
    "        f'--data.data_fold_id={data_fold_id}',\n",
    "        f'--data.data_dir={data_dir}'\n",
    "        f'--config.ckpt_path={checkpoint_path}'\n",
    "    ]\n",
    "\n",
    "    # Run the test command\n",
    "    subprocess.run(test_command)\n",
    "\n",
    "# Iterate through each run folder\n",
    "for run_id, data_fold_id in run_id_to_fold_id.items():\n",
    "    run_path = os.path.join(base_dir, run_id, 'checkpoints')\n",
    "    # Find the checkpoint file with the best validation loss\n",
    "    checkpoint_file = os.listdir(run_path)[0]\n",
    "    if checkpoint_file.endswith(\".ckpt\"):\n",
    "        run_test(checkpoint_file, data_fold_id)\n"
   ]
  },
  {
   "cell_type": "code",
   "execution_count": 3,
   "metadata": {},
   "outputs": [
    {
     "data": {
      "text/plain": [
       "dict_items([('4adsj08p', 0), ('heg3b8sr', 1), ('g4kcwn56', 2), ('7t9l4h3a', 3), ('cgce7y3v', 4), ('h495vls8', 5), ('e90loozf', 6), ('81azfn75', 7), ('p8y7pgep', 8), ('a1cyprhl', 9), ('ju2yiuod', 10), ('w09hg1ub', 11)])"
      ]
     },
     "execution_count": 3,
     "metadata": {},
     "output_type": "execute_result"
    }
   ],
   "source": [
    "log_data = [\n",
    "    {\"run_id\":\"4adsj08p\", \"data_fold_id\":0},\n",
    "    {\"run_id\":\"heg3b8sr\", \"data_fold_id\":1},\n",
    "    {\"run_id\":\"g4kcwn56\", \"data_fold_id\":2},\n",
    "    {\"run_id\":\"7t9l4h3a\", \"data_fold_id\":3},\n",
    "    {\"run_id\":\"cgce7y3v\", \"data_fold_id\":4},\n",
    "    {\"run_id\":\"h495vls8\", \"data_fold_id\":5},\n",
    "    {\"run_id\":\"e90loozf\", \"data_fold_id\":6},\n",
    "    {\"run_id\":\"81azfn75\", \"data_fold_id\":7},\n",
    "    {\"run_id\":\"p8y7pgep\", \"data_fold_id\":8},\n",
    "    {\"run_id\":\"a1cyprhl\", \"data_fold_id\":9},\n",
    "    {\"run_id\":\"ju2yiuod\", \"data_fold_id\":10},\n",
    "    {\"run_id\":\"w09hg1ub\", \"data_fold_id\":11},\n",
    "]\n",
    "\n",
    "# Convert log data to a dictionary\n",
    "run_id_to_fold_id = {entry[\"run_id\"]: entry[\"data_fold_id\"] for entry in log_data}\n",
    "\n",
    "\n",
    "run_id_to_fold_id.items()"
   ]
  },
  {
   "cell_type": "code",
   "execution_count": 4,
   "metadata": {},
   "outputs": [],
   "source": [
    "import pandas as pd \n",
    "\n",
    "def compute_ap(file_path):\n",
    "    df = pd.read_csv(file_path)\n",
    "\n",
    "    # Compute the average and standard deviation of test_AP\n",
    "    test_ap_mean = df['test_AP'].mean()\n",
    "    test_ap_std = df['test_AP'].std()\n",
    "\n",
    "\n",
    "    print(test_ap_mean, test_ap_std)\n"
   ]
  },
  {
   "cell_type": "code",
   "execution_count": 2,
   "metadata": {},
   "outputs": [
    {
     "name": "stdout",
     "output_type": "stream",
     "text": [
      "veg_mono\n",
      "0.3228241143127282 0.09496183157932543\n"
     ]
    }
   ],
   "source": [
    "file_path = '/home/sl221120/WildfireSpreadTS/src/veg_mono.csv'\n",
    "print(\"veg_mono\")\n",
    "compute_ap(file_path)"
   ]
  },
  {
   "cell_type": "code",
   "execution_count": 3,
   "metadata": {},
   "outputs": [
    {
     "name": "stdout",
     "output_type": "stream",
     "text": [
      "multi_mono\n",
      "0.33916346604625386 0.09063526435030687\n"
     ]
    }
   ],
   "source": [
    "file_path = '/home/sl221120/WildfireSpreadTS/src/multi_mono.csv'\n",
    "print(\"multi_mono\")\n",
    "compute_ap(file_path)\n",
    "\n"
   ]
  },
  {
   "cell_type": "code",
   "execution_count": 4,
   "metadata": {},
   "outputs": [
    {
     "name": "stdout",
     "output_type": "stream",
     "text": [
      "all_mono\n",
      "0.32728181034326553 0.10340745934365056\n"
     ]
    }
   ],
   "source": [
    "file_path = '/home/sl221120/WildfireSpreadTS/src/all_mono.csv'\n",
    "print(\"all_mono\")\n",
    "compute_ap(file_path)\n"
   ]
  },
  {
   "cell_type": "code",
   "execution_count": 6,
   "metadata": {},
   "outputs": [
    {
     "name": "stdout",
     "output_type": "stream",
     "text": [
      "veg_multi\n",
      "0.3335219609240691 0.08486465050508904\n"
     ]
    }
   ],
   "source": [
    "file_path = '/home/sl221120/WildfireSpreadTS/src/veg_multi.csv'\n",
    "print(\"veg_multi\")\n",
    "compute_ap(file_path)"
   ]
  },
  {
   "cell_type": "code",
   "execution_count": 7,
   "metadata": {},
   "outputs": [
    {
     "name": "stdout",
     "output_type": "stream",
     "text": [
      "multi_multi\n",
      "0.3407648255427678 0.08584146476653304\n"
     ]
    }
   ],
   "source": [
    "file_path = '/home/sl221120/WildfireSpreadTS/src/multi_multi.csv'\n",
    "print(\"multi_multi\")\n",
    "compute_ap(file_path)"
   ]
  },
  {
   "cell_type": "code",
   "execution_count": 6,
   "metadata": {},
   "outputs": [
    {
     "name": "stdout",
     "output_type": "stream",
     "text": [
      "all_multi\n",
      "0.29986127962668735 0.10934251644823732\n"
     ]
    }
   ],
   "source": [
    "file_path = '/home/sl221120/WildfireSpreadTS/src/all_multi.csv'\n",
    "print(\"all_multi\")\n",
    "compute_ap(file_path)"
   ]
  },
  {
   "cell_type": "code",
   "execution_count": 7,
   "metadata": {},
   "outputs": [
    {
     "name": "stdout",
     "output_type": "stream",
     "text": [
      "all_multi\n",
      "0.29986127962668735 0.10934251644823731\n"
     ]
    }
   ],
   "source": [
    "file_path = '/home/sl221120/WildfireSpreadTS/src/all_multi_new.csv'\n",
    "print(\"all_multi\")\n",
    "compute_ap(file_path)"
   ]
  },
  {
   "cell_type": "code",
   "execution_count": null,
   "metadata": {},
   "outputs": [],
   "source": []
  }
 ],
 "metadata": {
  "kernelspec": {
   "display_name": "dl",
   "language": "python",
   "name": "python3"
  },
  "language_info": {
   "codemirror_mode": {
    "name": "ipython",
    "version": 3
   },
   "file_extension": ".py",
   "mimetype": "text/x-python",
   "name": "python",
   "nbconvert_exporter": "python",
   "pygments_lexer": "ipython3",
   "version": "3.12.3"
  }
 },
 "nbformat": 4,
 "nbformat_minor": 2
}
