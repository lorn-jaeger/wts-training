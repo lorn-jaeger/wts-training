{
 "cells": [
  {
   "cell_type": "code",
   "execution_count": 2,
   "metadata": {},
   "outputs": [
    {
     "ename": "ModuleNotFoundError",
     "evalue": "No module named 'transformers'",
     "output_type": "error",
     "traceback": [
      "\u001b[0;31m---------------------------------------------------------------------------\u001b[0m",
      "\u001b[0;31mModuleNotFoundError\u001b[0m                       Traceback (most recent call last)",
      "\u001b[1;32m/home/sl221120/WildfireSpreadTS/swin.ipynb Cell 1\u001b[0m line \u001b[0;36m7\n\u001b[1;32m      <a href='vscode-notebook-cell://ssh-remote%2Bjmgpu2.cs.umt.edu/home/sl221120/WildfireSpreadTS/swin.ipynb#W0sdnNjb2RlLXJlbW90ZQ%3D%3D?line=4'>5</a>\u001b[0m \u001b[39mfrom\u001b[39;00m \u001b[39mpytorch_lightning\u001b[39;00m \u001b[39mimport\u001b[39;00m Trainer\n\u001b[1;32m      <a href='vscode-notebook-cell://ssh-remote%2Bjmgpu2.cs.umt.edu/home/sl221120/WildfireSpreadTS/swin.ipynb#W0sdnNjb2RlLXJlbW90ZQ%3D%3D?line=5'>6</a>\u001b[0m \u001b[39mfrom\u001b[39;00m \u001b[39mpytorch_lightning\u001b[39;00m\u001b[39m.\u001b[39;00m\u001b[39mcallbacks\u001b[39;00m \u001b[39mimport\u001b[39;00m ModelCheckpoint\n\u001b[0;32m----> <a href='vscode-notebook-cell://ssh-remote%2Bjmgpu2.cs.umt.edu/home/sl221120/WildfireSpreadTS/swin.ipynb#W0sdnNjb2RlLXJlbW90ZQ%3D%3D?line=6'>7</a>\u001b[0m \u001b[39mfrom\u001b[39;00m \u001b[39mtransformers\u001b[39;00m \u001b[39mimport\u001b[39;00m SwinForImageClassification, SwinConfig, SwinModel\n\u001b[1;32m      <a href='vscode-notebook-cell://ssh-remote%2Bjmgpu2.cs.umt.edu/home/sl221120/WildfireSpreadTS/swin.ipynb#W0sdnNjb2RlLXJlbW90ZQ%3D%3D?line=7'>8</a>\u001b[0m \u001b[39mimport\u001b[39;00m \u001b[39mtorch\u001b[39;00m\u001b[39m.\u001b[39;00m\u001b[39mnn\u001b[39;00m\u001b[39m.\u001b[39;00m\u001b[39mfunctional\u001b[39;00m \u001b[39mas\u001b[39;00m \u001b[39mF\u001b[39;00m\n\u001b[1;32m     <a href='vscode-notebook-cell://ssh-remote%2Bjmgpu2.cs.umt.edu/home/sl221120/WildfireSpreadTS/swin.ipynb#W0sdnNjb2RlLXJlbW90ZQ%3D%3D?line=9'>10</a>\u001b[0m \u001b[39m# Import your dataset and datamodule\u001b[39;00m\n",
      "\u001b[0;31mModuleNotFoundError\u001b[0m: No module named 'transformers'"
     ]
    }
   ],
   "source": [
    "import torch\n",
    "from torch import nn\n",
    "from torch.utils.data import DataLoader\n",
    "import pytorch_lightning as pl\n",
    "from pytorch_lightning import Trainer\n",
    "from pytorch_lightning.callbacks import ModelCheckpoint\n",
    "from transformers import SwinForImageClassification, SwinConfig, SwinModel\n",
    "import torch.nn.functional as F\n",
    "\n",
    "# Import your dataset and datamodule\n",
    "from src.dataloader.FireSpreadDataModule import FireSpreadDataModule\n",
    "from src.dataloader.FireSpreadDataset import FireSpreadDataset\n",
    "\n",
    "# Define your own model class by extending the pretrained Swin model\n",
    "class SwinFineTuner(pl.LightningModule):\n",
    "    def __init__(self):\n",
    "        super(SwinFineTuner, self).__init__()\n",
    "        config = SwinConfig.from_pretrained(\"microsoft/swin-tiny-patch4-window7-224\")\n",
    "        self.model = SwinModel(config)\n",
    "        \n",
    "        # Add a final convolutional layer to generate a binary mask\n",
    "        self.classifier = nn.Conv2d(config.hidden_size, 1, kernel_size=1)\n",
    "        \n",
    "        self.criterion = nn.BCEWithLogitsLoss()\n",
    "\n",
    "    def forward(self, x):\n",
    "        outputs = self.model(x).last_hidden_state\n",
    "        outputs = outputs.permute(0, 3, 1, 2)  # Change shape to [batch, hidden_size, height, width]\n",
    "        logits = self.classifier(outputs)\n",
    "        return logits\n",
    "\n",
    "    def training_step(self, batch, batch_idx):\n",
    "        inputs, labels = batch\n",
    "        outputs = self(inputs)\n",
    "        loss = self.criterion(outputs, labels)\n",
    "        return loss\n",
    "\n",
    "    def configure_optimizers(self):\n",
    "        optimizer = torch.optim.Adam(self.parameters(), lr=1e-4)\n",
    "        return optimizer\n",
    "\n",
    "    def validation_step(self, batch, batch_idx):\n",
    "        inputs, labels = batch\n",
    "        outputs = self(inputs)\n",
    "        loss = self.criterion(outputs, labels)\n",
    "        self.log('val_loss', loss, prog_bar=True)\n",
    "        return loss\n",
    "\n",
    "# Parameters\n",
    "batch_size = 16\n",
    "\n",
    "# Initialize the data module\n",
    "data_module = FireSpreadDataModule(batch_size=batch_size)\n",
    "\n",
    "# Initialize the model\n",
    "model = SwinFineTuner()\n",
    "\n",
    "# Set up a model checkpoint callback\n",
    "checkpoint_callback = ModelCheckpoint(\n",
    "    monitor=\"val_loss\",\n",
    "    dirpath=\"./checkpoints\",\n",
    "    filename=\"swin-transformer-{epoch:02d}-{val_loss:.2f}\",\n",
    "    save_top_k=1,\n",
    "    mode=\"min\",\n",
    ")\n",
    "\n",
    "# Initialize the trainer\n",
    "trainer = Trainer(\n",
    "    max_epochs=1,\n",
    "    gpus=1,  # Use GPU if available\n",
    "    callbacks=[checkpoint_callback]\n",
    ")\n",
    "\n"
   ]
  },
  {
   "cell_type": "code",
   "execution_count": null,
   "metadata": {},
   "outputs": [],
   "source": [
    "\n",
    "# Train the model\n",
    "trainer.fit(model, datamodule=data_module)\n"
   ]
  }
 ],
 "metadata": {
  "kernelspec": {
   "display_name": "fire_ts",
   "language": "python",
   "name": "python3"
  },
  "language_info": {
   "codemirror_mode": {
    "name": "ipython",
    "version": 3
   },
   "file_extension": ".py",
   "mimetype": "text/x-python",
   "name": "python",
   "nbconvert_exporter": "python",
   "pygments_lexer": "ipython3",
   "version": "3.10.4"
  }
 },
 "nbformat": 4,
 "nbformat_minor": 2
}
