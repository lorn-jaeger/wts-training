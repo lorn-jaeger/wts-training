{
 "cells": [
  {
   "cell_type": "code",
   "execution_count": 2,
   "metadata": {},
   "outputs": [],
   "source": [
    "import torch\n",
    "from torch.utils.data import DataLoader\n",
    "from src.dataloader.FireSpreadDataset import FireSpreadDataset\n",
    "import copy\n",
    "\n",
    "data_dir = \"/home/sl221120/scratch/WildfireSpreadTS_HDF5\"\n",
    "included_fire_years = [2017, 2018, 2019]\n",
    "n_leading_observations = 1\n",
    "crop_side_length = 128\n",
    "load_from_hdf5 = True\n",
    "is_train = True\n",
    "remove_duplicate_features = True\n",
    "stats_years = (2018, 2019)\n",
    "n_leading_observations_test_adjustment = 5\n",
    "features_to_keep = [0, 1, 2, 3, 4, 38, 39]\n",
    "return_doy = False\n",
    "desired_side_length = 224\n",
    "\n",
    "dataset = FireSpreadDataset(\n",
    "    data_dir=data_dir,\n",
    "    included_fire_years=included_fire_years,\n",
    "    n_leading_observations=n_leading_observations,\n",
    "    crop_side_length=crop_side_length,\n",
    "    load_from_hdf5=load_from_hdf5,\n",
    "    is_train=is_train,\n",
    "    remove_duplicate_features=remove_duplicate_features,\n",
    "    stats_years=stats_years,\n",
    "    n_leading_observations_test_adjustment=n_leading_observations_test_adjustment,\n",
    "    features_to_keep=features_to_keep,\n",
    "    return_doy=return_doy,\n",
    "    desired_side_length=desired_side_length\n",
    ")\n",
    "\n",
    "# Create DataLoader\n",
    "data_loader = DataLoader(dataset, batch_size=64, shuffle=True)\n",
    "\n",
    "for batch in data_loader:\n",
    "    inputs, label = batch\n",
    "    break\n",
    "\n"
   ]
  },
  {
   "cell_type": "code",
   "execution_count": 3,
   "metadata": {},
   "outputs": [],
   "source": [
    "class Config:\n",
    "    class DATA:\n",
    "        IMG_SIZE = 224 \n",
    "    \n",
    "    class MODEL:\n",
    "        TYPE = \"swin\"\n",
    "        DROP_RATE = 0\n",
    "        DROP_PATH_RATE = 0.2\n",
    "        NAME = 'swin_tiny_patch4_window7_224'\n",
    "        PRETRAIN_CKPT = 'src/models/SwinUnet/networks/swin_tiny_patch4_window7_224.pth'\n",
    "\n",
    "        \n",
    "        class SWIN:\n",
    "            PATCH_SIZE = 4 \n",
    "            IN_CHANS = 7  \n",
    "            EMBED_DIM = 96  \n",
    "            DEPTHS = [2, 2, 2, 2]\n",
    "            DECODER_DEPTHS = [2, 2, 2, 1]  \n",
    "            NUM_HEADS = [3, 6, 12, 24] \n",
    "            WINDOW_SIZE = 7\n",
    "            MLP_RATIO = 4.0  \n",
    "            QKV_BIAS = True  \n",
    "            QK_SCALE = None \n",
    "            APE = False\n",
    "            PATCH_NORM = True   \n",
    "        \n",
    "    class TRAIN:\n",
    "        USE_CHECKPOINT = True\n",
    "\n",
    "config = Config()"
   ]
  },
  {
   "cell_type": "code",
   "execution_count": 4,
   "metadata": {},
   "outputs": [
    {
     "name": "stderr",
     "output_type": "stream",
     "text": [
      "/home/sl221120/anaconda3/envs/fire_ts/lib/python3.10/site-packages/tqdm/auto.py:21: TqdmWarning: IProgress not found. Please update jupyter and ipywidgets. See https://ipywidgets.readthedocs.io/en/stable/user_install.html\n",
      "  from .autonotebook import tqdm as notebook_tqdm\n"
     ]
    },
    {
     "name": "stdout",
     "output_type": "stream",
     "text": [
      "SwinTransformerSys expand initial----depths:[2, 2, 2, 2];depths_decoder:[1, 2, 2, 2];drop_path_rate:0.2;num_classes:1\n"
     ]
    },
    {
     "name": "stderr",
     "output_type": "stream",
     "text": [
      "/home/sl221120/anaconda3/envs/fire_ts/lib/python3.10/site-packages/torch/functional.py:504: UserWarning: torch.meshgrid: in an upcoming release, it will be required to pass the indexing argument. (Triggered internally at ../aten/src/ATen/native/TensorShape.cpp:3483.)\n",
      "  return _VF.meshgrid(tensors, **kwargs)  # type: ignore[attr-defined]\n"
     ]
    },
    {
     "name": "stdout",
     "output_type": "stream",
     "text": [
      "---final upsample expand_first---\n"
     ]
    }
   ],
   "source": [
    "from src.models.SwinUnet.networks.vision_transformer import SwinUnet\n",
    "\n",
    "model = SwinUnet(config, num_classes=1)"
   ]
  },
  {
   "cell_type": "code",
   "execution_count": 5,
   "metadata": {},
   "outputs": [],
   "source": [
    "from torchviz import make_dot\n",
    "from IPython.display import Image\n",
    "\n",
    "x = torch.randn(1, 7, 224, 224)\n",
    "y = model(x)\n",
    "#make_dot(y, params=dict(model.named_parameters()))"
   ]
  },
  {
   "cell_type": "code",
   "execution_count": 6,
   "metadata": {},
   "outputs": [
    {
     "name": "stdout",
     "output_type": "stream",
     "text": [
      "pretrained_path:src/models/SwinUnet/networks/swin_tiny_patch4_window7_224.pth\n"
     ]
    },
    {
     "data": {
      "text/plain": [
       "odict_keys(['patch_embed.proj.weight', 'patch_embed.proj.bias', 'patch_embed.norm.weight', 'patch_embed.norm.bias', 'layers.0.blocks.0.norm1.weight', 'layers.0.blocks.0.norm1.bias', 'layers.0.blocks.0.attn.qkv.weight', 'layers.0.blocks.0.attn.qkv.bias', 'layers.0.blocks.0.attn.proj.weight', 'layers.0.blocks.0.attn.proj.bias', 'layers.0.blocks.0.norm2.weight', 'layers.0.blocks.0.norm2.bias', 'layers.0.blocks.0.mlp.fc1.weight', 'layers.0.blocks.0.mlp.fc1.bias', 'layers.0.blocks.0.mlp.fc2.weight', 'layers.0.blocks.0.mlp.fc2.bias', 'layers.0.blocks.1.norm1.weight', 'layers.0.blocks.1.norm1.bias', 'layers.0.blocks.1.attn.qkv.weight', 'layers.0.blocks.1.attn.qkv.bias', 'layers.0.blocks.1.attn.proj.weight', 'layers.0.blocks.1.attn.proj.bias', 'layers.0.blocks.1.norm2.weight', 'layers.0.blocks.1.norm2.bias', 'layers.0.blocks.1.mlp.fc1.weight', 'layers.0.blocks.1.mlp.fc1.bias', 'layers.0.blocks.1.mlp.fc2.weight', 'layers.0.blocks.1.mlp.fc2.bias', 'layers.0.downsample.norm.weight', 'layers.0.downsample.norm.bias', 'layers.1.blocks.0.norm1.weight', 'layers.1.blocks.0.norm1.bias', 'layers.1.blocks.0.attn.qkv.weight', 'layers.1.blocks.0.attn.qkv.bias', 'layers.1.blocks.0.attn.proj.weight', 'layers.1.blocks.0.attn.proj.bias', 'layers.1.blocks.0.norm2.weight', 'layers.1.blocks.0.norm2.bias', 'layers.1.blocks.0.mlp.fc1.weight', 'layers.1.blocks.0.mlp.fc1.bias', 'layers.1.blocks.0.mlp.fc2.weight', 'layers.1.blocks.0.mlp.fc2.bias', 'layers.1.blocks.1.norm1.weight', 'layers.1.blocks.1.norm1.bias', 'layers.1.blocks.1.attn.qkv.weight', 'layers.1.blocks.1.attn.qkv.bias', 'layers.1.blocks.1.attn.proj.weight', 'layers.1.blocks.1.attn.proj.bias', 'layers.1.blocks.1.norm2.weight', 'layers.1.blocks.1.norm2.bias', 'layers.1.blocks.1.mlp.fc1.weight', 'layers.1.blocks.1.mlp.fc1.bias', 'layers.1.blocks.1.mlp.fc2.weight', 'layers.1.blocks.1.mlp.fc2.bias', 'layers.1.downsample.norm.weight', 'layers.1.downsample.norm.bias', 'layers.2.blocks.0.norm1.weight', 'layers.2.blocks.0.norm1.bias', 'layers.2.blocks.0.attn.qkv.weight', 'layers.2.blocks.0.attn.qkv.bias', 'layers.2.blocks.0.attn.proj.weight', 'layers.2.blocks.0.attn.proj.bias', 'layers.2.blocks.0.norm2.weight', 'layers.2.blocks.0.norm2.bias', 'layers.2.blocks.0.mlp.fc1.weight', 'layers.2.blocks.0.mlp.fc1.bias', 'layers.2.blocks.0.mlp.fc2.weight', 'layers.2.blocks.0.mlp.fc2.bias', 'layers.2.blocks.1.norm1.weight', 'layers.2.blocks.1.norm1.bias', 'layers.2.blocks.1.attn.qkv.weight', 'layers.2.blocks.1.attn.qkv.bias', 'layers.2.blocks.1.attn.proj.weight', 'layers.2.blocks.1.attn.proj.bias', 'layers.2.blocks.1.norm2.weight', 'layers.2.blocks.1.norm2.bias', 'layers.2.blocks.1.mlp.fc1.weight', 'layers.2.blocks.1.mlp.fc1.bias', 'layers.2.blocks.1.mlp.fc2.weight', 'layers.2.blocks.1.mlp.fc2.bias', 'layers.2.blocks.2.norm1.weight', 'layers.2.blocks.2.norm1.bias', 'layers.2.blocks.2.attn.qkv.weight', 'layers.2.blocks.2.attn.qkv.bias', 'layers.2.blocks.2.attn.proj.weight', 'layers.2.blocks.2.attn.proj.bias', 'layers.2.blocks.2.norm2.weight', 'layers.2.blocks.2.norm2.bias', 'layers.2.blocks.2.mlp.fc1.weight', 'layers.2.blocks.2.mlp.fc1.bias', 'layers.2.blocks.2.mlp.fc2.weight', 'layers.2.blocks.2.mlp.fc2.bias', 'layers.2.blocks.3.norm1.weight', 'layers.2.blocks.3.norm1.bias', 'layers.2.blocks.3.attn.qkv.weight', 'layers.2.blocks.3.attn.qkv.bias', 'layers.2.blocks.3.attn.proj.weight', 'layers.2.blocks.3.attn.proj.bias', 'layers.2.blocks.3.norm2.weight', 'layers.2.blocks.3.norm2.bias', 'layers.2.blocks.3.mlp.fc1.weight', 'layers.2.blocks.3.mlp.fc1.bias', 'layers.2.blocks.3.mlp.fc2.weight', 'layers.2.blocks.3.mlp.fc2.bias', 'layers.2.blocks.4.norm1.weight', 'layers.2.blocks.4.norm1.bias', 'layers.2.blocks.4.attn.qkv.weight', 'layers.2.blocks.4.attn.qkv.bias', 'layers.2.blocks.4.attn.proj.weight', 'layers.2.blocks.4.attn.proj.bias', 'layers.2.blocks.4.norm2.weight', 'layers.2.blocks.4.norm2.bias', 'layers.2.blocks.4.mlp.fc1.weight', 'layers.2.blocks.4.mlp.fc1.bias', 'layers.2.blocks.4.mlp.fc2.weight', 'layers.2.blocks.4.mlp.fc2.bias', 'layers.2.blocks.5.norm1.weight', 'layers.2.blocks.5.norm1.bias', 'layers.2.blocks.5.attn.qkv.weight', 'layers.2.blocks.5.attn.qkv.bias', 'layers.2.blocks.5.attn.proj.weight', 'layers.2.blocks.5.attn.proj.bias', 'layers.2.blocks.5.norm2.weight', 'layers.2.blocks.5.norm2.bias', 'layers.2.blocks.5.mlp.fc1.weight', 'layers.2.blocks.5.mlp.fc1.bias', 'layers.2.blocks.5.mlp.fc2.weight', 'layers.2.blocks.5.mlp.fc2.bias', 'layers.2.downsample.norm.weight', 'layers.2.downsample.norm.bias', 'layers.3.blocks.0.norm1.weight', 'layers.3.blocks.0.norm1.bias', 'layers.3.blocks.0.attn.qkv.weight', 'layers.3.blocks.0.attn.qkv.bias', 'layers.3.blocks.0.attn.proj.weight', 'layers.3.blocks.0.attn.proj.bias', 'layers.3.blocks.0.norm2.weight', 'layers.3.blocks.0.norm2.bias', 'layers.3.blocks.0.mlp.fc1.weight', 'layers.3.blocks.0.mlp.fc1.bias', 'layers.3.blocks.0.mlp.fc2.weight', 'layers.3.blocks.0.mlp.fc2.bias', 'layers.3.blocks.1.norm1.weight', 'layers.3.blocks.1.norm1.bias', 'layers.3.blocks.1.attn.qkv.weight', 'layers.3.blocks.1.attn.qkv.bias', 'layers.3.blocks.1.attn.proj.weight', 'layers.3.blocks.1.attn.proj.bias', 'layers.3.blocks.1.norm2.weight', 'layers.3.blocks.1.norm2.bias', 'layers.3.blocks.1.mlp.fc1.weight', 'layers.3.blocks.1.mlp.fc1.bias', 'layers.3.blocks.1.mlp.fc2.weight', 'layers.3.blocks.1.mlp.fc2.bias', 'norm.weight', 'norm.bias', 'head.weight', 'head.bias', 'layers.0.blocks.0.attn.relative_position_index', 'layers.0.blocks.1.attn.relative_position_index', 'layers.1.blocks.0.attn.relative_position_index', 'layers.1.blocks.1.attn.relative_position_index', 'layers.2.blocks.0.attn.relative_position_index', 'layers.2.blocks.1.attn.relative_position_index', 'layers.2.blocks.2.attn.relative_position_index', 'layers.2.blocks.3.attn.relative_position_index', 'layers.2.blocks.4.attn.relative_position_index', 'layers.2.blocks.5.attn.relative_position_index', 'layers.3.blocks.0.attn.relative_position_index', 'layers.3.blocks.1.attn.relative_position_index', 'layers.0.blocks.1.attn_mask', 'layers.1.blocks.1.attn_mask', 'layers.2.blocks.1.attn_mask', 'layers.2.blocks.3.attn_mask', 'layers.2.blocks.5.attn_mask', 'layers.0.blocks.0.attn.relative_position_bias_table', 'layers.0.blocks.1.attn.relative_position_bias_table', 'layers.1.blocks.0.attn.relative_position_bias_table', 'layers.1.blocks.1.attn.relative_position_bias_table', 'layers.2.blocks.0.attn.relative_position_bias_table', 'layers.2.blocks.1.attn.relative_position_bias_table', 'layers.2.blocks.2.attn.relative_position_bias_table', 'layers.2.blocks.3.attn.relative_position_bias_table', 'layers.2.blocks.4.attn.relative_position_bias_table', 'layers.2.blocks.5.attn.relative_position_bias_table', 'layers.3.blocks.0.attn.relative_position_bias_table', 'layers.3.blocks.1.attn.relative_position_bias_table', 'layers.0.downsample.reduction.weight', 'layers.1.downsample.reduction.weight', 'layers.2.downsample.reduction.weight'])"
      ]
     },
     "execution_count": 6,
     "metadata": {},
     "output_type": "execute_result"
    }
   ],
   "source": [
    "pretrained_path = config.MODEL.PRETRAIN_CKPT\n",
    "if pretrained_path is not None:\n",
    "    print(\"pretrained_path:{}\".format(pretrained_path))\n",
    "    device = torch.device('cuda' if torch.cuda.is_available() else 'cpu')\n",
    "    pretrained_dict = torch.load(pretrained_path, map_location=device)\n",
    "    pretrained_dict = pretrained_dict['model']\n",
    "\n",
    "pretrained_dict.keys()"
   ]
  },
  {
   "cell_type": "code",
   "execution_count": 7,
   "metadata": {},
   "outputs": [],
   "source": [
    "for k in model.state_dict().keys():\n",
    "    if not k.startswith(\"swin_unet\"):\n",
    "        print(k)"
   ]
  },
  {
   "cell_type": "code",
   "execution_count": 96,
   "metadata": {},
   "outputs": [
    {
     "data": {
      "text/plain": [
       "odict_keys(['patch_embed.proj.weight', 'patch_embed.proj.bias', 'patch_embed.norm.weight', 'patch_embed.norm.bias', 'layers.0.blocks.0.norm1.weight', 'layers.0.blocks.0.norm1.bias', 'layers.0.blocks.0.attn.qkv.weight', 'layers.0.blocks.0.attn.qkv.bias', 'layers.0.blocks.0.attn.proj.weight', 'layers.0.blocks.0.attn.proj.bias', 'layers.0.blocks.0.norm2.weight', 'layers.0.blocks.0.norm2.bias', 'layers.0.blocks.0.mlp.fc1.weight', 'layers.0.blocks.0.mlp.fc1.bias', 'layers.0.blocks.0.mlp.fc2.weight', 'layers.0.blocks.0.mlp.fc2.bias', 'layers.0.blocks.1.norm1.weight', 'layers.0.blocks.1.norm1.bias', 'layers.0.blocks.1.attn.qkv.weight', 'layers.0.blocks.1.attn.qkv.bias', 'layers.0.blocks.1.attn.proj.weight', 'layers.0.blocks.1.attn.proj.bias', 'layers.0.blocks.1.norm2.weight', 'layers.0.blocks.1.norm2.bias', 'layers.0.blocks.1.mlp.fc1.weight', 'layers.0.blocks.1.mlp.fc1.bias', 'layers.0.blocks.1.mlp.fc2.weight', 'layers.0.blocks.1.mlp.fc2.bias', 'layers.0.downsample.norm.weight', 'layers.0.downsample.norm.bias', 'layers.1.blocks.0.norm1.weight', 'layers.1.blocks.0.norm1.bias', 'layers.1.blocks.0.attn.qkv.weight', 'layers.1.blocks.0.attn.qkv.bias', 'layers.1.blocks.0.attn.proj.weight', 'layers.1.blocks.0.attn.proj.bias', 'layers.1.blocks.0.norm2.weight', 'layers.1.blocks.0.norm2.bias', 'layers.1.blocks.0.mlp.fc1.weight', 'layers.1.blocks.0.mlp.fc1.bias', 'layers.1.blocks.0.mlp.fc2.weight', 'layers.1.blocks.0.mlp.fc2.bias', 'layers.1.blocks.1.norm1.weight', 'layers.1.blocks.1.norm1.bias', 'layers.1.blocks.1.attn.qkv.weight', 'layers.1.blocks.1.attn.qkv.bias', 'layers.1.blocks.1.attn.proj.weight', 'layers.1.blocks.1.attn.proj.bias', 'layers.1.blocks.1.norm2.weight', 'layers.1.blocks.1.norm2.bias', 'layers.1.blocks.1.mlp.fc1.weight', 'layers.1.blocks.1.mlp.fc1.bias', 'layers.1.blocks.1.mlp.fc2.weight', 'layers.1.blocks.1.mlp.fc2.bias', 'layers.1.downsample.norm.weight', 'layers.1.downsample.norm.bias', 'layers.2.blocks.0.norm1.weight', 'layers.2.blocks.0.norm1.bias', 'layers.2.blocks.0.attn.qkv.weight', 'layers.2.blocks.0.attn.qkv.bias', 'layers.2.blocks.0.attn.proj.weight', 'layers.2.blocks.0.attn.proj.bias', 'layers.2.blocks.0.norm2.weight', 'layers.2.blocks.0.norm2.bias', 'layers.2.blocks.0.mlp.fc1.weight', 'layers.2.blocks.0.mlp.fc1.bias', 'layers.2.blocks.0.mlp.fc2.weight', 'layers.2.blocks.0.mlp.fc2.bias', 'layers.2.blocks.1.norm1.weight', 'layers.2.blocks.1.norm1.bias', 'layers.2.blocks.1.attn.qkv.weight', 'layers.2.blocks.1.attn.qkv.bias', 'layers.2.blocks.1.attn.proj.weight', 'layers.2.blocks.1.attn.proj.bias', 'layers.2.blocks.1.norm2.weight', 'layers.2.blocks.1.norm2.bias', 'layers.2.blocks.1.mlp.fc1.weight', 'layers.2.blocks.1.mlp.fc1.bias', 'layers.2.blocks.1.mlp.fc2.weight', 'layers.2.blocks.1.mlp.fc2.bias', 'layers.2.blocks.2.norm1.weight', 'layers.2.blocks.2.norm1.bias', 'layers.2.blocks.2.attn.qkv.weight', 'layers.2.blocks.2.attn.qkv.bias', 'layers.2.blocks.2.attn.proj.weight', 'layers.2.blocks.2.attn.proj.bias', 'layers.2.blocks.2.norm2.weight', 'layers.2.blocks.2.norm2.bias', 'layers.2.blocks.2.mlp.fc1.weight', 'layers.2.blocks.2.mlp.fc1.bias', 'layers.2.blocks.2.mlp.fc2.weight', 'layers.2.blocks.2.mlp.fc2.bias', 'layers.2.blocks.3.norm1.weight', 'layers.2.blocks.3.norm1.bias', 'layers.2.blocks.3.attn.qkv.weight', 'layers.2.blocks.3.attn.qkv.bias', 'layers.2.blocks.3.attn.proj.weight', 'layers.2.blocks.3.attn.proj.bias', 'layers.2.blocks.3.norm2.weight', 'layers.2.blocks.3.norm2.bias', 'layers.2.blocks.3.mlp.fc1.weight', 'layers.2.blocks.3.mlp.fc1.bias', 'layers.2.blocks.3.mlp.fc2.weight', 'layers.2.blocks.3.mlp.fc2.bias', 'layers.2.blocks.4.norm1.weight', 'layers.2.blocks.4.norm1.bias', 'layers.2.blocks.4.attn.qkv.weight', 'layers.2.blocks.4.attn.qkv.bias', 'layers.2.blocks.4.attn.proj.weight', 'layers.2.blocks.4.attn.proj.bias', 'layers.2.blocks.4.norm2.weight', 'layers.2.blocks.4.norm2.bias', 'layers.2.blocks.4.mlp.fc1.weight', 'layers.2.blocks.4.mlp.fc1.bias', 'layers.2.blocks.4.mlp.fc2.weight', 'layers.2.blocks.4.mlp.fc2.bias', 'layers.2.blocks.5.norm1.weight', 'layers.2.blocks.5.norm1.bias', 'layers.2.blocks.5.attn.qkv.weight', 'layers.2.blocks.5.attn.qkv.bias', 'layers.2.blocks.5.attn.proj.weight', 'layers.2.blocks.5.attn.proj.bias', 'layers.2.blocks.5.norm2.weight', 'layers.2.blocks.5.norm2.bias', 'layers.2.blocks.5.mlp.fc1.weight', 'layers.2.blocks.5.mlp.fc1.bias', 'layers.2.blocks.5.mlp.fc2.weight', 'layers.2.blocks.5.mlp.fc2.bias', 'layers.2.downsample.norm.weight', 'layers.2.downsample.norm.bias', 'layers.3.blocks.0.norm1.weight', 'layers.3.blocks.0.norm1.bias', 'layers.3.blocks.0.attn.qkv.weight', 'layers.3.blocks.0.attn.qkv.bias', 'layers.3.blocks.0.attn.proj.weight', 'layers.3.blocks.0.attn.proj.bias', 'layers.3.blocks.0.norm2.weight', 'layers.3.blocks.0.norm2.bias', 'layers.3.blocks.0.mlp.fc1.weight', 'layers.3.blocks.0.mlp.fc1.bias', 'layers.3.blocks.0.mlp.fc2.weight', 'layers.3.blocks.0.mlp.fc2.bias', 'layers.3.blocks.1.norm1.weight', 'layers.3.blocks.1.norm1.bias', 'layers.3.blocks.1.attn.qkv.weight', 'layers.3.blocks.1.attn.qkv.bias', 'layers.3.blocks.1.attn.proj.weight', 'layers.3.blocks.1.attn.proj.bias', 'layers.3.blocks.1.norm2.weight', 'layers.3.blocks.1.norm2.bias', 'layers.3.blocks.1.mlp.fc1.weight', 'layers.3.blocks.1.mlp.fc1.bias', 'layers.3.blocks.1.mlp.fc2.weight', 'layers.3.blocks.1.mlp.fc2.bias', 'norm.weight', 'norm.bias', 'head.weight', 'head.bias', 'layers.0.blocks.0.attn.relative_position_index', 'layers.0.blocks.1.attn.relative_position_index', 'layers.1.blocks.0.attn.relative_position_index', 'layers.1.blocks.1.attn.relative_position_index', 'layers.2.blocks.0.attn.relative_position_index', 'layers.2.blocks.1.attn.relative_position_index', 'layers.2.blocks.2.attn.relative_position_index', 'layers.2.blocks.3.attn.relative_position_index', 'layers.2.blocks.4.attn.relative_position_index', 'layers.2.blocks.5.attn.relative_position_index', 'layers.3.blocks.0.attn.relative_position_index', 'layers.3.blocks.1.attn.relative_position_index', 'layers.0.blocks.1.attn_mask', 'layers.1.blocks.1.attn_mask', 'layers.2.blocks.1.attn_mask', 'layers.2.blocks.3.attn_mask', 'layers.2.blocks.5.attn_mask', 'layers.0.blocks.0.attn.relative_position_bias_table', 'layers.0.blocks.1.attn.relative_position_bias_table', 'layers.1.blocks.0.attn.relative_position_bias_table', 'layers.1.blocks.1.attn.relative_position_bias_table', 'layers.2.blocks.0.attn.relative_position_bias_table', 'layers.2.blocks.1.attn.relative_position_bias_table', 'layers.2.blocks.2.attn.relative_position_bias_table', 'layers.2.blocks.3.attn.relative_position_bias_table', 'layers.2.blocks.4.attn.relative_position_bias_table', 'layers.2.blocks.5.attn.relative_position_bias_table', 'layers.3.blocks.0.attn.relative_position_bias_table', 'layers.3.blocks.1.attn.relative_position_bias_table', 'layers.0.downsample.reduction.weight', 'layers.1.downsample.reduction.weight', 'layers.2.downsample.reduction.weight'])"
      ]
     },
     "execution_count": 96,
     "metadata": {},
     "output_type": "execute_result"
    }
   ],
   "source": [
    "device = torch.device('cuda' if torch.cuda.is_available() else 'cpu')\n",
    "pretrained_dict = torch.load(pretrained_path, map_location=device)\n",
    "pretrained_dict['model'].keys()"
   ]
  },
  {
   "cell_type": "code",
   "execution_count": 97,
   "metadata": {},
   "outputs": [
    {
     "name": "stdout",
     "output_type": "stream",
     "text": [
      "patch_embed.proj.weight\n",
      "patch_embed.proj.bias\n",
      "patch_embed.norm.weight\n",
      "patch_embed.norm.bias\n",
      "layers.0.blocks.0.norm1.weight\n",
      "layers.0.blocks.0.norm1.bias\n",
      "layers.0.blocks.0.attn.qkv.weight\n",
      "layers.0.blocks.0.attn.qkv.bias\n",
      "layers.0.blocks.0.attn.proj.weight\n",
      "layers.0.blocks.0.attn.proj.bias\n",
      "layers.0.blocks.0.norm2.weight\n",
      "layers.0.blocks.0.norm2.bias\n",
      "layers.0.blocks.0.mlp.fc1.weight\n",
      "layers.0.blocks.0.mlp.fc1.bias\n",
      "layers.0.blocks.0.mlp.fc2.weight\n",
      "layers.0.blocks.0.mlp.fc2.bias\n",
      "layers.0.blocks.1.norm1.weight\n",
      "layers.0.blocks.1.norm1.bias\n",
      "layers.0.blocks.1.attn.qkv.weight\n",
      "layers.0.blocks.1.attn.qkv.bias\n",
      "layers.0.blocks.1.attn.proj.weight\n",
      "layers.0.blocks.1.attn.proj.bias\n",
      "layers.0.blocks.1.norm2.weight\n",
      "layers.0.blocks.1.norm2.bias\n",
      "layers.0.blocks.1.mlp.fc1.weight\n",
      "layers.0.blocks.1.mlp.fc1.bias\n",
      "layers.0.blocks.1.mlp.fc2.weight\n",
      "layers.0.blocks.1.mlp.fc2.bias\n",
      "layers.0.downsample.norm.weight\n",
      "layers.0.downsample.norm.bias\n",
      "layers.1.blocks.0.norm1.weight\n",
      "layers.1.blocks.0.norm1.bias\n",
      "layers.1.blocks.0.attn.qkv.weight\n",
      "layers.1.blocks.0.attn.qkv.bias\n",
      "layers.1.blocks.0.attn.proj.weight\n",
      "layers.1.blocks.0.attn.proj.bias\n",
      "layers.1.blocks.0.norm2.weight\n",
      "layers.1.blocks.0.norm2.bias\n",
      "layers.1.blocks.0.mlp.fc1.weight\n",
      "layers.1.blocks.0.mlp.fc1.bias\n",
      "layers.1.blocks.0.mlp.fc2.weight\n",
      "layers.1.blocks.0.mlp.fc2.bias\n",
      "layers.1.blocks.1.norm1.weight\n",
      "layers.1.blocks.1.norm1.bias\n",
      "layers.1.blocks.1.attn.qkv.weight\n",
      "layers.1.blocks.1.attn.qkv.bias\n",
      "layers.1.blocks.1.attn.proj.weight\n",
      "layers.1.blocks.1.attn.proj.bias\n",
      "layers.1.blocks.1.norm2.weight\n",
      "layers.1.blocks.1.norm2.bias\n",
      "layers.1.blocks.1.mlp.fc1.weight\n",
      "layers.1.blocks.1.mlp.fc1.bias\n",
      "layers.1.blocks.1.mlp.fc2.weight\n",
      "layers.1.blocks.1.mlp.fc2.bias\n",
      "layers.1.downsample.norm.weight\n",
      "layers.1.downsample.norm.bias\n",
      "layers.2.blocks.0.norm1.weight\n",
      "layers.2.blocks.0.norm1.bias\n",
      "layers.2.blocks.0.attn.qkv.weight\n",
      "layers.2.blocks.0.attn.qkv.bias\n",
      "layers.2.blocks.0.attn.proj.weight\n",
      "layers.2.blocks.0.attn.proj.bias\n",
      "layers.2.blocks.0.norm2.weight\n",
      "layers.2.blocks.0.norm2.bias\n",
      "layers.2.blocks.0.mlp.fc1.weight\n",
      "layers.2.blocks.0.mlp.fc1.bias\n",
      "layers.2.blocks.0.mlp.fc2.weight\n",
      "layers.2.blocks.0.mlp.fc2.bias\n",
      "layers.2.blocks.1.norm1.weight\n",
      "layers.2.blocks.1.norm1.bias\n",
      "layers.2.blocks.1.attn.qkv.weight\n",
      "layers.2.blocks.1.attn.qkv.bias\n",
      "layers.2.blocks.1.attn.proj.weight\n",
      "layers.2.blocks.1.attn.proj.bias\n",
      "layers.2.blocks.1.norm2.weight\n",
      "layers.2.blocks.1.norm2.bias\n",
      "layers.2.blocks.1.mlp.fc1.weight\n",
      "layers.2.blocks.1.mlp.fc1.bias\n",
      "layers.2.blocks.1.mlp.fc2.weight\n",
      "layers.2.blocks.1.mlp.fc2.bias\n",
      "layers.2.blocks.2.norm1.weight\n",
      "layers.2.blocks.2.norm1.bias\n",
      "layers.2.blocks.2.attn.qkv.weight\n",
      "layers.2.blocks.2.attn.qkv.bias\n",
      "layers.2.blocks.2.attn.proj.weight\n",
      "layers.2.blocks.2.attn.proj.bias\n",
      "layers.2.blocks.2.norm2.weight\n",
      "layers.2.blocks.2.norm2.bias\n",
      "layers.2.blocks.2.mlp.fc1.weight\n",
      "layers.2.blocks.2.mlp.fc1.bias\n",
      "layers.2.blocks.2.mlp.fc2.weight\n",
      "layers.2.blocks.2.mlp.fc2.bias\n",
      "layers.2.blocks.3.norm1.weight\n",
      "layers.2.blocks.3.norm1.bias\n",
      "layers.2.blocks.3.attn.qkv.weight\n",
      "layers.2.blocks.3.attn.qkv.bias\n",
      "layers.2.blocks.3.attn.proj.weight\n",
      "layers.2.blocks.3.attn.proj.bias\n",
      "layers.2.blocks.3.norm2.weight\n",
      "layers.2.blocks.3.norm2.bias\n",
      "layers.2.blocks.3.mlp.fc1.weight\n",
      "layers.2.blocks.3.mlp.fc1.bias\n",
      "layers.2.blocks.3.mlp.fc2.weight\n",
      "layers.2.blocks.3.mlp.fc2.bias\n",
      "layers.2.blocks.4.norm1.weight\n",
      "layers.2.blocks.4.norm1.bias\n",
      "layers.2.blocks.4.attn.qkv.weight\n",
      "layers.2.blocks.4.attn.qkv.bias\n",
      "layers.2.blocks.4.attn.proj.weight\n",
      "layers.2.blocks.4.attn.proj.bias\n",
      "layers.2.blocks.4.norm2.weight\n",
      "layers.2.blocks.4.norm2.bias\n",
      "layers.2.blocks.4.mlp.fc1.weight\n",
      "layers.2.blocks.4.mlp.fc1.bias\n",
      "layers.2.blocks.4.mlp.fc2.weight\n",
      "layers.2.blocks.4.mlp.fc2.bias\n",
      "layers.2.blocks.5.norm1.weight\n",
      "layers.2.blocks.5.norm1.bias\n",
      "layers.2.blocks.5.attn.qkv.weight\n",
      "layers.2.blocks.5.attn.qkv.bias\n",
      "layers.2.blocks.5.attn.proj.weight\n",
      "layers.2.blocks.5.attn.proj.bias\n",
      "layers.2.blocks.5.norm2.weight\n",
      "layers.2.blocks.5.norm2.bias\n",
      "layers.2.blocks.5.mlp.fc1.weight\n",
      "layers.2.blocks.5.mlp.fc1.bias\n",
      "layers.2.blocks.5.mlp.fc2.weight\n",
      "layers.2.blocks.5.mlp.fc2.bias\n",
      "layers.2.downsample.norm.weight\n",
      "layers.2.downsample.norm.bias\n",
      "layers.3.blocks.0.norm1.weight\n",
      "layers.3.blocks.0.norm1.bias\n",
      "layers.3.blocks.0.attn.qkv.weight\n",
      "layers.3.blocks.0.attn.qkv.bias\n",
      "layers.3.blocks.0.attn.proj.weight\n",
      "layers.3.blocks.0.attn.proj.bias\n",
      "layers.3.blocks.0.norm2.weight\n",
      "layers.3.blocks.0.norm2.bias\n",
      "layers.3.blocks.0.mlp.fc1.weight\n",
      "layers.3.blocks.0.mlp.fc1.bias\n",
      "layers.3.blocks.0.mlp.fc2.weight\n",
      "layers.3.blocks.0.mlp.fc2.bias\n",
      "layers.3.blocks.1.norm1.weight\n",
      "layers.3.blocks.1.norm1.bias\n",
      "layers.3.blocks.1.attn.qkv.weight\n",
      "layers.3.blocks.1.attn.qkv.bias\n",
      "layers.3.blocks.1.attn.proj.weight\n",
      "layers.3.blocks.1.attn.proj.bias\n",
      "layers.3.blocks.1.norm2.weight\n",
      "layers.3.blocks.1.norm2.bias\n",
      "layers.3.blocks.1.mlp.fc1.weight\n",
      "layers.3.blocks.1.mlp.fc1.bias\n",
      "layers.3.blocks.1.mlp.fc2.weight\n",
      "layers.3.blocks.1.mlp.fc2.bias\n",
      "norm.weight\n",
      "norm.bias\n",
      "head.weight\n",
      "head.bias\n",
      "layers.0.blocks.0.attn.relative_position_index\n",
      "layers.0.blocks.1.attn.relative_position_index\n",
      "layers.1.blocks.0.attn.relative_position_index\n",
      "layers.1.blocks.1.attn.relative_position_index\n",
      "layers.2.blocks.0.attn.relative_position_index\n",
      "layers.2.blocks.1.attn.relative_position_index\n",
      "layers.2.blocks.2.attn.relative_position_index\n",
      "layers.2.blocks.3.attn.relative_position_index\n",
      "layers.2.blocks.4.attn.relative_position_index\n",
      "layers.2.blocks.5.attn.relative_position_index\n",
      "layers.3.blocks.0.attn.relative_position_index\n",
      "layers.3.blocks.1.attn.relative_position_index\n",
      "layers.0.blocks.1.attn_mask\n",
      "layers.1.blocks.1.attn_mask\n",
      "layers.2.blocks.1.attn_mask\n",
      "layers.2.blocks.3.attn_mask\n",
      "layers.2.blocks.5.attn_mask\n",
      "layers.0.blocks.0.attn.relative_position_bias_table\n",
      "layers.0.blocks.1.attn.relative_position_bias_table\n",
      "layers.1.blocks.0.attn.relative_position_bias_table\n",
      "layers.1.blocks.1.attn.relative_position_bias_table\n",
      "layers.2.blocks.0.attn.relative_position_bias_table\n",
      "layers.2.blocks.1.attn.relative_position_bias_table\n",
      "layers.2.blocks.2.attn.relative_position_bias_table\n",
      "layers.2.blocks.3.attn.relative_position_bias_table\n",
      "layers.2.blocks.4.attn.relative_position_bias_table\n",
      "layers.2.blocks.5.attn.relative_position_bias_table\n",
      "layers.3.blocks.0.attn.relative_position_bias_table\n",
      "layers.3.blocks.1.attn.relative_position_bias_table\n",
      "layers.0.downsample.reduction.weight\n",
      "layers.1.downsample.reduction.weight\n",
      "layers.2.downsample.reduction.weight\n"
     ]
    }
   ],
   "source": [
    "for k in pretrained_dict['model'].keys():\n",
    "    print(k)"
   ]
  },
  {
   "cell_type": "code",
   "execution_count": 16,
   "metadata": {},
   "outputs": [],
   "source": [
    "from collections import OrderedDict\n",
    "\n",
    "def load_from(model, config):\n",
    "    pretrained_path = config.MODEL.PRETRAIN_CKPT\n",
    "    if pretrained_path is not None:\n",
    "        print(\"pretrained_path:{}\".format(pretrained_path))\n",
    "        device = torch.device('cuda' if torch.cuda.is_available() else 'cpu')\n",
    "        pretrained_dict = torch.load(pretrained_path, map_location=device)\n",
    "        if \"model\" not in pretrained_dict:\n",
    "            print(\"---start load pretrained modle by splitting---\")\n",
    "            pretrained_dict = {k[17:]:v for k,v in pretrained_dict.items()}\n",
    "            for k in list(pretrained_dict.keys()):\n",
    "                if \"output\" in k:\n",
    "                    print(\"delete key:{}\".format(k))\n",
    "                    del pretrained_dict[k]\n",
    "            msg = model.load_state_dict(pretrained_dict,strict=False)\n",
    "            # print(msg)\n",
    "            return\n",
    "        pretrained_dict = pretrained_dict['model']\n",
    "        print(\"---start load pretrained modle of swin encoder---\")\n",
    "\n",
    "        model_dict = model.state_dict()\n",
    "        \n",
    "        new_pretrained_dict = OrderedDict()\n",
    "        for k in pretrained_dict.keys():\n",
    "            new_key = 'swin_unet.' + k  # rename key\n",
    "            new_pretrained_dict[new_key] = pretrained_dict[k]\n",
    "\n",
    "        full_dict = copy.deepcopy(new_pretrained_dict)\n",
    "        for k, v in pretrained_dict.items():\n",
    "            if \"layers.\" in k:\n",
    "                current_layer_num = 3-int(k[7:8])\n",
    "                current_k = \"swin_unet.layers_up.\" + str(current_layer_num) + k[8:]\n",
    "                full_dict.update({current_k:v})\n",
    "        i = 0\n",
    "        matched = []\n",
    "        for k in list(full_dict.keys()):\n",
    "            if k in model_dict:\n",
    "                i += 1\n",
    "                matched.append(k)\n",
    "                if full_dict[k].shape != model_dict[k].shape:\n",
    "                    print(\"delete:{};shape pretrain:{};shape model:{}\".format(k,v.shape,model_dict[k].shape))\n",
    "                    del full_dict[k]\n",
    "        msg = model.load_state_dict(full_dict, strict=False)\n",
    "        #print(msg)\n",
    "        print(f\"Number of keys loaded: {len(model_dict) - len(msg.missing_keys)}\")\n",
    "        print(f\"Number of keys missing: {len(msg.missing_keys)}\")\n",
    "        print(f\"Missing keys: {msg.missing_keys}\")\n",
    "        print(f\"Number of unexpected keys: {len(msg.unexpected_keys)}\")\n",
    "        print(f\"Unexpected keys: {msg.unexpected_keys}\")\n",
    "    else:\n",
    "        print(\"none pretrain\")"
   ]
  },
  {
   "cell_type": "code",
   "execution_count": 17,
   "metadata": {},
   "outputs": [
    {
     "name": "stdout",
     "output_type": "stream",
     "text": [
      "pretrained_path:src/models/SwinUnet/networks/swin_tiny_patch4_window7_224.pth\n",
      "---start load pretrained modle of swin encoder---\n",
      "delete:swin_unet.patch_embed.proj.weight;shape pretrain:torch.Size([768, 1536]);shape model:torch.Size([96, 7, 4, 4])\n",
      "Number of keys loaded: 216\n",
      "Number of keys missing: 22\n",
      "Missing keys: ['swin_unet.patch_embed.proj.weight', 'swin_unet.layers_up.0.expand.weight', 'swin_unet.layers_up.0.norm.weight', 'swin_unet.layers_up.0.norm.bias', 'swin_unet.layers_up.1.upsample.expand.weight', 'swin_unet.layers_up.1.upsample.norm.weight', 'swin_unet.layers_up.1.upsample.norm.bias', 'swin_unet.layers_up.2.upsample.expand.weight', 'swin_unet.layers_up.2.upsample.norm.weight', 'swin_unet.layers_up.2.upsample.norm.bias', 'swin_unet.concat_back_dim.1.weight', 'swin_unet.concat_back_dim.1.bias', 'swin_unet.concat_back_dim.2.weight', 'swin_unet.concat_back_dim.2.bias', 'swin_unet.concat_back_dim.3.weight', 'swin_unet.concat_back_dim.3.bias', 'swin_unet.norm_up.weight', 'swin_unet.norm_up.bias', 'swin_unet.up.expand.weight', 'swin_unet.up.norm.weight', 'swin_unet.up.norm.bias', 'swin_unet.output.weight']\n",
      "Number of unexpected keys: 155\n",
      "Unexpected keys: ['swin_unet.head.weight', 'swin_unet.head.bias', 'swin_unet.layers.2.blocks.2.norm1.weight', 'swin_unet.layers.2.blocks.2.norm1.bias', 'swin_unet.layers.2.blocks.2.attn.qkv.weight', 'swin_unet.layers.2.blocks.2.attn.qkv.bias', 'swin_unet.layers.2.blocks.2.attn.proj.weight', 'swin_unet.layers.2.blocks.2.attn.proj.bias', 'swin_unet.layers.2.blocks.2.norm2.weight', 'swin_unet.layers.2.blocks.2.norm2.bias', 'swin_unet.layers.2.blocks.2.mlp.fc1.weight', 'swin_unet.layers.2.blocks.2.mlp.fc1.bias', 'swin_unet.layers.2.blocks.2.mlp.fc2.weight', 'swin_unet.layers.2.blocks.2.mlp.fc2.bias', 'swin_unet.layers.2.blocks.3.norm1.weight', 'swin_unet.layers.2.blocks.3.norm1.bias', 'swin_unet.layers.2.blocks.3.attn.qkv.weight', 'swin_unet.layers.2.blocks.3.attn.qkv.bias', 'swin_unet.layers.2.blocks.3.attn.proj.weight', 'swin_unet.layers.2.blocks.3.attn.proj.bias', 'swin_unet.layers.2.blocks.3.norm2.weight', 'swin_unet.layers.2.blocks.3.norm2.bias', 'swin_unet.layers.2.blocks.3.mlp.fc1.weight', 'swin_unet.layers.2.blocks.3.mlp.fc1.bias', 'swin_unet.layers.2.blocks.3.mlp.fc2.weight', 'swin_unet.layers.2.blocks.3.mlp.fc2.bias', 'swin_unet.layers.2.blocks.4.norm1.weight', 'swin_unet.layers.2.blocks.4.norm1.bias', 'swin_unet.layers.2.blocks.4.attn.qkv.weight', 'swin_unet.layers.2.blocks.4.attn.qkv.bias', 'swin_unet.layers.2.blocks.4.attn.proj.weight', 'swin_unet.layers.2.blocks.4.attn.proj.bias', 'swin_unet.layers.2.blocks.4.norm2.weight', 'swin_unet.layers.2.blocks.4.norm2.bias', 'swin_unet.layers.2.blocks.4.mlp.fc1.weight', 'swin_unet.layers.2.blocks.4.mlp.fc1.bias', 'swin_unet.layers.2.blocks.4.mlp.fc2.weight', 'swin_unet.layers.2.blocks.4.mlp.fc2.bias', 'swin_unet.layers.2.blocks.5.norm1.weight', 'swin_unet.layers.2.blocks.5.norm1.bias', 'swin_unet.layers.2.blocks.5.attn.qkv.weight', 'swin_unet.layers.2.blocks.5.attn.qkv.bias', 'swin_unet.layers.2.blocks.5.attn.proj.weight', 'swin_unet.layers.2.blocks.5.attn.proj.bias', 'swin_unet.layers.2.blocks.5.norm2.weight', 'swin_unet.layers.2.blocks.5.norm2.bias', 'swin_unet.layers.2.blocks.5.mlp.fc1.weight', 'swin_unet.layers.2.blocks.5.mlp.fc1.bias', 'swin_unet.layers.2.blocks.5.mlp.fc2.weight', 'swin_unet.layers.2.blocks.5.mlp.fc2.bias', 'swin_unet.layers.2.blocks.2.attn.relative_position_index', 'swin_unet.layers.2.blocks.3.attn.relative_position_index', 'swin_unet.layers.2.blocks.4.attn.relative_position_index', 'swin_unet.layers.2.blocks.5.attn.relative_position_index', 'swin_unet.layers.2.blocks.3.attn_mask', 'swin_unet.layers.2.blocks.5.attn_mask', 'swin_unet.layers.2.blocks.2.attn.relative_position_bias_table', 'swin_unet.layers.2.blocks.3.attn.relative_position_bias_table', 'swin_unet.layers.2.blocks.4.attn.relative_position_bias_table', 'swin_unet.layers.2.blocks.5.attn.relative_position_bias_table', 'swin_unet.layers_up.0.blocks.0.norm1.weight', 'swin_unet.layers_up.0.blocks.0.norm1.bias', 'swin_unet.layers_up.0.blocks.0.attn.qkv.weight', 'swin_unet.layers_up.0.blocks.0.attn.qkv.bias', 'swin_unet.layers_up.0.blocks.0.attn.proj.weight', 'swin_unet.layers_up.0.blocks.0.attn.proj.bias', 'swin_unet.layers_up.0.blocks.0.norm2.weight', 'swin_unet.layers_up.0.blocks.0.norm2.bias', 'swin_unet.layers_up.0.blocks.0.mlp.fc1.weight', 'swin_unet.layers_up.0.blocks.0.mlp.fc1.bias', 'swin_unet.layers_up.0.blocks.0.mlp.fc2.weight', 'swin_unet.layers_up.0.blocks.0.mlp.fc2.bias', 'swin_unet.layers_up.0.blocks.1.norm1.weight', 'swin_unet.layers_up.0.blocks.1.norm1.bias', 'swin_unet.layers_up.0.blocks.1.attn.qkv.weight', 'swin_unet.layers_up.0.blocks.1.attn.qkv.bias', 'swin_unet.layers_up.0.blocks.1.attn.proj.weight', 'swin_unet.layers_up.0.blocks.1.attn.proj.bias', 'swin_unet.layers_up.0.blocks.1.norm2.weight', 'swin_unet.layers_up.0.blocks.1.norm2.bias', 'swin_unet.layers_up.0.blocks.1.mlp.fc1.weight', 'swin_unet.layers_up.0.blocks.1.mlp.fc1.bias', 'swin_unet.layers_up.0.blocks.1.mlp.fc2.weight', 'swin_unet.layers_up.0.blocks.1.mlp.fc2.bias', 'swin_unet.layers_up.0.blocks.0.attn.relative_position_index', 'swin_unet.layers_up.0.blocks.1.attn.relative_position_index', 'swin_unet.layers_up.0.blocks.0.attn.relative_position_bias_table', 'swin_unet.layers_up.0.blocks.1.attn.relative_position_bias_table', 'swin_unet.layers_up.1.downsample.norm.weight', 'swin_unet.layers_up.1.downsample.norm.bias', 'swin_unet.layers_up.1.downsample.reduction.weight', 'swin_unet.layers_up.1.blocks.2.norm1.weight', 'swin_unet.layers_up.1.blocks.2.norm1.bias', 'swin_unet.layers_up.1.blocks.2.attn.qkv.weight', 'swin_unet.layers_up.1.blocks.2.attn.qkv.bias', 'swin_unet.layers_up.1.blocks.2.attn.proj.weight', 'swin_unet.layers_up.1.blocks.2.attn.proj.bias', 'swin_unet.layers_up.1.blocks.2.norm2.weight', 'swin_unet.layers_up.1.blocks.2.norm2.bias', 'swin_unet.layers_up.1.blocks.2.mlp.fc1.weight', 'swin_unet.layers_up.1.blocks.2.mlp.fc1.bias', 'swin_unet.layers_up.1.blocks.2.mlp.fc2.weight', 'swin_unet.layers_up.1.blocks.2.mlp.fc2.bias', 'swin_unet.layers_up.1.blocks.3.norm1.weight', 'swin_unet.layers_up.1.blocks.3.norm1.bias', 'swin_unet.layers_up.1.blocks.3.attn.qkv.weight', 'swin_unet.layers_up.1.blocks.3.attn.qkv.bias', 'swin_unet.layers_up.1.blocks.3.attn.proj.weight', 'swin_unet.layers_up.1.blocks.3.attn.proj.bias', 'swin_unet.layers_up.1.blocks.3.norm2.weight', 'swin_unet.layers_up.1.blocks.3.norm2.bias', 'swin_unet.layers_up.1.blocks.3.mlp.fc1.weight', 'swin_unet.layers_up.1.blocks.3.mlp.fc1.bias', 'swin_unet.layers_up.1.blocks.3.mlp.fc2.weight', 'swin_unet.layers_up.1.blocks.3.mlp.fc2.bias', 'swin_unet.layers_up.1.blocks.4.norm1.weight', 'swin_unet.layers_up.1.blocks.4.norm1.bias', 'swin_unet.layers_up.1.blocks.4.attn.qkv.weight', 'swin_unet.layers_up.1.blocks.4.attn.qkv.bias', 'swin_unet.layers_up.1.blocks.4.attn.proj.weight', 'swin_unet.layers_up.1.blocks.4.attn.proj.bias', 'swin_unet.layers_up.1.blocks.4.norm2.weight', 'swin_unet.layers_up.1.blocks.4.norm2.bias', 'swin_unet.layers_up.1.blocks.4.mlp.fc1.weight', 'swin_unet.layers_up.1.blocks.4.mlp.fc1.bias', 'swin_unet.layers_up.1.blocks.4.mlp.fc2.weight', 'swin_unet.layers_up.1.blocks.4.mlp.fc2.bias', 'swin_unet.layers_up.1.blocks.5.norm1.weight', 'swin_unet.layers_up.1.blocks.5.norm1.bias', 'swin_unet.layers_up.1.blocks.5.attn.qkv.weight', 'swin_unet.layers_up.1.blocks.5.attn.qkv.bias', 'swin_unet.layers_up.1.blocks.5.attn.proj.weight', 'swin_unet.layers_up.1.blocks.5.attn.proj.bias', 'swin_unet.layers_up.1.blocks.5.norm2.weight', 'swin_unet.layers_up.1.blocks.5.norm2.bias', 'swin_unet.layers_up.1.blocks.5.mlp.fc1.weight', 'swin_unet.layers_up.1.blocks.5.mlp.fc1.bias', 'swin_unet.layers_up.1.blocks.5.mlp.fc2.weight', 'swin_unet.layers_up.1.blocks.5.mlp.fc2.bias', 'swin_unet.layers_up.1.blocks.2.attn.relative_position_index', 'swin_unet.layers_up.1.blocks.3.attn.relative_position_index', 'swin_unet.layers_up.1.blocks.4.attn.relative_position_index', 'swin_unet.layers_up.1.blocks.5.attn.relative_position_index', 'swin_unet.layers_up.1.blocks.3.attn_mask', 'swin_unet.layers_up.1.blocks.5.attn_mask', 'swin_unet.layers_up.1.blocks.2.attn.relative_position_bias_table', 'swin_unet.layers_up.1.blocks.3.attn.relative_position_bias_table', 'swin_unet.layers_up.1.blocks.4.attn.relative_position_bias_table', 'swin_unet.layers_up.1.blocks.5.attn.relative_position_bias_table', 'swin_unet.layers_up.2.downsample.norm.weight', 'swin_unet.layers_up.2.downsample.norm.bias', 'swin_unet.layers_up.2.downsample.reduction.weight', 'swin_unet.layers_up.3.downsample.norm.weight', 'swin_unet.layers_up.3.downsample.norm.bias', 'swin_unet.layers_up.3.downsample.reduction.weight']\n"
     ]
    }
   ],
   "source": [
    "load_from(model, config)"
   ]
  },
  {
   "cell_type": "code",
   "execution_count": 34,
   "metadata": {},
   "outputs": [
    {
     "name": "stdout",
     "output_type": "stream",
     "text": [
      "190\n",
      "238\n",
      "0\n"
     ]
    }
   ],
   "source": [
    "\n",
    "# Get the keys from the model's state dict and the pretrained dict\n",
    "model_keys = set(model.state_dict().keys())\n",
    "pretrained_keys = set(pretrained_dict.keys())\n",
    "\n",
    "# Find missing keys in the model that are in the pretrained dict\n",
    "missing_in_model = pretrained_keys - model_keys\n",
    "print(len(missing_in_model))\n",
    "\n",
    "# Find missing keys in the pretrained dict that are in the model\n",
    "missing_in_pretrained = model_keys - pretrained_keys\n",
    "print(len(missing_in_pretrained))\n",
    "\n",
    "same_keys = pretrained_keys.intersection(model_keys)\n",
    "print(len(same_keys))\n"
   ]
  },
  {
   "cell_type": "code",
   "execution_count": null,
   "metadata": {},
   "outputs": [],
   "source": []
  },
  {
   "cell_type": "code",
   "execution_count": 28,
   "metadata": {},
   "outputs": [
    {
     "data": {
      "text/plain": [
       "{'layers.0.blocks.0.attn.proj.bias',\n",
       " 'layers.0.blocks.0.attn.proj.weight',\n",
       " 'layers.0.blocks.0.attn.qkv.bias',\n",
       " 'layers.0.blocks.0.attn.qkv.weight',\n",
       " 'layers.0.blocks.0.attn.relative_position_bias_table',\n",
       " 'layers.0.blocks.0.attn.relative_position_index',\n",
       " 'layers.0.blocks.0.mlp.fc1.bias',\n",
       " 'layers.0.blocks.0.mlp.fc1.weight',\n",
       " 'layers.0.blocks.0.mlp.fc2.bias',\n",
       " 'layers.0.blocks.0.mlp.fc2.weight',\n",
       " 'layers.0.blocks.0.norm1.bias',\n",
       " 'layers.0.blocks.0.norm1.weight',\n",
       " 'layers.0.blocks.0.norm2.bias',\n",
       " 'layers.0.blocks.0.norm2.weight',\n",
       " 'layers.0.blocks.1.attn.proj.bias',\n",
       " 'layers.0.blocks.1.attn.proj.weight',\n",
       " 'layers.0.blocks.1.attn.qkv.bias',\n",
       " 'layers.0.blocks.1.attn.qkv.weight',\n",
       " 'layers.0.blocks.1.attn.relative_position_bias_table',\n",
       " 'layers.0.blocks.1.attn.relative_position_index',\n",
       " 'layers.0.blocks.1.attn_mask',\n",
       " 'layers.0.blocks.1.mlp.fc1.bias',\n",
       " 'layers.0.blocks.1.mlp.fc1.weight',\n",
       " 'layers.0.blocks.1.mlp.fc2.bias',\n",
       " 'layers.0.blocks.1.mlp.fc2.weight',\n",
       " 'layers.0.blocks.1.norm1.bias',\n",
       " 'layers.0.blocks.1.norm1.weight',\n",
       " 'layers.0.blocks.1.norm2.bias',\n",
       " 'layers.0.blocks.1.norm2.weight',\n",
       " 'layers.0.downsample.norm.bias',\n",
       " 'layers.0.downsample.norm.weight',\n",
       " 'layers.0.downsample.reduction.weight',\n",
       " 'layers.1.blocks.0.attn.proj.bias',\n",
       " 'layers.1.blocks.0.attn.proj.weight',\n",
       " 'layers.1.blocks.0.attn.qkv.bias',\n",
       " 'layers.1.blocks.0.attn.qkv.weight',\n",
       " 'layers.1.blocks.0.attn.relative_position_bias_table',\n",
       " 'layers.1.blocks.0.attn.relative_position_index',\n",
       " 'layers.1.blocks.0.mlp.fc1.bias',\n",
       " 'layers.1.blocks.0.mlp.fc1.weight',\n",
       " 'layers.1.blocks.0.mlp.fc2.bias',\n",
       " 'layers.1.blocks.0.mlp.fc2.weight',\n",
       " 'layers.1.blocks.0.norm1.bias',\n",
       " 'layers.1.blocks.0.norm1.weight',\n",
       " 'layers.1.blocks.0.norm2.bias',\n",
       " 'layers.1.blocks.0.norm2.weight',\n",
       " 'layers.1.blocks.1.attn.proj.bias',\n",
       " 'layers.1.blocks.1.attn.proj.weight',\n",
       " 'layers.1.blocks.1.attn.qkv.bias',\n",
       " 'layers.1.blocks.1.attn.qkv.weight',\n",
       " 'layers.1.blocks.1.attn.relative_position_bias_table',\n",
       " 'layers.1.blocks.1.attn.relative_position_index',\n",
       " 'layers.1.blocks.1.attn_mask',\n",
       " 'layers.1.blocks.1.mlp.fc1.bias',\n",
       " 'layers.1.blocks.1.mlp.fc1.weight',\n",
       " 'layers.1.blocks.1.mlp.fc2.bias',\n",
       " 'layers.1.blocks.1.mlp.fc2.weight',\n",
       " 'layers.1.blocks.1.norm1.bias',\n",
       " 'layers.1.blocks.1.norm1.weight',\n",
       " 'layers.1.blocks.1.norm2.bias',\n",
       " 'layers.1.blocks.1.norm2.weight',\n",
       " 'layers.1.downsample.norm.bias',\n",
       " 'layers.1.downsample.norm.weight',\n",
       " 'layers.1.downsample.reduction.weight',\n",
       " 'layers.2.blocks.0.attn.proj.bias',\n",
       " 'layers.2.blocks.0.attn.proj.weight',\n",
       " 'layers.2.blocks.0.attn.qkv.bias',\n",
       " 'layers.2.blocks.0.attn.qkv.weight',\n",
       " 'layers.2.blocks.0.attn.relative_position_bias_table',\n",
       " 'layers.2.blocks.0.attn.relative_position_index',\n",
       " 'layers.2.blocks.0.mlp.fc1.bias',\n",
       " 'layers.2.blocks.0.mlp.fc1.weight',\n",
       " 'layers.2.blocks.0.mlp.fc2.bias',\n",
       " 'layers.2.blocks.0.mlp.fc2.weight',\n",
       " 'layers.2.blocks.0.norm1.bias',\n",
       " 'layers.2.blocks.0.norm1.weight',\n",
       " 'layers.2.blocks.0.norm2.bias',\n",
       " 'layers.2.blocks.0.norm2.weight',\n",
       " 'layers.2.blocks.1.attn.proj.bias',\n",
       " 'layers.2.blocks.1.attn.proj.weight',\n",
       " 'layers.2.blocks.1.attn.qkv.bias',\n",
       " 'layers.2.blocks.1.attn.qkv.weight',\n",
       " 'layers.2.blocks.1.attn.relative_position_bias_table',\n",
       " 'layers.2.blocks.1.attn.relative_position_index',\n",
       " 'layers.2.blocks.1.attn_mask',\n",
       " 'layers.2.blocks.1.mlp.fc1.bias',\n",
       " 'layers.2.blocks.1.mlp.fc1.weight',\n",
       " 'layers.2.blocks.1.mlp.fc2.bias',\n",
       " 'layers.2.blocks.1.mlp.fc2.weight',\n",
       " 'layers.2.blocks.1.norm1.bias',\n",
       " 'layers.2.blocks.1.norm1.weight',\n",
       " 'layers.2.blocks.1.norm2.bias',\n",
       " 'layers.2.blocks.1.norm2.weight',\n",
       " 'layers.2.downsample.norm.bias',\n",
       " 'layers.2.downsample.norm.weight',\n",
       " 'layers.2.downsample.reduction.weight',\n",
       " 'layers.3.blocks.0.attn.proj.bias',\n",
       " 'layers.3.blocks.0.attn.proj.weight',\n",
       " 'layers.3.blocks.0.attn.qkv.bias',\n",
       " 'layers.3.blocks.0.attn.qkv.weight',\n",
       " 'layers.3.blocks.0.attn.relative_position_bias_table',\n",
       " 'layers.3.blocks.0.attn.relative_position_index',\n",
       " 'layers.3.blocks.0.mlp.fc1.bias',\n",
       " 'layers.3.blocks.0.mlp.fc1.weight',\n",
       " 'layers.3.blocks.0.mlp.fc2.bias',\n",
       " 'layers.3.blocks.0.mlp.fc2.weight',\n",
       " 'layers.3.blocks.0.norm1.bias',\n",
       " 'layers.3.blocks.0.norm1.weight',\n",
       " 'layers.3.blocks.0.norm2.bias',\n",
       " 'layers.3.blocks.0.norm2.weight',\n",
       " 'layers.3.blocks.1.attn.proj.bias',\n",
       " 'layers.3.blocks.1.attn.proj.weight',\n",
       " 'layers.3.blocks.1.attn.qkv.bias',\n",
       " 'layers.3.blocks.1.attn.qkv.weight',\n",
       " 'layers.3.blocks.1.attn.relative_position_bias_table',\n",
       " 'layers.3.blocks.1.attn.relative_position_index',\n",
       " 'layers.3.blocks.1.mlp.fc1.bias',\n",
       " 'layers.3.blocks.1.mlp.fc1.weight',\n",
       " 'layers.3.blocks.1.mlp.fc2.bias',\n",
       " 'layers.3.blocks.1.mlp.fc2.weight',\n",
       " 'layers.3.blocks.1.norm1.bias',\n",
       " 'layers.3.blocks.1.norm1.weight',\n",
       " 'layers.3.blocks.1.norm2.bias',\n",
       " 'layers.3.blocks.1.norm2.weight',\n",
       " 'norm.bias',\n",
       " 'norm.weight',\n",
       " 'patch_embed.norm.bias',\n",
       " 'patch_embed.norm.weight',\n",
       " 'patch_embed.proj.bias',\n",
       " 'patch_embed.proj.weight'}"
      ]
     },
     "execution_count": 28,
     "metadata": {},
     "output_type": "execute_result"
    }
   ],
   "source": [
    "same_keys"
   ]
  },
  {
   "cell_type": "code",
   "execution_count": 4,
   "metadata": {},
   "outputs": [
    {
     "data": {
      "text/plain": [
       "torch.Size([96, 7, 4, 4])"
      ]
     },
     "execution_count": 4,
     "metadata": {},
     "output_type": "execute_result"
    }
   ],
   "source": [
    "model.swin_unet.patch_embed.proj.weight.shape"
   ]
  },
  {
   "cell_type": "code",
   "execution_count": 5,
   "metadata": {},
   "outputs": [
    {
     "data": {
      "text/plain": [
       "odict_keys(['patch_embed.proj.weight', 'patch_embed.proj.bias', 'patch_embed.norm.weight', 'patch_embed.norm.bias', 'layers.0.blocks.0.norm1.weight', 'layers.0.blocks.0.norm1.bias', 'layers.0.blocks.0.attn.qkv.weight', 'layers.0.blocks.0.attn.qkv.bias', 'layers.0.blocks.0.attn.proj.weight', 'layers.0.blocks.0.attn.proj.bias', 'layers.0.blocks.0.norm2.weight', 'layers.0.blocks.0.norm2.bias', 'layers.0.blocks.0.mlp.fc1.weight', 'layers.0.blocks.0.mlp.fc1.bias', 'layers.0.blocks.0.mlp.fc2.weight', 'layers.0.blocks.0.mlp.fc2.bias', 'layers.0.blocks.1.norm1.weight', 'layers.0.blocks.1.norm1.bias', 'layers.0.blocks.1.attn.qkv.weight', 'layers.0.blocks.1.attn.qkv.bias', 'layers.0.blocks.1.attn.proj.weight', 'layers.0.blocks.1.attn.proj.bias', 'layers.0.blocks.1.norm2.weight', 'layers.0.blocks.1.norm2.bias', 'layers.0.blocks.1.mlp.fc1.weight', 'layers.0.blocks.1.mlp.fc1.bias', 'layers.0.blocks.1.mlp.fc2.weight', 'layers.0.blocks.1.mlp.fc2.bias', 'layers.0.downsample.norm.weight', 'layers.0.downsample.norm.bias', 'layers.1.blocks.0.norm1.weight', 'layers.1.blocks.0.norm1.bias', 'layers.1.blocks.0.attn.qkv.weight', 'layers.1.blocks.0.attn.qkv.bias', 'layers.1.blocks.0.attn.proj.weight', 'layers.1.blocks.0.attn.proj.bias', 'layers.1.blocks.0.norm2.weight', 'layers.1.blocks.0.norm2.bias', 'layers.1.blocks.0.mlp.fc1.weight', 'layers.1.blocks.0.mlp.fc1.bias', 'layers.1.blocks.0.mlp.fc2.weight', 'layers.1.blocks.0.mlp.fc2.bias', 'layers.1.blocks.1.norm1.weight', 'layers.1.blocks.1.norm1.bias', 'layers.1.blocks.1.attn.qkv.weight', 'layers.1.blocks.1.attn.qkv.bias', 'layers.1.blocks.1.attn.proj.weight', 'layers.1.blocks.1.attn.proj.bias', 'layers.1.blocks.1.norm2.weight', 'layers.1.blocks.1.norm2.bias', 'layers.1.blocks.1.mlp.fc1.weight', 'layers.1.blocks.1.mlp.fc1.bias', 'layers.1.blocks.1.mlp.fc2.weight', 'layers.1.blocks.1.mlp.fc2.bias', 'layers.1.downsample.norm.weight', 'layers.1.downsample.norm.bias', 'layers.2.blocks.0.norm1.weight', 'layers.2.blocks.0.norm1.bias', 'layers.2.blocks.0.attn.qkv.weight', 'layers.2.blocks.0.attn.qkv.bias', 'layers.2.blocks.0.attn.proj.weight', 'layers.2.blocks.0.attn.proj.bias', 'layers.2.blocks.0.norm2.weight', 'layers.2.blocks.0.norm2.bias', 'layers.2.blocks.0.mlp.fc1.weight', 'layers.2.blocks.0.mlp.fc1.bias', 'layers.2.blocks.0.mlp.fc2.weight', 'layers.2.blocks.0.mlp.fc2.bias', 'layers.2.blocks.1.norm1.weight', 'layers.2.blocks.1.norm1.bias', 'layers.2.blocks.1.attn.qkv.weight', 'layers.2.blocks.1.attn.qkv.bias', 'layers.2.blocks.1.attn.proj.weight', 'layers.2.blocks.1.attn.proj.bias', 'layers.2.blocks.1.norm2.weight', 'layers.2.blocks.1.norm2.bias', 'layers.2.blocks.1.mlp.fc1.weight', 'layers.2.blocks.1.mlp.fc1.bias', 'layers.2.blocks.1.mlp.fc2.weight', 'layers.2.blocks.1.mlp.fc2.bias', 'layers.2.blocks.2.norm1.weight', 'layers.2.blocks.2.norm1.bias', 'layers.2.blocks.2.attn.qkv.weight', 'layers.2.blocks.2.attn.qkv.bias', 'layers.2.blocks.2.attn.proj.weight', 'layers.2.blocks.2.attn.proj.bias', 'layers.2.blocks.2.norm2.weight', 'layers.2.blocks.2.norm2.bias', 'layers.2.blocks.2.mlp.fc1.weight', 'layers.2.blocks.2.mlp.fc1.bias', 'layers.2.blocks.2.mlp.fc2.weight', 'layers.2.blocks.2.mlp.fc2.bias', 'layers.2.blocks.3.norm1.weight', 'layers.2.blocks.3.norm1.bias', 'layers.2.blocks.3.attn.qkv.weight', 'layers.2.blocks.3.attn.qkv.bias', 'layers.2.blocks.3.attn.proj.weight', 'layers.2.blocks.3.attn.proj.bias', 'layers.2.blocks.3.norm2.weight', 'layers.2.blocks.3.norm2.bias', 'layers.2.blocks.3.mlp.fc1.weight', 'layers.2.blocks.3.mlp.fc1.bias', 'layers.2.blocks.3.mlp.fc2.weight', 'layers.2.blocks.3.mlp.fc2.bias', 'layers.2.blocks.4.norm1.weight', 'layers.2.blocks.4.norm1.bias', 'layers.2.blocks.4.attn.qkv.weight', 'layers.2.blocks.4.attn.qkv.bias', 'layers.2.blocks.4.attn.proj.weight', 'layers.2.blocks.4.attn.proj.bias', 'layers.2.blocks.4.norm2.weight', 'layers.2.blocks.4.norm2.bias', 'layers.2.blocks.4.mlp.fc1.weight', 'layers.2.blocks.4.mlp.fc1.bias', 'layers.2.blocks.4.mlp.fc2.weight', 'layers.2.blocks.4.mlp.fc2.bias', 'layers.2.blocks.5.norm1.weight', 'layers.2.blocks.5.norm1.bias', 'layers.2.blocks.5.attn.qkv.weight', 'layers.2.blocks.5.attn.qkv.bias', 'layers.2.blocks.5.attn.proj.weight', 'layers.2.blocks.5.attn.proj.bias', 'layers.2.blocks.5.norm2.weight', 'layers.2.blocks.5.norm2.bias', 'layers.2.blocks.5.mlp.fc1.weight', 'layers.2.blocks.5.mlp.fc1.bias', 'layers.2.blocks.5.mlp.fc2.weight', 'layers.2.blocks.5.mlp.fc2.bias', 'layers.2.downsample.norm.weight', 'layers.2.downsample.norm.bias', 'layers.3.blocks.0.norm1.weight', 'layers.3.blocks.0.norm1.bias', 'layers.3.blocks.0.attn.qkv.weight', 'layers.3.blocks.0.attn.qkv.bias', 'layers.3.blocks.0.attn.proj.weight', 'layers.3.blocks.0.attn.proj.bias', 'layers.3.blocks.0.norm2.weight', 'layers.3.blocks.0.norm2.bias', 'layers.3.blocks.0.mlp.fc1.weight', 'layers.3.blocks.0.mlp.fc1.bias', 'layers.3.blocks.0.mlp.fc2.weight', 'layers.3.blocks.0.mlp.fc2.bias', 'layers.3.blocks.1.norm1.weight', 'layers.3.blocks.1.norm1.bias', 'layers.3.blocks.1.attn.qkv.weight', 'layers.3.blocks.1.attn.qkv.bias', 'layers.3.blocks.1.attn.proj.weight', 'layers.3.blocks.1.attn.proj.bias', 'layers.3.blocks.1.norm2.weight', 'layers.3.blocks.1.norm2.bias', 'layers.3.blocks.1.mlp.fc1.weight', 'layers.3.blocks.1.mlp.fc1.bias', 'layers.3.blocks.1.mlp.fc2.weight', 'layers.3.blocks.1.mlp.fc2.bias', 'norm.weight', 'norm.bias', 'head.weight', 'head.bias', 'layers.0.blocks.0.attn.relative_position_index', 'layers.0.blocks.1.attn.relative_position_index', 'layers.1.blocks.0.attn.relative_position_index', 'layers.1.blocks.1.attn.relative_position_index', 'layers.2.blocks.0.attn.relative_position_index', 'layers.2.blocks.1.attn.relative_position_index', 'layers.2.blocks.2.attn.relative_position_index', 'layers.2.blocks.3.attn.relative_position_index', 'layers.2.blocks.4.attn.relative_position_index', 'layers.2.blocks.5.attn.relative_position_index', 'layers.3.blocks.0.attn.relative_position_index', 'layers.3.blocks.1.attn.relative_position_index', 'layers.0.blocks.1.attn_mask', 'layers.1.blocks.1.attn_mask', 'layers.2.blocks.1.attn_mask', 'layers.2.blocks.3.attn_mask', 'layers.2.blocks.5.attn_mask', 'layers.0.blocks.0.attn.relative_position_bias_table', 'layers.0.blocks.1.attn.relative_position_bias_table', 'layers.1.blocks.0.attn.relative_position_bias_table', 'layers.1.blocks.1.attn.relative_position_bias_table', 'layers.2.blocks.0.attn.relative_position_bias_table', 'layers.2.blocks.1.attn.relative_position_bias_table', 'layers.2.blocks.2.attn.relative_position_bias_table', 'layers.2.blocks.3.attn.relative_position_bias_table', 'layers.2.blocks.4.attn.relative_position_bias_table', 'layers.2.blocks.5.attn.relative_position_bias_table', 'layers.3.blocks.0.attn.relative_position_bias_table', 'layers.3.blocks.1.attn.relative_position_bias_table', 'layers.0.downsample.reduction.weight', 'layers.1.downsample.reduction.weight', 'layers.2.downsample.reduction.weight'])"
      ]
     },
     "execution_count": 5,
     "metadata": {},
     "output_type": "execute_result"
    }
   ],
   "source": [
    "pretrained_path = 'src/models/SwinUnet/networks/swin_tiny_patch4_window7_224.pth'\n",
    "device = torch.device('cuda' if torch.cuda.is_available() else 'cpu')\n",
    "pretrained_dict = torch.load(pretrained_path, map_location=device)\n",
    "pretrained_dict = pretrained_dict['model']\n",
    "pretrained_dict.keys()"
   ]
  },
  {
   "cell_type": "code",
   "execution_count": 6,
   "metadata": {},
   "outputs": [
    {
     "name": "stdout",
     "output_type": "stream",
     "text": [
      "_IncompatibleKeys(missing_keys=['swin_unet.patch_embed.proj.weight', 'swin_unet.patch_embed.proj.bias', 'swin_unet.patch_embed.norm.weight', 'swin_unet.patch_embed.norm.bias', 'swin_unet.layers.0.blocks.0.norm1.weight', 'swin_unet.layers.0.blocks.0.norm1.bias', 'swin_unet.layers.0.blocks.0.attn.relative_position_bias_table', 'swin_unet.layers.0.blocks.0.attn.relative_position_index', 'swin_unet.layers.0.blocks.0.attn.qkv.weight', 'swin_unet.layers.0.blocks.0.attn.qkv.bias', 'swin_unet.layers.0.blocks.0.attn.proj.weight', 'swin_unet.layers.0.blocks.0.attn.proj.bias', 'swin_unet.layers.0.blocks.0.norm2.weight', 'swin_unet.layers.0.blocks.0.norm2.bias', 'swin_unet.layers.0.blocks.0.mlp.fc1.weight', 'swin_unet.layers.0.blocks.0.mlp.fc1.bias', 'swin_unet.layers.0.blocks.0.mlp.fc2.weight', 'swin_unet.layers.0.blocks.0.mlp.fc2.bias', 'swin_unet.layers.0.blocks.1.attn_mask', 'swin_unet.layers.0.blocks.1.norm1.weight', 'swin_unet.layers.0.blocks.1.norm1.bias', 'swin_unet.layers.0.blocks.1.attn.relative_position_bias_table', 'swin_unet.layers.0.blocks.1.attn.relative_position_index', 'swin_unet.layers.0.blocks.1.attn.qkv.weight', 'swin_unet.layers.0.blocks.1.attn.qkv.bias', 'swin_unet.layers.0.blocks.1.attn.proj.weight', 'swin_unet.layers.0.blocks.1.attn.proj.bias', 'swin_unet.layers.0.blocks.1.norm2.weight', 'swin_unet.layers.0.blocks.1.norm2.bias', 'swin_unet.layers.0.blocks.1.mlp.fc1.weight', 'swin_unet.layers.0.blocks.1.mlp.fc1.bias', 'swin_unet.layers.0.blocks.1.mlp.fc2.weight', 'swin_unet.layers.0.blocks.1.mlp.fc2.bias', 'swin_unet.layers.0.downsample.reduction.weight', 'swin_unet.layers.0.downsample.norm.weight', 'swin_unet.layers.0.downsample.norm.bias', 'swin_unet.layers.1.blocks.0.norm1.weight', 'swin_unet.layers.1.blocks.0.norm1.bias', 'swin_unet.layers.1.blocks.0.attn.relative_position_bias_table', 'swin_unet.layers.1.blocks.0.attn.relative_position_index', 'swin_unet.layers.1.blocks.0.attn.qkv.weight', 'swin_unet.layers.1.blocks.0.attn.qkv.bias', 'swin_unet.layers.1.blocks.0.attn.proj.weight', 'swin_unet.layers.1.blocks.0.attn.proj.bias', 'swin_unet.layers.1.blocks.0.norm2.weight', 'swin_unet.layers.1.blocks.0.norm2.bias', 'swin_unet.layers.1.blocks.0.mlp.fc1.weight', 'swin_unet.layers.1.blocks.0.mlp.fc1.bias', 'swin_unet.layers.1.blocks.0.mlp.fc2.weight', 'swin_unet.layers.1.blocks.0.mlp.fc2.bias', 'swin_unet.layers.1.blocks.1.attn_mask', 'swin_unet.layers.1.blocks.1.norm1.weight', 'swin_unet.layers.1.blocks.1.norm1.bias', 'swin_unet.layers.1.blocks.1.attn.relative_position_bias_table', 'swin_unet.layers.1.blocks.1.attn.relative_position_index', 'swin_unet.layers.1.blocks.1.attn.qkv.weight', 'swin_unet.layers.1.blocks.1.attn.qkv.bias', 'swin_unet.layers.1.blocks.1.attn.proj.weight', 'swin_unet.layers.1.blocks.1.attn.proj.bias', 'swin_unet.layers.1.blocks.1.norm2.weight', 'swin_unet.layers.1.blocks.1.norm2.bias', 'swin_unet.layers.1.blocks.1.mlp.fc1.weight', 'swin_unet.layers.1.blocks.1.mlp.fc1.bias', 'swin_unet.layers.1.blocks.1.mlp.fc2.weight', 'swin_unet.layers.1.blocks.1.mlp.fc2.bias', 'swin_unet.layers.1.downsample.reduction.weight', 'swin_unet.layers.1.downsample.norm.weight', 'swin_unet.layers.1.downsample.norm.bias', 'swin_unet.layers.2.blocks.0.norm1.weight', 'swin_unet.layers.2.blocks.0.norm1.bias', 'swin_unet.layers.2.blocks.0.attn.relative_position_bias_table', 'swin_unet.layers.2.blocks.0.attn.relative_position_index', 'swin_unet.layers.2.blocks.0.attn.qkv.weight', 'swin_unet.layers.2.blocks.0.attn.qkv.bias', 'swin_unet.layers.2.blocks.0.attn.proj.weight', 'swin_unet.layers.2.blocks.0.attn.proj.bias', 'swin_unet.layers.2.blocks.0.norm2.weight', 'swin_unet.layers.2.blocks.0.norm2.bias', 'swin_unet.layers.2.blocks.0.mlp.fc1.weight', 'swin_unet.layers.2.blocks.0.mlp.fc1.bias', 'swin_unet.layers.2.blocks.0.mlp.fc2.weight', 'swin_unet.layers.2.blocks.0.mlp.fc2.bias', 'swin_unet.layers.2.blocks.1.attn_mask', 'swin_unet.layers.2.blocks.1.norm1.weight', 'swin_unet.layers.2.blocks.1.norm1.bias', 'swin_unet.layers.2.blocks.1.attn.relative_position_bias_table', 'swin_unet.layers.2.blocks.1.attn.relative_position_index', 'swin_unet.layers.2.blocks.1.attn.qkv.weight', 'swin_unet.layers.2.blocks.1.attn.qkv.bias', 'swin_unet.layers.2.blocks.1.attn.proj.weight', 'swin_unet.layers.2.blocks.1.attn.proj.bias', 'swin_unet.layers.2.blocks.1.norm2.weight', 'swin_unet.layers.2.blocks.1.norm2.bias', 'swin_unet.layers.2.blocks.1.mlp.fc1.weight', 'swin_unet.layers.2.blocks.1.mlp.fc1.bias', 'swin_unet.layers.2.blocks.1.mlp.fc2.weight', 'swin_unet.layers.2.blocks.1.mlp.fc2.bias', 'swin_unet.layers.2.blocks.2.norm1.weight', 'swin_unet.layers.2.blocks.2.norm1.bias', 'swin_unet.layers.2.blocks.2.attn.relative_position_bias_table', 'swin_unet.layers.2.blocks.2.attn.relative_position_index', 'swin_unet.layers.2.blocks.2.attn.qkv.weight', 'swin_unet.layers.2.blocks.2.attn.qkv.bias', 'swin_unet.layers.2.blocks.2.attn.proj.weight', 'swin_unet.layers.2.blocks.2.attn.proj.bias', 'swin_unet.layers.2.blocks.2.norm2.weight', 'swin_unet.layers.2.blocks.2.norm2.bias', 'swin_unet.layers.2.blocks.2.mlp.fc1.weight', 'swin_unet.layers.2.blocks.2.mlp.fc1.bias', 'swin_unet.layers.2.blocks.2.mlp.fc2.weight', 'swin_unet.layers.2.blocks.2.mlp.fc2.bias', 'swin_unet.layers.2.blocks.3.attn_mask', 'swin_unet.layers.2.blocks.3.norm1.weight', 'swin_unet.layers.2.blocks.3.norm1.bias', 'swin_unet.layers.2.blocks.3.attn.relative_position_bias_table', 'swin_unet.layers.2.blocks.3.attn.relative_position_index', 'swin_unet.layers.2.blocks.3.attn.qkv.weight', 'swin_unet.layers.2.blocks.3.attn.qkv.bias', 'swin_unet.layers.2.blocks.3.attn.proj.weight', 'swin_unet.layers.2.blocks.3.attn.proj.bias', 'swin_unet.layers.2.blocks.3.norm2.weight', 'swin_unet.layers.2.blocks.3.norm2.bias', 'swin_unet.layers.2.blocks.3.mlp.fc1.weight', 'swin_unet.layers.2.blocks.3.mlp.fc1.bias', 'swin_unet.layers.2.blocks.3.mlp.fc2.weight', 'swin_unet.layers.2.blocks.3.mlp.fc2.bias', 'swin_unet.layers.2.blocks.4.norm1.weight', 'swin_unet.layers.2.blocks.4.norm1.bias', 'swin_unet.layers.2.blocks.4.attn.relative_position_bias_table', 'swin_unet.layers.2.blocks.4.attn.relative_position_index', 'swin_unet.layers.2.blocks.4.attn.qkv.weight', 'swin_unet.layers.2.blocks.4.attn.qkv.bias', 'swin_unet.layers.2.blocks.4.attn.proj.weight', 'swin_unet.layers.2.blocks.4.attn.proj.bias', 'swin_unet.layers.2.blocks.4.norm2.weight', 'swin_unet.layers.2.blocks.4.norm2.bias', 'swin_unet.layers.2.blocks.4.mlp.fc1.weight', 'swin_unet.layers.2.blocks.4.mlp.fc1.bias', 'swin_unet.layers.2.blocks.4.mlp.fc2.weight', 'swin_unet.layers.2.blocks.4.mlp.fc2.bias', 'swin_unet.layers.2.blocks.5.attn_mask', 'swin_unet.layers.2.blocks.5.norm1.weight', 'swin_unet.layers.2.blocks.5.norm1.bias', 'swin_unet.layers.2.blocks.5.attn.relative_position_bias_table', 'swin_unet.layers.2.blocks.5.attn.relative_position_index', 'swin_unet.layers.2.blocks.5.attn.qkv.weight', 'swin_unet.layers.2.blocks.5.attn.qkv.bias', 'swin_unet.layers.2.blocks.5.attn.proj.weight', 'swin_unet.layers.2.blocks.5.attn.proj.bias', 'swin_unet.layers.2.blocks.5.norm2.weight', 'swin_unet.layers.2.blocks.5.norm2.bias', 'swin_unet.layers.2.blocks.5.mlp.fc1.weight', 'swin_unet.layers.2.blocks.5.mlp.fc1.bias', 'swin_unet.layers.2.blocks.5.mlp.fc2.weight', 'swin_unet.layers.2.blocks.5.mlp.fc2.bias', 'swin_unet.layers.2.downsample.reduction.weight', 'swin_unet.layers.2.downsample.norm.weight', 'swin_unet.layers.2.downsample.norm.bias', 'swin_unet.layers.3.blocks.0.norm1.weight', 'swin_unet.layers.3.blocks.0.norm1.bias', 'swin_unet.layers.3.blocks.0.attn.relative_position_bias_table', 'swin_unet.layers.3.blocks.0.attn.relative_position_index', 'swin_unet.layers.3.blocks.0.attn.qkv.weight', 'swin_unet.layers.3.blocks.0.attn.qkv.bias', 'swin_unet.layers.3.blocks.0.attn.proj.weight', 'swin_unet.layers.3.blocks.0.attn.proj.bias', 'swin_unet.layers.3.blocks.0.norm2.weight', 'swin_unet.layers.3.blocks.0.norm2.bias', 'swin_unet.layers.3.blocks.0.mlp.fc1.weight', 'swin_unet.layers.3.blocks.0.mlp.fc1.bias', 'swin_unet.layers.3.blocks.0.mlp.fc2.weight', 'swin_unet.layers.3.blocks.0.mlp.fc2.bias', 'swin_unet.layers.3.blocks.1.norm1.weight', 'swin_unet.layers.3.blocks.1.norm1.bias', 'swin_unet.layers.3.blocks.1.attn.relative_position_bias_table', 'swin_unet.layers.3.blocks.1.attn.relative_position_index', 'swin_unet.layers.3.blocks.1.attn.qkv.weight', 'swin_unet.layers.3.blocks.1.attn.qkv.bias', 'swin_unet.layers.3.blocks.1.attn.proj.weight', 'swin_unet.layers.3.blocks.1.attn.proj.bias', 'swin_unet.layers.3.blocks.1.norm2.weight', 'swin_unet.layers.3.blocks.1.norm2.bias', 'swin_unet.layers.3.blocks.1.mlp.fc1.weight', 'swin_unet.layers.3.blocks.1.mlp.fc1.bias', 'swin_unet.layers.3.blocks.1.mlp.fc2.weight', 'swin_unet.layers.3.blocks.1.mlp.fc2.bias', 'swin_unet.layers_up.0.expand.weight', 'swin_unet.layers_up.0.norm.weight', 'swin_unet.layers_up.0.norm.bias', 'swin_unet.layers_up.1.blocks.0.norm1.weight', 'swin_unet.layers_up.1.blocks.0.norm1.bias', 'swin_unet.layers_up.1.blocks.0.attn.relative_position_bias_table', 'swin_unet.layers_up.1.blocks.0.attn.relative_position_index', 'swin_unet.layers_up.1.blocks.0.attn.qkv.weight', 'swin_unet.layers_up.1.blocks.0.attn.qkv.bias', 'swin_unet.layers_up.1.blocks.0.attn.proj.weight', 'swin_unet.layers_up.1.blocks.0.attn.proj.bias', 'swin_unet.layers_up.1.blocks.0.norm2.weight', 'swin_unet.layers_up.1.blocks.0.norm2.bias', 'swin_unet.layers_up.1.blocks.0.mlp.fc1.weight', 'swin_unet.layers_up.1.blocks.0.mlp.fc1.bias', 'swin_unet.layers_up.1.blocks.0.mlp.fc2.weight', 'swin_unet.layers_up.1.blocks.0.mlp.fc2.bias', 'swin_unet.layers_up.1.blocks.1.attn_mask', 'swin_unet.layers_up.1.blocks.1.norm1.weight', 'swin_unet.layers_up.1.blocks.1.norm1.bias', 'swin_unet.layers_up.1.blocks.1.attn.relative_position_bias_table', 'swin_unet.layers_up.1.blocks.1.attn.relative_position_index', 'swin_unet.layers_up.1.blocks.1.attn.qkv.weight', 'swin_unet.layers_up.1.blocks.1.attn.qkv.bias', 'swin_unet.layers_up.1.blocks.1.attn.proj.weight', 'swin_unet.layers_up.1.blocks.1.attn.proj.bias', 'swin_unet.layers_up.1.blocks.1.norm2.weight', 'swin_unet.layers_up.1.blocks.1.norm2.bias', 'swin_unet.layers_up.1.blocks.1.mlp.fc1.weight', 'swin_unet.layers_up.1.blocks.1.mlp.fc1.bias', 'swin_unet.layers_up.1.blocks.1.mlp.fc2.weight', 'swin_unet.layers_up.1.blocks.1.mlp.fc2.bias', 'swin_unet.layers_up.1.blocks.2.norm1.weight', 'swin_unet.layers_up.1.blocks.2.norm1.bias', 'swin_unet.layers_up.1.blocks.2.attn.relative_position_bias_table', 'swin_unet.layers_up.1.blocks.2.attn.relative_position_index', 'swin_unet.layers_up.1.blocks.2.attn.qkv.weight', 'swin_unet.layers_up.1.blocks.2.attn.qkv.bias', 'swin_unet.layers_up.1.blocks.2.attn.proj.weight', 'swin_unet.layers_up.1.blocks.2.attn.proj.bias', 'swin_unet.layers_up.1.blocks.2.norm2.weight', 'swin_unet.layers_up.1.blocks.2.norm2.bias', 'swin_unet.layers_up.1.blocks.2.mlp.fc1.weight', 'swin_unet.layers_up.1.blocks.2.mlp.fc1.bias', 'swin_unet.layers_up.1.blocks.2.mlp.fc2.weight', 'swin_unet.layers_up.1.blocks.2.mlp.fc2.bias', 'swin_unet.layers_up.1.blocks.3.attn_mask', 'swin_unet.layers_up.1.blocks.3.norm1.weight', 'swin_unet.layers_up.1.blocks.3.norm1.bias', 'swin_unet.layers_up.1.blocks.3.attn.relative_position_bias_table', 'swin_unet.layers_up.1.blocks.3.attn.relative_position_index', 'swin_unet.layers_up.1.blocks.3.attn.qkv.weight', 'swin_unet.layers_up.1.blocks.3.attn.qkv.bias', 'swin_unet.layers_up.1.blocks.3.attn.proj.weight', 'swin_unet.layers_up.1.blocks.3.attn.proj.bias', 'swin_unet.layers_up.1.blocks.3.norm2.weight', 'swin_unet.layers_up.1.blocks.3.norm2.bias', 'swin_unet.layers_up.1.blocks.3.mlp.fc1.weight', 'swin_unet.layers_up.1.blocks.3.mlp.fc1.bias', 'swin_unet.layers_up.1.blocks.3.mlp.fc2.weight', 'swin_unet.layers_up.1.blocks.3.mlp.fc2.bias', 'swin_unet.layers_up.1.blocks.4.norm1.weight', 'swin_unet.layers_up.1.blocks.4.norm1.bias', 'swin_unet.layers_up.1.blocks.4.attn.relative_position_bias_table', 'swin_unet.layers_up.1.blocks.4.attn.relative_position_index', 'swin_unet.layers_up.1.blocks.4.attn.qkv.weight', 'swin_unet.layers_up.1.blocks.4.attn.qkv.bias', 'swin_unet.layers_up.1.blocks.4.attn.proj.weight', 'swin_unet.layers_up.1.blocks.4.attn.proj.bias', 'swin_unet.layers_up.1.blocks.4.norm2.weight', 'swin_unet.layers_up.1.blocks.4.norm2.bias', 'swin_unet.layers_up.1.blocks.4.mlp.fc1.weight', 'swin_unet.layers_up.1.blocks.4.mlp.fc1.bias', 'swin_unet.layers_up.1.blocks.4.mlp.fc2.weight', 'swin_unet.layers_up.1.blocks.4.mlp.fc2.bias', 'swin_unet.layers_up.1.blocks.5.attn_mask', 'swin_unet.layers_up.1.blocks.5.norm1.weight', 'swin_unet.layers_up.1.blocks.5.norm1.bias', 'swin_unet.layers_up.1.blocks.5.attn.relative_position_bias_table', 'swin_unet.layers_up.1.blocks.5.attn.relative_position_index', 'swin_unet.layers_up.1.blocks.5.attn.qkv.weight', 'swin_unet.layers_up.1.blocks.5.attn.qkv.bias', 'swin_unet.layers_up.1.blocks.5.attn.proj.weight', 'swin_unet.layers_up.1.blocks.5.attn.proj.bias', 'swin_unet.layers_up.1.blocks.5.norm2.weight', 'swin_unet.layers_up.1.blocks.5.norm2.bias', 'swin_unet.layers_up.1.blocks.5.mlp.fc1.weight', 'swin_unet.layers_up.1.blocks.5.mlp.fc1.bias', 'swin_unet.layers_up.1.blocks.5.mlp.fc2.weight', 'swin_unet.layers_up.1.blocks.5.mlp.fc2.bias', 'swin_unet.layers_up.1.upsample.expand.weight', 'swin_unet.layers_up.1.upsample.norm.weight', 'swin_unet.layers_up.1.upsample.norm.bias', 'swin_unet.layers_up.2.blocks.0.norm1.weight', 'swin_unet.layers_up.2.blocks.0.norm1.bias', 'swin_unet.layers_up.2.blocks.0.attn.relative_position_bias_table', 'swin_unet.layers_up.2.blocks.0.attn.relative_position_index', 'swin_unet.layers_up.2.blocks.0.attn.qkv.weight', 'swin_unet.layers_up.2.blocks.0.attn.qkv.bias', 'swin_unet.layers_up.2.blocks.0.attn.proj.weight', 'swin_unet.layers_up.2.blocks.0.attn.proj.bias', 'swin_unet.layers_up.2.blocks.0.norm2.weight', 'swin_unet.layers_up.2.blocks.0.norm2.bias', 'swin_unet.layers_up.2.blocks.0.mlp.fc1.weight', 'swin_unet.layers_up.2.blocks.0.mlp.fc1.bias', 'swin_unet.layers_up.2.blocks.0.mlp.fc2.weight', 'swin_unet.layers_up.2.blocks.0.mlp.fc2.bias', 'swin_unet.layers_up.2.blocks.1.attn_mask', 'swin_unet.layers_up.2.blocks.1.norm1.weight', 'swin_unet.layers_up.2.blocks.1.norm1.bias', 'swin_unet.layers_up.2.blocks.1.attn.relative_position_bias_table', 'swin_unet.layers_up.2.blocks.1.attn.relative_position_index', 'swin_unet.layers_up.2.blocks.1.attn.qkv.weight', 'swin_unet.layers_up.2.blocks.1.attn.qkv.bias', 'swin_unet.layers_up.2.blocks.1.attn.proj.weight', 'swin_unet.layers_up.2.blocks.1.attn.proj.bias', 'swin_unet.layers_up.2.blocks.1.norm2.weight', 'swin_unet.layers_up.2.blocks.1.norm2.bias', 'swin_unet.layers_up.2.blocks.1.mlp.fc1.weight', 'swin_unet.layers_up.2.blocks.1.mlp.fc1.bias', 'swin_unet.layers_up.2.blocks.1.mlp.fc2.weight', 'swin_unet.layers_up.2.blocks.1.mlp.fc2.bias', 'swin_unet.layers_up.2.upsample.expand.weight', 'swin_unet.layers_up.2.upsample.norm.weight', 'swin_unet.layers_up.2.upsample.norm.bias', 'swin_unet.layers_up.3.blocks.0.norm1.weight', 'swin_unet.layers_up.3.blocks.0.norm1.bias', 'swin_unet.layers_up.3.blocks.0.attn.relative_position_bias_table', 'swin_unet.layers_up.3.blocks.0.attn.relative_position_index', 'swin_unet.layers_up.3.blocks.0.attn.qkv.weight', 'swin_unet.layers_up.3.blocks.0.attn.qkv.bias', 'swin_unet.layers_up.3.blocks.0.attn.proj.weight', 'swin_unet.layers_up.3.blocks.0.attn.proj.bias', 'swin_unet.layers_up.3.blocks.0.norm2.weight', 'swin_unet.layers_up.3.blocks.0.norm2.bias', 'swin_unet.layers_up.3.blocks.0.mlp.fc1.weight', 'swin_unet.layers_up.3.blocks.0.mlp.fc1.bias', 'swin_unet.layers_up.3.blocks.0.mlp.fc2.weight', 'swin_unet.layers_up.3.blocks.0.mlp.fc2.bias', 'swin_unet.layers_up.3.blocks.1.attn_mask', 'swin_unet.layers_up.3.blocks.1.norm1.weight', 'swin_unet.layers_up.3.blocks.1.norm1.bias', 'swin_unet.layers_up.3.blocks.1.attn.relative_position_bias_table', 'swin_unet.layers_up.3.blocks.1.attn.relative_position_index', 'swin_unet.layers_up.3.blocks.1.attn.qkv.weight', 'swin_unet.layers_up.3.blocks.1.attn.qkv.bias', 'swin_unet.layers_up.3.blocks.1.attn.proj.weight', 'swin_unet.layers_up.3.blocks.1.attn.proj.bias', 'swin_unet.layers_up.3.blocks.1.norm2.weight', 'swin_unet.layers_up.3.blocks.1.norm2.bias', 'swin_unet.layers_up.3.blocks.1.mlp.fc1.weight', 'swin_unet.layers_up.3.blocks.1.mlp.fc1.bias', 'swin_unet.layers_up.3.blocks.1.mlp.fc2.weight', 'swin_unet.layers_up.3.blocks.1.mlp.fc2.bias', 'swin_unet.concat_back_dim.1.weight', 'swin_unet.concat_back_dim.1.bias', 'swin_unet.concat_back_dim.2.weight', 'swin_unet.concat_back_dim.2.bias', 'swin_unet.concat_back_dim.3.weight', 'swin_unet.concat_back_dim.3.bias', 'swin_unet.norm.weight', 'swin_unet.norm.bias', 'swin_unet.norm_up.weight', 'swin_unet.norm_up.bias', 'swin_unet.up.expand.weight', 'swin_unet.up.norm.weight', 'swin_unet.up.norm.bias', 'swin_unet.output.weight'], unexpected_keys=['patch_embed.proj.weight', 'patch_embed.proj.bias', 'patch_embed.norm.weight', 'patch_embed.norm.bias', 'layers.0.blocks.0.norm1.weight', 'layers.0.blocks.0.norm1.bias', 'layers.0.blocks.0.attn.qkv.weight', 'layers.0.blocks.0.attn.qkv.bias', 'layers.0.blocks.0.attn.proj.weight', 'layers.0.blocks.0.attn.proj.bias', 'layers.0.blocks.0.norm2.weight', 'layers.0.blocks.0.norm2.bias', 'layers.0.blocks.0.mlp.fc1.weight', 'layers.0.blocks.0.mlp.fc1.bias', 'layers.0.blocks.0.mlp.fc2.weight', 'layers.0.blocks.0.mlp.fc2.bias', 'layers.0.blocks.1.norm1.weight', 'layers.0.blocks.1.norm1.bias', 'layers.0.blocks.1.attn.qkv.weight', 'layers.0.blocks.1.attn.qkv.bias', 'layers.0.blocks.1.attn.proj.weight', 'layers.0.blocks.1.attn.proj.bias', 'layers.0.blocks.1.norm2.weight', 'layers.0.blocks.1.norm2.bias', 'layers.0.blocks.1.mlp.fc1.weight', 'layers.0.blocks.1.mlp.fc1.bias', 'layers.0.blocks.1.mlp.fc2.weight', 'layers.0.blocks.1.mlp.fc2.bias', 'layers.0.downsample.norm.weight', 'layers.0.downsample.norm.bias', 'layers.1.blocks.0.norm1.weight', 'layers.1.blocks.0.norm1.bias', 'layers.1.blocks.0.attn.qkv.weight', 'layers.1.blocks.0.attn.qkv.bias', 'layers.1.blocks.0.attn.proj.weight', 'layers.1.blocks.0.attn.proj.bias', 'layers.1.blocks.0.norm2.weight', 'layers.1.blocks.0.norm2.bias', 'layers.1.blocks.0.mlp.fc1.weight', 'layers.1.blocks.0.mlp.fc1.bias', 'layers.1.blocks.0.mlp.fc2.weight', 'layers.1.blocks.0.mlp.fc2.bias', 'layers.1.blocks.1.norm1.weight', 'layers.1.blocks.1.norm1.bias', 'layers.1.blocks.1.attn.qkv.weight', 'layers.1.blocks.1.attn.qkv.bias', 'layers.1.blocks.1.attn.proj.weight', 'layers.1.blocks.1.attn.proj.bias', 'layers.1.blocks.1.norm2.weight', 'layers.1.blocks.1.norm2.bias', 'layers.1.blocks.1.mlp.fc1.weight', 'layers.1.blocks.1.mlp.fc1.bias', 'layers.1.blocks.1.mlp.fc2.weight', 'layers.1.blocks.1.mlp.fc2.bias', 'layers.1.downsample.norm.weight', 'layers.1.downsample.norm.bias', 'layers.2.blocks.0.norm1.weight', 'layers.2.blocks.0.norm1.bias', 'layers.2.blocks.0.attn.qkv.weight', 'layers.2.blocks.0.attn.qkv.bias', 'layers.2.blocks.0.attn.proj.weight', 'layers.2.blocks.0.attn.proj.bias', 'layers.2.blocks.0.norm2.weight', 'layers.2.blocks.0.norm2.bias', 'layers.2.blocks.0.mlp.fc1.weight', 'layers.2.blocks.0.mlp.fc1.bias', 'layers.2.blocks.0.mlp.fc2.weight', 'layers.2.blocks.0.mlp.fc2.bias', 'layers.2.blocks.1.norm1.weight', 'layers.2.blocks.1.norm1.bias', 'layers.2.blocks.1.attn.qkv.weight', 'layers.2.blocks.1.attn.qkv.bias', 'layers.2.blocks.1.attn.proj.weight', 'layers.2.blocks.1.attn.proj.bias', 'layers.2.blocks.1.norm2.weight', 'layers.2.blocks.1.norm2.bias', 'layers.2.blocks.1.mlp.fc1.weight', 'layers.2.blocks.1.mlp.fc1.bias', 'layers.2.blocks.1.mlp.fc2.weight', 'layers.2.blocks.1.mlp.fc2.bias', 'layers.2.blocks.2.norm1.weight', 'layers.2.blocks.2.norm1.bias', 'layers.2.blocks.2.attn.qkv.weight', 'layers.2.blocks.2.attn.qkv.bias', 'layers.2.blocks.2.attn.proj.weight', 'layers.2.blocks.2.attn.proj.bias', 'layers.2.blocks.2.norm2.weight', 'layers.2.blocks.2.norm2.bias', 'layers.2.blocks.2.mlp.fc1.weight', 'layers.2.blocks.2.mlp.fc1.bias', 'layers.2.blocks.2.mlp.fc2.weight', 'layers.2.blocks.2.mlp.fc2.bias', 'layers.2.blocks.3.norm1.weight', 'layers.2.blocks.3.norm1.bias', 'layers.2.blocks.3.attn.qkv.weight', 'layers.2.blocks.3.attn.qkv.bias', 'layers.2.blocks.3.attn.proj.weight', 'layers.2.blocks.3.attn.proj.bias', 'layers.2.blocks.3.norm2.weight', 'layers.2.blocks.3.norm2.bias', 'layers.2.blocks.3.mlp.fc1.weight', 'layers.2.blocks.3.mlp.fc1.bias', 'layers.2.blocks.3.mlp.fc2.weight', 'layers.2.blocks.3.mlp.fc2.bias', 'layers.2.blocks.4.norm1.weight', 'layers.2.blocks.4.norm1.bias', 'layers.2.blocks.4.attn.qkv.weight', 'layers.2.blocks.4.attn.qkv.bias', 'layers.2.blocks.4.attn.proj.weight', 'layers.2.blocks.4.attn.proj.bias', 'layers.2.blocks.4.norm2.weight', 'layers.2.blocks.4.norm2.bias', 'layers.2.blocks.4.mlp.fc1.weight', 'layers.2.blocks.4.mlp.fc1.bias', 'layers.2.blocks.4.mlp.fc2.weight', 'layers.2.blocks.4.mlp.fc2.bias', 'layers.2.blocks.5.norm1.weight', 'layers.2.blocks.5.norm1.bias', 'layers.2.blocks.5.attn.qkv.weight', 'layers.2.blocks.5.attn.qkv.bias', 'layers.2.blocks.5.attn.proj.weight', 'layers.2.blocks.5.attn.proj.bias', 'layers.2.blocks.5.norm2.weight', 'layers.2.blocks.5.norm2.bias', 'layers.2.blocks.5.mlp.fc1.weight', 'layers.2.blocks.5.mlp.fc1.bias', 'layers.2.blocks.5.mlp.fc2.weight', 'layers.2.blocks.5.mlp.fc2.bias', 'layers.2.downsample.norm.weight', 'layers.2.downsample.norm.bias', 'layers.3.blocks.0.norm1.weight', 'layers.3.blocks.0.norm1.bias', 'layers.3.blocks.0.attn.qkv.weight', 'layers.3.blocks.0.attn.qkv.bias', 'layers.3.blocks.0.attn.proj.weight', 'layers.3.blocks.0.attn.proj.bias', 'layers.3.blocks.0.norm2.weight', 'layers.3.blocks.0.norm2.bias', 'layers.3.blocks.0.mlp.fc1.weight', 'layers.3.blocks.0.mlp.fc1.bias', 'layers.3.blocks.0.mlp.fc2.weight', 'layers.3.blocks.0.mlp.fc2.bias', 'layers.3.blocks.1.norm1.weight', 'layers.3.blocks.1.norm1.bias', 'layers.3.blocks.1.attn.qkv.weight', 'layers.3.blocks.1.attn.qkv.bias', 'layers.3.blocks.1.attn.proj.weight', 'layers.3.blocks.1.attn.proj.bias', 'layers.3.blocks.1.norm2.weight', 'layers.3.blocks.1.norm2.bias', 'layers.3.blocks.1.mlp.fc1.weight', 'layers.3.blocks.1.mlp.fc1.bias', 'layers.3.blocks.1.mlp.fc2.weight', 'layers.3.blocks.1.mlp.fc2.bias', 'norm.weight', 'norm.bias', 'head.weight', 'head.bias', 'layers.0.blocks.0.attn.relative_position_index', 'layers.0.blocks.1.attn.relative_position_index', 'layers.1.blocks.0.attn.relative_position_index', 'layers.1.blocks.1.attn.relative_position_index', 'layers.2.blocks.0.attn.relative_position_index', 'layers.2.blocks.1.attn.relative_position_index', 'layers.2.blocks.2.attn.relative_position_index', 'layers.2.blocks.3.attn.relative_position_index', 'layers.2.blocks.4.attn.relative_position_index', 'layers.2.blocks.5.attn.relative_position_index', 'layers.3.blocks.0.attn.relative_position_index', 'layers.3.blocks.1.attn.relative_position_index', 'layers.0.blocks.1.attn_mask', 'layers.1.blocks.1.attn_mask', 'layers.2.blocks.1.attn_mask', 'layers.2.blocks.3.attn_mask', 'layers.2.blocks.5.attn_mask', 'layers.0.blocks.0.attn.relative_position_bias_table', 'layers.0.blocks.1.attn.relative_position_bias_table', 'layers.1.blocks.0.attn.relative_position_bias_table', 'layers.1.blocks.1.attn.relative_position_bias_table', 'layers.2.blocks.0.attn.relative_position_bias_table', 'layers.2.blocks.1.attn.relative_position_bias_table', 'layers.2.blocks.2.attn.relative_position_bias_table', 'layers.2.blocks.3.attn.relative_position_bias_table', 'layers.2.blocks.4.attn.relative_position_bias_table', 'layers.2.blocks.5.attn.relative_position_bias_table', 'layers.3.blocks.0.attn.relative_position_bias_table', 'layers.3.blocks.1.attn.relative_position_bias_table', 'layers.0.downsample.reduction.weight', 'layers.1.downsample.reduction.weight', 'layers.2.downsample.reduction.weight', 'layers_up.3.blocks.0.norm1.weight', 'layers_up.3.blocks.0.norm1.bias', 'layers_up.3.blocks.0.attn.qkv.weight', 'layers_up.3.blocks.0.attn.qkv.bias', 'layers_up.3.blocks.0.attn.proj.weight', 'layers_up.3.blocks.0.attn.proj.bias', 'layers_up.3.blocks.0.norm2.weight', 'layers_up.3.blocks.0.norm2.bias', 'layers_up.3.blocks.0.mlp.fc1.weight', 'layers_up.3.blocks.0.mlp.fc1.bias', 'layers_up.3.blocks.0.mlp.fc2.weight', 'layers_up.3.blocks.0.mlp.fc2.bias', 'layers_up.3.blocks.1.norm1.weight', 'layers_up.3.blocks.1.norm1.bias', 'layers_up.3.blocks.1.attn.qkv.weight', 'layers_up.3.blocks.1.attn.qkv.bias', 'layers_up.3.blocks.1.attn.proj.weight', 'layers_up.3.blocks.1.attn.proj.bias', 'layers_up.3.blocks.1.norm2.weight', 'layers_up.3.blocks.1.norm2.bias', 'layers_up.3.blocks.1.mlp.fc1.weight', 'layers_up.3.blocks.1.mlp.fc1.bias', 'layers_up.3.blocks.1.mlp.fc2.weight', 'layers_up.3.blocks.1.mlp.fc2.bias', 'layers_up.3.downsample.norm.weight', 'layers_up.3.downsample.norm.bias', 'layers_up.2.blocks.0.norm1.weight', 'layers_up.2.blocks.0.norm1.bias', 'layers_up.2.blocks.0.attn.qkv.weight', 'layers_up.2.blocks.0.attn.qkv.bias', 'layers_up.2.blocks.0.attn.proj.weight', 'layers_up.2.blocks.0.attn.proj.bias', 'layers_up.2.blocks.0.norm2.weight', 'layers_up.2.blocks.0.norm2.bias', 'layers_up.2.blocks.0.mlp.fc1.weight', 'layers_up.2.blocks.0.mlp.fc1.bias', 'layers_up.2.blocks.0.mlp.fc2.weight', 'layers_up.2.blocks.0.mlp.fc2.bias', 'layers_up.2.blocks.1.norm1.weight', 'layers_up.2.blocks.1.norm1.bias', 'layers_up.2.blocks.1.attn.qkv.weight', 'layers_up.2.blocks.1.attn.qkv.bias', 'layers_up.2.blocks.1.attn.proj.weight', 'layers_up.2.blocks.1.attn.proj.bias', 'layers_up.2.blocks.1.norm2.weight', 'layers_up.2.blocks.1.norm2.bias', 'layers_up.2.blocks.1.mlp.fc1.weight', 'layers_up.2.blocks.1.mlp.fc1.bias', 'layers_up.2.blocks.1.mlp.fc2.weight', 'layers_up.2.blocks.1.mlp.fc2.bias', 'layers_up.2.downsample.norm.weight', 'layers_up.2.downsample.norm.bias', 'layers_up.1.blocks.0.norm1.weight', 'layers_up.1.blocks.0.norm1.bias', 'layers_up.1.blocks.0.attn.qkv.weight', 'layers_up.1.blocks.0.attn.qkv.bias', 'layers_up.1.blocks.0.attn.proj.weight', 'layers_up.1.blocks.0.attn.proj.bias', 'layers_up.1.blocks.0.norm2.weight', 'layers_up.1.blocks.0.norm2.bias', 'layers_up.1.blocks.0.mlp.fc1.weight', 'layers_up.1.blocks.0.mlp.fc1.bias', 'layers_up.1.blocks.0.mlp.fc2.weight', 'layers_up.1.blocks.0.mlp.fc2.bias', 'layers_up.1.blocks.1.norm1.weight', 'layers_up.1.blocks.1.norm1.bias', 'layers_up.1.blocks.1.attn.qkv.weight', 'layers_up.1.blocks.1.attn.qkv.bias', 'layers_up.1.blocks.1.attn.proj.weight', 'layers_up.1.blocks.1.attn.proj.bias', 'layers_up.1.blocks.1.norm2.weight', 'layers_up.1.blocks.1.norm2.bias', 'layers_up.1.blocks.1.mlp.fc1.weight', 'layers_up.1.blocks.1.mlp.fc1.bias', 'layers_up.1.blocks.1.mlp.fc2.weight', 'layers_up.1.blocks.1.mlp.fc2.bias', 'layers_up.1.blocks.2.norm1.weight', 'layers_up.1.blocks.2.norm1.bias', 'layers_up.1.blocks.2.attn.qkv.weight', 'layers_up.1.blocks.2.attn.qkv.bias', 'layers_up.1.blocks.2.attn.proj.weight', 'layers_up.1.blocks.2.attn.proj.bias', 'layers_up.1.blocks.2.norm2.weight', 'layers_up.1.blocks.2.norm2.bias', 'layers_up.1.blocks.2.mlp.fc1.weight', 'layers_up.1.blocks.2.mlp.fc1.bias', 'layers_up.1.blocks.2.mlp.fc2.weight', 'layers_up.1.blocks.2.mlp.fc2.bias', 'layers_up.1.blocks.3.norm1.weight', 'layers_up.1.blocks.3.norm1.bias', 'layers_up.1.blocks.3.attn.qkv.weight', 'layers_up.1.blocks.3.attn.qkv.bias', 'layers_up.1.blocks.3.attn.proj.weight', 'layers_up.1.blocks.3.attn.proj.bias', 'layers_up.1.blocks.3.norm2.weight', 'layers_up.1.blocks.3.norm2.bias', 'layers_up.1.blocks.3.mlp.fc1.weight', 'layers_up.1.blocks.3.mlp.fc1.bias', 'layers_up.1.blocks.3.mlp.fc2.weight', 'layers_up.1.blocks.3.mlp.fc2.bias', 'layers_up.1.blocks.4.norm1.weight', 'layers_up.1.blocks.4.norm1.bias', 'layers_up.1.blocks.4.attn.qkv.weight', 'layers_up.1.blocks.4.attn.qkv.bias', 'layers_up.1.blocks.4.attn.proj.weight', 'layers_up.1.blocks.4.attn.proj.bias', 'layers_up.1.blocks.4.norm2.weight', 'layers_up.1.blocks.4.norm2.bias', 'layers_up.1.blocks.4.mlp.fc1.weight', 'layers_up.1.blocks.4.mlp.fc1.bias', 'layers_up.1.blocks.4.mlp.fc2.weight', 'layers_up.1.blocks.4.mlp.fc2.bias', 'layers_up.1.blocks.5.norm1.weight', 'layers_up.1.blocks.5.norm1.bias', 'layers_up.1.blocks.5.attn.qkv.weight', 'layers_up.1.blocks.5.attn.qkv.bias', 'layers_up.1.blocks.5.attn.proj.weight', 'layers_up.1.blocks.5.attn.proj.bias', 'layers_up.1.blocks.5.norm2.weight', 'layers_up.1.blocks.5.norm2.bias', 'layers_up.1.blocks.5.mlp.fc1.weight', 'layers_up.1.blocks.5.mlp.fc1.bias', 'layers_up.1.blocks.5.mlp.fc2.weight', 'layers_up.1.blocks.5.mlp.fc2.bias', 'layers_up.1.downsample.norm.weight', 'layers_up.1.downsample.norm.bias', 'layers_up.0.blocks.0.norm1.weight', 'layers_up.0.blocks.0.norm1.bias', 'layers_up.0.blocks.0.attn.qkv.weight', 'layers_up.0.blocks.0.attn.qkv.bias', 'layers_up.0.blocks.0.attn.proj.weight', 'layers_up.0.blocks.0.attn.proj.bias', 'layers_up.0.blocks.0.norm2.weight', 'layers_up.0.blocks.0.norm2.bias', 'layers_up.0.blocks.0.mlp.fc1.weight', 'layers_up.0.blocks.0.mlp.fc1.bias', 'layers_up.0.blocks.0.mlp.fc2.weight', 'layers_up.0.blocks.0.mlp.fc2.bias', 'layers_up.0.blocks.1.norm1.weight', 'layers_up.0.blocks.1.norm1.bias', 'layers_up.0.blocks.1.attn.qkv.weight', 'layers_up.0.blocks.1.attn.qkv.bias', 'layers_up.0.blocks.1.attn.proj.weight', 'layers_up.0.blocks.1.attn.proj.bias', 'layers_up.0.blocks.1.norm2.weight', 'layers_up.0.blocks.1.norm2.bias', 'layers_up.0.blocks.1.mlp.fc1.weight', 'layers_up.0.blocks.1.mlp.fc1.bias', 'layers_up.0.blocks.1.mlp.fc2.weight', 'layers_up.0.blocks.1.mlp.fc2.bias', 'layers_up.3.blocks.0.attn.relative_position_index', 'layers_up.3.blocks.1.attn.relative_position_index', 'layers_up.2.blocks.0.attn.relative_position_index', 'layers_up.2.blocks.1.attn.relative_position_index', 'layers_up.1.blocks.0.attn.relative_position_index', 'layers_up.1.blocks.1.attn.relative_position_index', 'layers_up.1.blocks.2.attn.relative_position_index', 'layers_up.1.blocks.3.attn.relative_position_index', 'layers_up.1.blocks.4.attn.relative_position_index', 'layers_up.1.blocks.5.attn.relative_position_index', 'layers_up.0.blocks.0.attn.relative_position_index', 'layers_up.0.blocks.1.attn.relative_position_index', 'layers_up.3.blocks.1.attn_mask', 'layers_up.2.blocks.1.attn_mask', 'layers_up.1.blocks.1.attn_mask', 'layers_up.1.blocks.3.attn_mask', 'layers_up.1.blocks.5.attn_mask', 'layers_up.3.blocks.0.attn.relative_position_bias_table', 'layers_up.3.blocks.1.attn.relative_position_bias_table', 'layers_up.2.blocks.0.attn.relative_position_bias_table', 'layers_up.2.blocks.1.attn.relative_position_bias_table', 'layers_up.1.blocks.0.attn.relative_position_bias_table', 'layers_up.1.blocks.1.attn.relative_position_bias_table', 'layers_up.1.blocks.2.attn.relative_position_bias_table', 'layers_up.1.blocks.3.attn.relative_position_bias_table', 'layers_up.1.blocks.4.attn.relative_position_bias_table', 'layers_up.1.blocks.5.attn.relative_position_bias_table', 'layers_up.0.blocks.0.attn.relative_position_bias_table', 'layers_up.0.blocks.1.attn.relative_position_bias_table', 'layers_up.3.downsample.reduction.weight', 'layers_up.2.downsample.reduction.weight', 'layers_up.1.downsample.reduction.weight'])\n"
     ]
    }
   ],
   "source": [
    "import copy\n",
    "model_dict = model.state_dict()\n",
    "full_dict = copy.deepcopy(pretrained_dict)\n",
    "# 190 keys\n",
    "for k, v in pretrained_dict.items():\n",
    "    if \"layers.\" in k:\n",
    "        current_layer_num = 3-int(k[7:8])\n",
    "        current_k = \"layers_up.\" + str(current_layer_num) + k[8:]\n",
    "        full_dict.update({current_k:v})\n",
    "# 372 keys\n",
    "for k in list(full_dict.keys()):\n",
    "    if k in model_dict:\n",
    "        if full_dict[k].shape != model_dict[k].shape:\n",
    "            print(\"delete:{};shape pretrain:{};shape model:{}\".format(k,v.shape,model_dict[k].shape))\n",
    "            del full_dict[k]\n",
    "\n",
    "msg = model.load_state_dict(full_dict, strict=False)\n",
    "print(msg)"
   ]
  },
  {
   "cell_type": "code",
   "execution_count": 7,
   "metadata": {},
   "outputs": [
    {
     "data": {
      "text/plain": [
       "odict_keys(['patch_embed.proj.weight', 'patch_embed.proj.bias', 'patch_embed.norm.weight', 'patch_embed.norm.bias', 'layers.0.blocks.0.norm1.weight', 'layers.0.blocks.0.norm1.bias', 'layers.0.blocks.0.attn.qkv.weight', 'layers.0.blocks.0.attn.qkv.bias', 'layers.0.blocks.0.attn.proj.weight', 'layers.0.blocks.0.attn.proj.bias', 'layers.0.blocks.0.norm2.weight', 'layers.0.blocks.0.norm2.bias', 'layers.0.blocks.0.mlp.fc1.weight', 'layers.0.blocks.0.mlp.fc1.bias', 'layers.0.blocks.0.mlp.fc2.weight', 'layers.0.blocks.0.mlp.fc2.bias', 'layers.0.blocks.1.norm1.weight', 'layers.0.blocks.1.norm1.bias', 'layers.0.blocks.1.attn.qkv.weight', 'layers.0.blocks.1.attn.qkv.bias', 'layers.0.blocks.1.attn.proj.weight', 'layers.0.blocks.1.attn.proj.bias', 'layers.0.blocks.1.norm2.weight', 'layers.0.blocks.1.norm2.bias', 'layers.0.blocks.1.mlp.fc1.weight', 'layers.0.blocks.1.mlp.fc1.bias', 'layers.0.blocks.1.mlp.fc2.weight', 'layers.0.blocks.1.mlp.fc2.bias', 'layers.0.downsample.norm.weight', 'layers.0.downsample.norm.bias', 'layers.1.blocks.0.norm1.weight', 'layers.1.blocks.0.norm1.bias', 'layers.1.blocks.0.attn.qkv.weight', 'layers.1.blocks.0.attn.qkv.bias', 'layers.1.blocks.0.attn.proj.weight', 'layers.1.blocks.0.attn.proj.bias', 'layers.1.blocks.0.norm2.weight', 'layers.1.blocks.0.norm2.bias', 'layers.1.blocks.0.mlp.fc1.weight', 'layers.1.blocks.0.mlp.fc1.bias', 'layers.1.blocks.0.mlp.fc2.weight', 'layers.1.blocks.0.mlp.fc2.bias', 'layers.1.blocks.1.norm1.weight', 'layers.1.blocks.1.norm1.bias', 'layers.1.blocks.1.attn.qkv.weight', 'layers.1.blocks.1.attn.qkv.bias', 'layers.1.blocks.1.attn.proj.weight', 'layers.1.blocks.1.attn.proj.bias', 'layers.1.blocks.1.norm2.weight', 'layers.1.blocks.1.norm2.bias', 'layers.1.blocks.1.mlp.fc1.weight', 'layers.1.blocks.1.mlp.fc1.bias', 'layers.1.blocks.1.mlp.fc2.weight', 'layers.1.blocks.1.mlp.fc2.bias', 'layers.1.downsample.norm.weight', 'layers.1.downsample.norm.bias', 'layers.2.blocks.0.norm1.weight', 'layers.2.blocks.0.norm1.bias', 'layers.2.blocks.0.attn.qkv.weight', 'layers.2.blocks.0.attn.qkv.bias', 'layers.2.blocks.0.attn.proj.weight', 'layers.2.blocks.0.attn.proj.bias', 'layers.2.blocks.0.norm2.weight', 'layers.2.blocks.0.norm2.bias', 'layers.2.blocks.0.mlp.fc1.weight', 'layers.2.blocks.0.mlp.fc1.bias', 'layers.2.blocks.0.mlp.fc2.weight', 'layers.2.blocks.0.mlp.fc2.bias', 'layers.2.blocks.1.norm1.weight', 'layers.2.blocks.1.norm1.bias', 'layers.2.blocks.1.attn.qkv.weight', 'layers.2.blocks.1.attn.qkv.bias', 'layers.2.blocks.1.attn.proj.weight', 'layers.2.blocks.1.attn.proj.bias', 'layers.2.blocks.1.norm2.weight', 'layers.2.blocks.1.norm2.bias', 'layers.2.blocks.1.mlp.fc1.weight', 'layers.2.blocks.1.mlp.fc1.bias', 'layers.2.blocks.1.mlp.fc2.weight', 'layers.2.blocks.1.mlp.fc2.bias', 'layers.2.blocks.2.norm1.weight', 'layers.2.blocks.2.norm1.bias', 'layers.2.blocks.2.attn.qkv.weight', 'layers.2.blocks.2.attn.qkv.bias', 'layers.2.blocks.2.attn.proj.weight', 'layers.2.blocks.2.attn.proj.bias', 'layers.2.blocks.2.norm2.weight', 'layers.2.blocks.2.norm2.bias', 'layers.2.blocks.2.mlp.fc1.weight', 'layers.2.blocks.2.mlp.fc1.bias', 'layers.2.blocks.2.mlp.fc2.weight', 'layers.2.blocks.2.mlp.fc2.bias', 'layers.2.blocks.3.norm1.weight', 'layers.2.blocks.3.norm1.bias', 'layers.2.blocks.3.attn.qkv.weight', 'layers.2.blocks.3.attn.qkv.bias', 'layers.2.blocks.3.attn.proj.weight', 'layers.2.blocks.3.attn.proj.bias', 'layers.2.blocks.3.norm2.weight', 'layers.2.blocks.3.norm2.bias', 'layers.2.blocks.3.mlp.fc1.weight', 'layers.2.blocks.3.mlp.fc1.bias', 'layers.2.blocks.3.mlp.fc2.weight', 'layers.2.blocks.3.mlp.fc2.bias', 'layers.2.blocks.4.norm1.weight', 'layers.2.blocks.4.norm1.bias', 'layers.2.blocks.4.attn.qkv.weight', 'layers.2.blocks.4.attn.qkv.bias', 'layers.2.blocks.4.attn.proj.weight', 'layers.2.blocks.4.attn.proj.bias', 'layers.2.blocks.4.norm2.weight', 'layers.2.blocks.4.norm2.bias', 'layers.2.blocks.4.mlp.fc1.weight', 'layers.2.blocks.4.mlp.fc1.bias', 'layers.2.blocks.4.mlp.fc2.weight', 'layers.2.blocks.4.mlp.fc2.bias', 'layers.2.blocks.5.norm1.weight', 'layers.2.blocks.5.norm1.bias', 'layers.2.blocks.5.attn.qkv.weight', 'layers.2.blocks.5.attn.qkv.bias', 'layers.2.blocks.5.attn.proj.weight', 'layers.2.blocks.5.attn.proj.bias', 'layers.2.blocks.5.norm2.weight', 'layers.2.blocks.5.norm2.bias', 'layers.2.blocks.5.mlp.fc1.weight', 'layers.2.blocks.5.mlp.fc1.bias', 'layers.2.blocks.5.mlp.fc2.weight', 'layers.2.blocks.5.mlp.fc2.bias', 'layers.2.downsample.norm.weight', 'layers.2.downsample.norm.bias', 'layers.3.blocks.0.norm1.weight', 'layers.3.blocks.0.norm1.bias', 'layers.3.blocks.0.attn.qkv.weight', 'layers.3.blocks.0.attn.qkv.bias', 'layers.3.blocks.0.attn.proj.weight', 'layers.3.blocks.0.attn.proj.bias', 'layers.3.blocks.0.norm2.weight', 'layers.3.blocks.0.norm2.bias', 'layers.3.blocks.0.mlp.fc1.weight', 'layers.3.blocks.0.mlp.fc1.bias', 'layers.3.blocks.0.mlp.fc2.weight', 'layers.3.blocks.0.mlp.fc2.bias', 'layers.3.blocks.1.norm1.weight', 'layers.3.blocks.1.norm1.bias', 'layers.3.blocks.1.attn.qkv.weight', 'layers.3.blocks.1.attn.qkv.bias', 'layers.3.blocks.1.attn.proj.weight', 'layers.3.blocks.1.attn.proj.bias', 'layers.3.blocks.1.norm2.weight', 'layers.3.blocks.1.norm2.bias', 'layers.3.blocks.1.mlp.fc1.weight', 'layers.3.blocks.1.mlp.fc1.bias', 'layers.3.blocks.1.mlp.fc2.weight', 'layers.3.blocks.1.mlp.fc2.bias', 'norm.weight', 'norm.bias', 'head.weight', 'head.bias', 'layers.0.blocks.0.attn.relative_position_index', 'layers.0.blocks.1.attn.relative_position_index', 'layers.1.blocks.0.attn.relative_position_index', 'layers.1.blocks.1.attn.relative_position_index', 'layers.2.blocks.0.attn.relative_position_index', 'layers.2.blocks.1.attn.relative_position_index', 'layers.2.blocks.2.attn.relative_position_index', 'layers.2.blocks.3.attn.relative_position_index', 'layers.2.blocks.4.attn.relative_position_index', 'layers.2.blocks.5.attn.relative_position_index', 'layers.3.blocks.0.attn.relative_position_index', 'layers.3.blocks.1.attn.relative_position_index', 'layers.0.blocks.1.attn_mask', 'layers.1.blocks.1.attn_mask', 'layers.2.blocks.1.attn_mask', 'layers.2.blocks.3.attn_mask', 'layers.2.blocks.5.attn_mask', 'layers.0.blocks.0.attn.relative_position_bias_table', 'layers.0.blocks.1.attn.relative_position_bias_table', 'layers.1.blocks.0.attn.relative_position_bias_table', 'layers.1.blocks.1.attn.relative_position_bias_table', 'layers.2.blocks.0.attn.relative_position_bias_table', 'layers.2.blocks.1.attn.relative_position_bias_table', 'layers.2.blocks.2.attn.relative_position_bias_table', 'layers.2.blocks.3.attn.relative_position_bias_table', 'layers.2.blocks.4.attn.relative_position_bias_table', 'layers.2.blocks.5.attn.relative_position_bias_table', 'layers.3.blocks.0.attn.relative_position_bias_table', 'layers.3.blocks.1.attn.relative_position_bias_table', 'layers.0.downsample.reduction.weight', 'layers.1.downsample.reduction.weight', 'layers.2.downsample.reduction.weight', 'layers_up.3.blocks.0.norm1.weight', 'layers_up.3.blocks.0.norm1.bias', 'layers_up.3.blocks.0.attn.qkv.weight', 'layers_up.3.blocks.0.attn.qkv.bias', 'layers_up.3.blocks.0.attn.proj.weight', 'layers_up.3.blocks.0.attn.proj.bias', 'layers_up.3.blocks.0.norm2.weight', 'layers_up.3.blocks.0.norm2.bias', 'layers_up.3.blocks.0.mlp.fc1.weight', 'layers_up.3.blocks.0.mlp.fc1.bias', 'layers_up.3.blocks.0.mlp.fc2.weight', 'layers_up.3.blocks.0.mlp.fc2.bias', 'layers_up.3.blocks.1.norm1.weight', 'layers_up.3.blocks.1.norm1.bias', 'layers_up.3.blocks.1.attn.qkv.weight', 'layers_up.3.blocks.1.attn.qkv.bias', 'layers_up.3.blocks.1.attn.proj.weight', 'layers_up.3.blocks.1.attn.proj.bias', 'layers_up.3.blocks.1.norm2.weight', 'layers_up.3.blocks.1.norm2.bias', 'layers_up.3.blocks.1.mlp.fc1.weight', 'layers_up.3.blocks.1.mlp.fc1.bias', 'layers_up.3.blocks.1.mlp.fc2.weight', 'layers_up.3.blocks.1.mlp.fc2.bias', 'layers_up.3.downsample.norm.weight', 'layers_up.3.downsample.norm.bias', 'layers_up.2.blocks.0.norm1.weight', 'layers_up.2.blocks.0.norm1.bias', 'layers_up.2.blocks.0.attn.qkv.weight', 'layers_up.2.blocks.0.attn.qkv.bias', 'layers_up.2.blocks.0.attn.proj.weight', 'layers_up.2.blocks.0.attn.proj.bias', 'layers_up.2.blocks.0.norm2.weight', 'layers_up.2.blocks.0.norm2.bias', 'layers_up.2.blocks.0.mlp.fc1.weight', 'layers_up.2.blocks.0.mlp.fc1.bias', 'layers_up.2.blocks.0.mlp.fc2.weight', 'layers_up.2.blocks.0.mlp.fc2.bias', 'layers_up.2.blocks.1.norm1.weight', 'layers_up.2.blocks.1.norm1.bias', 'layers_up.2.blocks.1.attn.qkv.weight', 'layers_up.2.blocks.1.attn.qkv.bias', 'layers_up.2.blocks.1.attn.proj.weight', 'layers_up.2.blocks.1.attn.proj.bias', 'layers_up.2.blocks.1.norm2.weight', 'layers_up.2.blocks.1.norm2.bias', 'layers_up.2.blocks.1.mlp.fc1.weight', 'layers_up.2.blocks.1.mlp.fc1.bias', 'layers_up.2.blocks.1.mlp.fc2.weight', 'layers_up.2.blocks.1.mlp.fc2.bias', 'layers_up.2.downsample.norm.weight', 'layers_up.2.downsample.norm.bias', 'layers_up.1.blocks.0.norm1.weight', 'layers_up.1.blocks.0.norm1.bias', 'layers_up.1.blocks.0.attn.qkv.weight', 'layers_up.1.blocks.0.attn.qkv.bias', 'layers_up.1.blocks.0.attn.proj.weight', 'layers_up.1.blocks.0.attn.proj.bias', 'layers_up.1.blocks.0.norm2.weight', 'layers_up.1.blocks.0.norm2.bias', 'layers_up.1.blocks.0.mlp.fc1.weight', 'layers_up.1.blocks.0.mlp.fc1.bias', 'layers_up.1.blocks.0.mlp.fc2.weight', 'layers_up.1.blocks.0.mlp.fc2.bias', 'layers_up.1.blocks.1.norm1.weight', 'layers_up.1.blocks.1.norm1.bias', 'layers_up.1.blocks.1.attn.qkv.weight', 'layers_up.1.blocks.1.attn.qkv.bias', 'layers_up.1.blocks.1.attn.proj.weight', 'layers_up.1.blocks.1.attn.proj.bias', 'layers_up.1.blocks.1.norm2.weight', 'layers_up.1.blocks.1.norm2.bias', 'layers_up.1.blocks.1.mlp.fc1.weight', 'layers_up.1.blocks.1.mlp.fc1.bias', 'layers_up.1.blocks.1.mlp.fc2.weight', 'layers_up.1.blocks.1.mlp.fc2.bias', 'layers_up.1.blocks.2.norm1.weight', 'layers_up.1.blocks.2.norm1.bias', 'layers_up.1.blocks.2.attn.qkv.weight', 'layers_up.1.blocks.2.attn.qkv.bias', 'layers_up.1.blocks.2.attn.proj.weight', 'layers_up.1.blocks.2.attn.proj.bias', 'layers_up.1.blocks.2.norm2.weight', 'layers_up.1.blocks.2.norm2.bias', 'layers_up.1.blocks.2.mlp.fc1.weight', 'layers_up.1.blocks.2.mlp.fc1.bias', 'layers_up.1.blocks.2.mlp.fc2.weight', 'layers_up.1.blocks.2.mlp.fc2.bias', 'layers_up.1.blocks.3.norm1.weight', 'layers_up.1.blocks.3.norm1.bias', 'layers_up.1.blocks.3.attn.qkv.weight', 'layers_up.1.blocks.3.attn.qkv.bias', 'layers_up.1.blocks.3.attn.proj.weight', 'layers_up.1.blocks.3.attn.proj.bias', 'layers_up.1.blocks.3.norm2.weight', 'layers_up.1.blocks.3.norm2.bias', 'layers_up.1.blocks.3.mlp.fc1.weight', 'layers_up.1.blocks.3.mlp.fc1.bias', 'layers_up.1.blocks.3.mlp.fc2.weight', 'layers_up.1.blocks.3.mlp.fc2.bias', 'layers_up.1.blocks.4.norm1.weight', 'layers_up.1.blocks.4.norm1.bias', 'layers_up.1.blocks.4.attn.qkv.weight', 'layers_up.1.blocks.4.attn.qkv.bias', 'layers_up.1.blocks.4.attn.proj.weight', 'layers_up.1.blocks.4.attn.proj.bias', 'layers_up.1.blocks.4.norm2.weight', 'layers_up.1.blocks.4.norm2.bias', 'layers_up.1.blocks.4.mlp.fc1.weight', 'layers_up.1.blocks.4.mlp.fc1.bias', 'layers_up.1.blocks.4.mlp.fc2.weight', 'layers_up.1.blocks.4.mlp.fc2.bias', 'layers_up.1.blocks.5.norm1.weight', 'layers_up.1.blocks.5.norm1.bias', 'layers_up.1.blocks.5.attn.qkv.weight', 'layers_up.1.blocks.5.attn.qkv.bias', 'layers_up.1.blocks.5.attn.proj.weight', 'layers_up.1.blocks.5.attn.proj.bias', 'layers_up.1.blocks.5.norm2.weight', 'layers_up.1.blocks.5.norm2.bias', 'layers_up.1.blocks.5.mlp.fc1.weight', 'layers_up.1.blocks.5.mlp.fc1.bias', 'layers_up.1.blocks.5.mlp.fc2.weight', 'layers_up.1.blocks.5.mlp.fc2.bias', 'layers_up.1.downsample.norm.weight', 'layers_up.1.downsample.norm.bias', 'layers_up.0.blocks.0.norm1.weight', 'layers_up.0.blocks.0.norm1.bias', 'layers_up.0.blocks.0.attn.qkv.weight', 'layers_up.0.blocks.0.attn.qkv.bias', 'layers_up.0.blocks.0.attn.proj.weight', 'layers_up.0.blocks.0.attn.proj.bias', 'layers_up.0.blocks.0.norm2.weight', 'layers_up.0.blocks.0.norm2.bias', 'layers_up.0.blocks.0.mlp.fc1.weight', 'layers_up.0.blocks.0.mlp.fc1.bias', 'layers_up.0.blocks.0.mlp.fc2.weight', 'layers_up.0.blocks.0.mlp.fc2.bias', 'layers_up.0.blocks.1.norm1.weight', 'layers_up.0.blocks.1.norm1.bias', 'layers_up.0.blocks.1.attn.qkv.weight', 'layers_up.0.blocks.1.attn.qkv.bias', 'layers_up.0.blocks.1.attn.proj.weight', 'layers_up.0.blocks.1.attn.proj.bias', 'layers_up.0.blocks.1.norm2.weight', 'layers_up.0.blocks.1.norm2.bias', 'layers_up.0.blocks.1.mlp.fc1.weight', 'layers_up.0.blocks.1.mlp.fc1.bias', 'layers_up.0.blocks.1.mlp.fc2.weight', 'layers_up.0.blocks.1.mlp.fc2.bias', 'layers_up.3.blocks.0.attn.relative_position_index', 'layers_up.3.blocks.1.attn.relative_position_index', 'layers_up.2.blocks.0.attn.relative_position_index', 'layers_up.2.blocks.1.attn.relative_position_index', 'layers_up.1.blocks.0.attn.relative_position_index', 'layers_up.1.blocks.1.attn.relative_position_index', 'layers_up.1.blocks.2.attn.relative_position_index', 'layers_up.1.blocks.3.attn.relative_position_index', 'layers_up.1.blocks.4.attn.relative_position_index', 'layers_up.1.blocks.5.attn.relative_position_index', 'layers_up.0.blocks.0.attn.relative_position_index', 'layers_up.0.blocks.1.attn.relative_position_index', 'layers_up.3.blocks.1.attn_mask', 'layers_up.2.blocks.1.attn_mask', 'layers_up.1.blocks.1.attn_mask', 'layers_up.1.blocks.3.attn_mask', 'layers_up.1.blocks.5.attn_mask', 'layers_up.3.blocks.0.attn.relative_position_bias_table', 'layers_up.3.blocks.1.attn.relative_position_bias_table', 'layers_up.2.blocks.0.attn.relative_position_bias_table', 'layers_up.2.blocks.1.attn.relative_position_bias_table', 'layers_up.1.blocks.0.attn.relative_position_bias_table', 'layers_up.1.blocks.1.attn.relative_position_bias_table', 'layers_up.1.blocks.2.attn.relative_position_bias_table', 'layers_up.1.blocks.3.attn.relative_position_bias_table', 'layers_up.1.blocks.4.attn.relative_position_bias_table', 'layers_up.1.blocks.5.attn.relative_position_bias_table', 'layers_up.0.blocks.0.attn.relative_position_bias_table', 'layers_up.0.blocks.1.attn.relative_position_bias_table', 'layers_up.3.downsample.reduction.weight', 'layers_up.2.downsample.reduction.weight', 'layers_up.1.downsample.reduction.weight'])"
      ]
     },
     "execution_count": 7,
     "metadata": {},
     "output_type": "execute_result"
    }
   ],
   "source": [
    "full_dict.keys()"
   ]
  },
  {
   "cell_type": "code",
   "execution_count": null,
   "metadata": {},
   "outputs": [],
   "source": []
  },
  {
   "cell_type": "code",
   "execution_count": 37,
   "metadata": {},
   "outputs": [
    {
     "name": "stdout",
     "output_type": "stream",
     "text": [
      "torch.Size([96, 7, 4, 4])\n",
      "torch.Size([96, 3, 4, 4])\n"
     ]
    }
   ],
   "source": [
    "print(model_dict[\"swin_unet.patch_embed.proj.weight\"].shape)\n",
    "print(full_dict[\"patch_embed.proj.weight\"].shape)"
   ]
  },
  {
   "cell_type": "code",
   "execution_count": 24,
   "metadata": {},
   "outputs": [
    {
     "ename": "RuntimeError",
     "evalue": "The expanded size of the tensor (3) must match the existing size (35) at non-singleton dimension 1.  Target sizes: [96, 3, 4, 4].  Tensor sizes: [96, 35, 4, 4]",
     "output_type": "error",
     "traceback": [
      "\u001b[0;31m---------------------------------------------------------------------------\u001b[0m",
      "\u001b[0;31mRuntimeError\u001b[0m                              Traceback (most recent call last)",
      "\u001b[1;32m/home/sl221120/WildfireSpreadTS/swin.ipynb Cell 8\u001b[0m line \u001b[0;36m1\n\u001b[1;32m      <a href='vscode-notebook-cell://ssh-remote%2Bjmgpu2.cs.umt.edu/home/sl221120/WildfireSpreadTS/swin.ipynb#X12sdnNjb2RlLXJlbW90ZQ%3D%3D?line=3'>4</a>\u001b[0m new_conv \u001b[39m=\u001b[39m nn\u001b[39m.\u001b[39mConv2d(n_features, old_conv\u001b[39m.\u001b[39mout_channels, \n\u001b[1;32m      <a href='vscode-notebook-cell://ssh-remote%2Bjmgpu2.cs.umt.edu/home/sl221120/WildfireSpreadTS/swin.ipynb#X12sdnNjb2RlLXJlbW90ZQ%3D%3D?line=4'>5</a>\u001b[0m                      kernel_size\u001b[39m=\u001b[39mold_conv\u001b[39m.\u001b[39mkernel_size, \n\u001b[1;32m      <a href='vscode-notebook-cell://ssh-remote%2Bjmgpu2.cs.umt.edu/home/sl221120/WildfireSpreadTS/swin.ipynb#X12sdnNjb2RlLXJlbW90ZQ%3D%3D?line=5'>6</a>\u001b[0m                      stride\u001b[39m=\u001b[39mold_conv\u001b[39m.\u001b[39mstride, \n\u001b[1;32m      <a href='vscode-notebook-cell://ssh-remote%2Bjmgpu2.cs.umt.edu/home/sl221120/WildfireSpreadTS/swin.ipynb#X12sdnNjb2RlLXJlbW90ZQ%3D%3D?line=6'>7</a>\u001b[0m                      padding\u001b[39m=\u001b[39mold_conv\u001b[39m.\u001b[39mpadding, \n\u001b[1;32m      <a href='vscode-notebook-cell://ssh-remote%2Bjmgpu2.cs.umt.edu/home/sl221120/WildfireSpreadTS/swin.ipynb#X12sdnNjb2RlLXJlbW90ZQ%3D%3D?line=7'>8</a>\u001b[0m                      bias\u001b[39m=\u001b[39mold_conv\u001b[39m.\u001b[39mbias \u001b[39mis\u001b[39;00m \u001b[39mnot\u001b[39;00m \u001b[39mNone\u001b[39;00m)\n\u001b[1;32m     <a href='vscode-notebook-cell://ssh-remote%2Bjmgpu2.cs.umt.edu/home/sl221120/WildfireSpreadTS/swin.ipynb#X12sdnNjb2RlLXJlbW90ZQ%3D%3D?line=9'>10</a>\u001b[0m \u001b[39mwith\u001b[39;00m torch\u001b[39m.\u001b[39mno_grad():\n\u001b[0;32m---> <a href='vscode-notebook-cell://ssh-remote%2Bjmgpu2.cs.umt.edu/home/sl221120/WildfireSpreadTS/swin.ipynb#X12sdnNjb2RlLXJlbW90ZQ%3D%3D?line=10'>11</a>\u001b[0m     new_conv\u001b[39m.\u001b[39;49mweight[:,:\u001b[39m3\u001b[39;49m,:,:] \u001b[39m=\u001b[39m old_conv\u001b[39m.\u001b[39mweight\n\u001b[1;32m     <a href='vscode-notebook-cell://ssh-remote%2Bjmgpu2.cs.umt.edu/home/sl221120/WildfireSpreadTS/swin.ipynb#X12sdnNjb2RlLXJlbW90ZQ%3D%3D?line=11'>12</a>\u001b[0m     \u001b[39mif\u001b[39;00m n_features \u001b[39m>\u001b[39m \u001b[39m3\u001b[39m:\n\u001b[1;32m     <a href='vscode-notebook-cell://ssh-remote%2Bjmgpu2.cs.umt.edu/home/sl221120/WildfireSpreadTS/swin.ipynb#X12sdnNjb2RlLXJlbW90ZQ%3D%3D?line=12'>13</a>\u001b[0m         nn\u001b[39m.\u001b[39minit\u001b[39m.\u001b[39mkaiming_normal_(new_conv\u001b[39m.\u001b[39mweight[:, \u001b[39m3\u001b[39m:, :, :], mode\u001b[39m=\u001b[39m\u001b[39m'\u001b[39m\u001b[39mfan_out\u001b[39m\u001b[39m'\u001b[39m, nonlinearity\u001b[39m=\u001b[39m\u001b[39m'\u001b[39m\u001b[39mrelu\u001b[39m\u001b[39m'\u001b[39m)    \n",
      "\u001b[0;31mRuntimeError\u001b[0m: The expanded size of the tensor (3) must match the existing size (35) at non-singleton dimension 1.  Target sizes: [96, 3, 4, 4].  Tensor sizes: [96, 35, 4, 4]"
     ]
    }
   ],
   "source": [
    "n_features = FireSpreadDataset.get_n_features(n_leading_observations, features_to_keep, remove_duplicate_features)\n",
    "old_conv = model.swin_unet.patch_embed.proj\n",
    "\n",
    "new_conv = nn.Conv2d(n_features, old_conv.out_channels, \n",
    "                     kernel_size=old_conv.kernel_size, \n",
    "                     stride=old_conv.stride, \n",
    "                     padding=old_conv.padding, \n",
    "                     bias=old_conv.bias is not None)\n",
    "\n",
    "with torch.no_grad():\n",
    "    new_conv.weight[:,:3,:,:] = old_conv.weight\n",
    "    if n_features > 3:\n",
    "        nn.init.kaiming_normal_(new_conv.weight[:, 3:, :, :], mode='fan_out', nonlinearity='relu')    \n",
    "    if old_conv.bias is not None:\n",
    "        print(\"Old conv bias is not None. Replacing new bias with learned one.\")\n",
    "        new_conv.bias = old_conv.bias\n",
    "model.swin_unet.patch_embed.proj = new_conv"
   ]
  },
  {
   "cell_type": "code",
   "execution_count": 25,
   "metadata": {},
   "outputs": [
    {
     "name": "stdout",
     "output_type": "stream",
     "text": [
      "torch.Size([1, 1, 224, 224])\n"
     ]
    }
   ],
   "source": [
    "# Test with a dummy input to ensure it works\n",
    "dummy_image = torch.randn(1, n_features, 224, 224) \n",
    "output = model(dummy_image)\n",
    "print(output.shape)  #"
   ]
  },
  {
   "cell_type": "code",
   "execution_count": 2,
   "metadata": {},
   "outputs": [
    {
     "ename": "ModuleNotFoundError",
     "evalue": "No module named 'transformers'",
     "output_type": "error",
     "traceback": [
      "\u001b[0;31m---------------------------------------------------------------------------\u001b[0m",
      "\u001b[0;31mModuleNotFoundError\u001b[0m                       Traceback (most recent call last)",
      "\u001b[1;32m/home/sl221120/WildfireSpreadTS/swin.ipynb Cell 1\u001b[0m line \u001b[0;36m7\n\u001b[1;32m      <a href='vscode-notebook-cell://ssh-remote%2Bjmgpu2.cs.umt.edu/home/sl221120/WildfireSpreadTS/swin.ipynb#W0sdnNjb2RlLXJlbW90ZQ%3D%3D?line=4'>5</a>\u001b[0m \u001b[39mfrom\u001b[39;00m \u001b[39mpytorch_lightning\u001b[39;00m \u001b[39mimport\u001b[39;00m Trainer\n\u001b[1;32m      <a href='vscode-notebook-cell://ssh-remote%2Bjmgpu2.cs.umt.edu/home/sl221120/WildfireSpreadTS/swin.ipynb#W0sdnNjb2RlLXJlbW90ZQ%3D%3D?line=5'>6</a>\u001b[0m \u001b[39mfrom\u001b[39;00m \u001b[39mpytorch_lightning\u001b[39;00m\u001b[39m.\u001b[39;00m\u001b[39mcallbacks\u001b[39;00m \u001b[39mimport\u001b[39;00m ModelCheckpoint\n\u001b[0;32m----> <a href='vscode-notebook-cell://ssh-remote%2Bjmgpu2.cs.umt.edu/home/sl221120/WildfireSpreadTS/swin.ipynb#W0sdnNjb2RlLXJlbW90ZQ%3D%3D?line=6'>7</a>\u001b[0m \u001b[39mfrom\u001b[39;00m \u001b[39mtransformers\u001b[39;00m \u001b[39mimport\u001b[39;00m SwinForImageClassification, SwinConfig, SwinModel\n\u001b[1;32m      <a href='vscode-notebook-cell://ssh-remote%2Bjmgpu2.cs.umt.edu/home/sl221120/WildfireSpreadTS/swin.ipynb#W0sdnNjb2RlLXJlbW90ZQ%3D%3D?line=7'>8</a>\u001b[0m \u001b[39mimport\u001b[39;00m \u001b[39mtorch\u001b[39;00m\u001b[39m.\u001b[39;00m\u001b[39mnn\u001b[39;00m\u001b[39m.\u001b[39;00m\u001b[39mfunctional\u001b[39;00m \u001b[39mas\u001b[39;00m \u001b[39mF\u001b[39;00m\n\u001b[1;32m     <a href='vscode-notebook-cell://ssh-remote%2Bjmgpu2.cs.umt.edu/home/sl221120/WildfireSpreadTS/swin.ipynb#W0sdnNjb2RlLXJlbW90ZQ%3D%3D?line=9'>10</a>\u001b[0m \u001b[39m# Import your dataset and datamodule\u001b[39;00m\n",
      "\u001b[0;31mModuleNotFoundError\u001b[0m: No module named 'transformers'"
     ]
    }
   ],
   "source": [
    "import torch\n",
    "from torch import nn\n",
    "from torch.utils.data import DataLoader\n",
    "import pytorch_lightning as pl\n",
    "from pytorch_lightning import Trainer\n",
    "from pytorch_lightning.callbacks import ModelCheckpoint\n",
    "from transformers import SwinForImageClassification, SwinConfig, SwinModel\n",
    "import torch.nn.functional as F\n",
    "\n",
    "# Import your dataset and datamodule\n",
    "from src.dataloader.FireSpreadDataModule import FireSpreadDataModule\n",
    "from src.dataloader.FireSpreadDataset import FireSpreadDataset\n",
    "\n",
    "# Define your own model class by extending the pretrained Swin model\n",
    "class SwinFineTuner(pl.LightningModule):\n",
    "    def __init__(self):\n",
    "        super(SwinFineTuner, self).__init__()\n",
    "        config = SwinConfig.from_pretrained(\"microsoft/swin-tiny-patch4-window7-224\")\n",
    "        self.model = SwinModel(config)\n",
    "        \n",
    "        # Add a final convolutional layer to generate a binary mask\n",
    "        self.classifier = nn.Conv2d(config.hidden_size, 1, kernel_size=1)\n",
    "        \n",
    "        self.criterion = nn.BCEWithLogitsLoss()\n",
    "\n",
    "    def forward(self, x):\n",
    "        outputs = self.model(x).last_hidden_state\n",
    "        outputs = outputs.permute(0, 3, 1, 2)  # Change shape to [batch, hidden_size, height, width]\n",
    "        logits = self.classifier(outputs)\n",
    "        return logits\n",
    "\n",
    "    def training_step(self, batch, batch_idx):\n",
    "        inputs, labels = batch\n",
    "        outputs = self(inputs)\n",
    "        loss = self.criterion(outputs, labels)\n",
    "        return loss\n",
    "\n",
    "    def configure_optimizers(self):\n",
    "        optimizer = torch.optim.Adam(self.parameters(), lr=1e-4)\n",
    "        return optimizer\n",
    "\n",
    "    def validation_step(self, batch, batch_idx):\n",
    "        inputs, labels = batch\n",
    "        outputs = self(inputs)\n",
    "        loss = self.criterion(outputs, labels)\n",
    "        self.log('val_loss', loss, prog_bar=True)\n",
    "        return loss\n",
    "\n",
    "# Parameters\n",
    "batch_size = 16\n",
    "\n",
    "# Initialize the data module\n",
    "data_module = FireSpreadDataModule(batch_size=batch_size)\n",
    "\n",
    "# Initialize the model\n",
    "model = SwinFineTuner()\n",
    "\n",
    "# Set up a model checkpoint callback\n",
    "checkpoint_callback = ModelCheckpoint(\n",
    "    monitor=\"val_loss\",\n",
    "    dirpath=\"./checkpoints\",\n",
    "    filename=\"swin-transformer-{epoch:02d}-{val_loss:.2f}\",\n",
    "    save_top_k=1,\n",
    "    mode=\"min\",\n",
    ")\n",
    "\n",
    "# Initialize the trainer\n",
    "trainer = Trainer(\n",
    "    max_epochs=1,\n",
    "    gpus=1,  # Use GPU if available\n",
    "    callbacks=[checkpoint_callback]\n",
    ")\n",
    "\n"
   ]
  },
  {
   "cell_type": "code",
   "execution_count": null,
   "metadata": {},
   "outputs": [],
   "source": [
    "\n",
    "# Train the model\n",
    "trainer.fit(model, datamodule=data_module)\n"
   ]
  }
 ],
 "metadata": {
  "kernelspec": {
   "display_name": "fire_ts",
   "language": "python",
   "name": "python3"
  },
  "language_info": {
   "codemirror_mode": {
    "name": "ipython",
    "version": 3
   },
   "file_extension": ".py",
   "mimetype": "text/x-python",
   "name": "python",
   "nbconvert_exporter": "python",
   "pygments_lexer": "ipython3",
   "version": "3.10.4"
  }
 },
 "nbformat": 4,
 "nbformat_minor": 2
}
